{
  "cells": [
    {
      "cell_type": "markdown",
      "metadata": {
        "id": "1GHJkeI7ikNV"
      },
      "source": [
        "**Import dependecies**"
      ]
    },
    {
      "cell_type": "code",
      "execution_count": 2,
      "metadata": {},
      "outputs": [
        {
          "name": "stdout",
          "output_type": "stream",
          "text": [
            "Requirement already satisfied: tensorflow in c:\\users\\paula\\miniconda3\\envs\\tf\\lib\\site-packages (2.9.1)\n",
            "Requirement already satisfied: tensorflow-estimator<2.10.0,>=2.9.0rc0 in c:\\users\\paula\\miniconda3\\envs\\tf\\lib\\site-packages (from tensorflow) (2.9.0)\n",
            "Requirement already satisfied: six>=1.12.0 in c:\\users\\paula\\miniconda3\\envs\\tf\\lib\\site-packages (from tensorflow) (1.16.0)\n",
            "Requirement already satisfied: grpcio<2.0,>=1.24.3 in c:\\users\\paula\\miniconda3\\envs\\tf\\lib\\site-packages (from tensorflow) (1.47.0)\n",
            "Requirement already satisfied: wrapt>=1.11.0 in c:\\users\\paula\\miniconda3\\envs\\tf\\lib\\site-packages (from tensorflow) (1.14.1)\n",
            "Requirement already satisfied: astunparse>=1.6.0 in c:\\users\\paula\\miniconda3\\envs\\tf\\lib\\site-packages (from tensorflow) (1.6.3)\n",
            "Requirement already satisfied: packaging in c:\\users\\paula\\miniconda3\\envs\\tf\\lib\\site-packages (from tensorflow) (21.3)\n",
            "Requirement already satisfied: gast<=0.4.0,>=0.2.1 in c:\\users\\paula\\miniconda3\\envs\\tf\\lib\\site-packages (from tensorflow) (0.4.0)\n",
            "Requirement already satisfied: h5py>=2.9.0 in c:\\users\\paula\\miniconda3\\envs\\tf\\lib\\site-packages (from tensorflow) (3.7.0)\n",
            "Requirement already satisfied: flatbuffers<2,>=1.12 in c:\\users\\paula\\miniconda3\\envs\\tf\\lib\\site-packages (from tensorflow) (1.12)\n",
            "Requirement already satisfied: termcolor>=1.1.0 in c:\\users\\paula\\miniconda3\\envs\\tf\\lib\\site-packages (from tensorflow) (1.1.0)\n",
            "Requirement already satisfied: absl-py>=1.0.0 in c:\\users\\paula\\miniconda3\\envs\\tf\\lib\\site-packages (from tensorflow) (1.2.0)\n",
            "Requirement already satisfied: libclang>=13.0.0 in c:\\users\\paula\\miniconda3\\envs\\tf\\lib\\site-packages (from tensorflow) (14.0.1)\n",
            "Requirement already satisfied: setuptools in c:\\users\\paula\\miniconda3\\envs\\tf\\lib\\site-packages (from tensorflow) (63.2.0)\n",
            "Requirement already satisfied: tensorflow-io-gcs-filesystem>=0.23.1 in c:\\users\\paula\\miniconda3\\envs\\tf\\lib\\site-packages (from tensorflow) (0.26.0)\n",
            "Requirement already satisfied: google-pasta>=0.1.1 in c:\\users\\paula\\miniconda3\\envs\\tf\\lib\\site-packages (from tensorflow) (0.2.0)\n",
            "Requirement already satisfied: keras-preprocessing>=1.1.1 in c:\\users\\paula\\miniconda3\\envs\\tf\\lib\\site-packages (from tensorflow) (1.1.2)\n",
            "Requirement already satisfied: typing-extensions>=3.6.6 in c:\\users\\paula\\miniconda3\\envs\\tf\\lib\\site-packages (from tensorflow) (4.3.0)\n",
            "Requirement already satisfied: numpy>=1.20 in c:\\users\\paula\\miniconda3\\envs\\tf\\lib\\site-packages (from tensorflow) (1.23.1)\n",
            "Requirement already satisfied: opt-einsum>=2.3.2 in c:\\users\\paula\\miniconda3\\envs\\tf\\lib\\site-packages (from tensorflow) (3.3.0)\n",
            "Requirement already satisfied: tensorboard<2.10,>=2.9 in c:\\users\\paula\\miniconda3\\envs\\tf\\lib\\site-packages (from tensorflow) (2.9.1)\n",
            "Requirement already satisfied: protobuf<3.20,>=3.9.2 in c:\\users\\paula\\miniconda3\\envs\\tf\\lib\\site-packages (from tensorflow) (3.19.4)\n",
            "Requirement already satisfied: keras<2.10.0,>=2.9.0rc0 in c:\\users\\paula\\miniconda3\\envs\\tf\\lib\\site-packages (from tensorflow) (2.9.0)\n",
            "Requirement already satisfied: wheel<1.0,>=0.23.0 in c:\\users\\paula\\miniconda3\\envs\\tf\\lib\\site-packages (from astunparse>=1.6.0->tensorflow) (0.37.1)\n",
            "Requirement already satisfied: requests<3,>=2.21.0 in c:\\users\\paula\\miniconda3\\envs\\tf\\lib\\site-packages (from tensorboard<2.10,>=2.9->tensorflow) (2.28.1)\n",
            "Requirement already satisfied: tensorboard-plugin-wit>=1.6.0 in c:\\users\\paula\\miniconda3\\envs\\tf\\lib\\site-packages (from tensorboard<2.10,>=2.9->tensorflow) (1.8.1)\n",
            "Requirement already satisfied: markdown>=2.6.8 in c:\\users\\paula\\miniconda3\\envs\\tf\\lib\\site-packages (from tensorboard<2.10,>=2.9->tensorflow) (3.4.1)\n",
            "Requirement already satisfied: google-auth<3,>=1.6.3 in c:\\users\\paula\\miniconda3\\envs\\tf\\lib\\site-packages (from tensorboard<2.10,>=2.9->tensorflow) (2.9.1)\n",
            "Requirement already satisfied: werkzeug>=1.0.1 in c:\\users\\paula\\miniconda3\\envs\\tf\\lib\\site-packages (from tensorboard<2.10,>=2.9->tensorflow) (2.1.2)\n",
            "Requirement already satisfied: google-auth-oauthlib<0.5,>=0.4.1 in c:\\users\\paula\\miniconda3\\envs\\tf\\lib\\site-packages (from tensorboard<2.10,>=2.9->tensorflow) (0.4.6)\n",
            "Requirement already satisfied: tensorboard-data-server<0.7.0,>=0.6.0 in c:\\users\\paula\\miniconda3\\envs\\tf\\lib\\site-packages (from tensorboard<2.10,>=2.9->tensorflow) (0.6.1)\n",
            "Requirement already satisfied: pyparsing!=3.0.5,>=2.0.2 in c:\\users\\paula\\miniconda3\\envs\\tf\\lib\\site-packages (from packaging->tensorflow) (3.0.9)\n",
            "Requirement already satisfied: pyasn1-modules>=0.2.1 in c:\\users\\paula\\miniconda3\\envs\\tf\\lib\\site-packages (from google-auth<3,>=1.6.3->tensorboard<2.10,>=2.9->tensorflow) (0.2.8)\n",
            "Requirement already satisfied: cachetools<6.0,>=2.0.0 in c:\\users\\paula\\miniconda3\\envs\\tf\\lib\\site-packages (from google-auth<3,>=1.6.3->tensorboard<2.10,>=2.9->tensorflow) (5.2.0)\n",
            "Requirement already satisfied: rsa<5,>=3.1.4 in c:\\users\\paula\\miniconda3\\envs\\tf\\lib\\site-packages (from google-auth<3,>=1.6.3->tensorboard<2.10,>=2.9->tensorflow) (4.9)\n",
            "Requirement already satisfied: requests-oauthlib>=0.7.0 in c:\\users\\paula\\miniconda3\\envs\\tf\\lib\\site-packages (from google-auth-oauthlib<0.5,>=0.4.1->tensorboard<2.10,>=2.9->tensorflow) (1.3.1)\n",
            "Requirement already satisfied: importlib-metadata>=4.4 in c:\\users\\paula\\miniconda3\\envs\\tf\\lib\\site-packages (from markdown>=2.6.8->tensorboard<2.10,>=2.9->tensorflow) (4.12.0)\n",
            "Requirement already satisfied: certifi>=2017.4.17 in c:\\users\\paula\\miniconda3\\envs\\tf\\lib\\site-packages (from requests<3,>=2.21.0->tensorboard<2.10,>=2.9->tensorflow) (2022.6.15)\n",
            "Requirement already satisfied: idna<4,>=2.5 in c:\\users\\paula\\miniconda3\\envs\\tf\\lib\\site-packages (from requests<3,>=2.21.0->tensorboard<2.10,>=2.9->tensorflow) (3.3)\n",
            "Requirement already satisfied: charset-normalizer<3,>=2 in c:\\users\\paula\\miniconda3\\envs\\tf\\lib\\site-packages (from requests<3,>=2.21.0->tensorboard<2.10,>=2.9->tensorflow) (2.1.0)\n",
            "Requirement already satisfied: urllib3<1.27,>=1.21.1 in c:\\users\\paula\\miniconda3\\envs\\tf\\lib\\site-packages (from requests<3,>=2.21.0->tensorboard<2.10,>=2.9->tensorflow) (1.26.10)\n",
            "Requirement already satisfied: zipp>=0.5 in c:\\users\\paula\\miniconda3\\envs\\tf\\lib\\site-packages (from importlib-metadata>=4.4->markdown>=2.6.8->tensorboard<2.10,>=2.9->tensorflow) (3.8.1)\n",
            "Requirement already satisfied: pyasn1<0.5.0,>=0.4.6 in c:\\users\\paula\\miniconda3\\envs\\tf\\lib\\site-packages (from pyasn1-modules>=0.2.1->google-auth<3,>=1.6.3->tensorboard<2.10,>=2.9->tensorflow) (0.4.8)\n",
            "Requirement already satisfied: oauthlib>=3.0.0 in c:\\users\\paula\\miniconda3\\envs\\tf\\lib\\site-packages (from requests-oauthlib>=0.7.0->google-auth-oauthlib<0.5,>=0.4.1->tensorboard<2.10,>=2.9->tensorflow) (3.2.0)\n",
            "Note: you may need to restart the kernel to use updated packages.\n",
            "Requirement already satisfied: pydot in c:\\users\\paula\\miniconda3\\envs\\tf\\lib\\site-packages (1.4.2)\n",
            "Requirement already satisfied: graphviz in c:\\users\\paula\\miniconda3\\envs\\tf\\lib\\site-packages (0.20)\n",
            "Requirement already satisfied: pyparsing>=2.1.4 in c:\\users\\paula\\miniconda3\\envs\\tf\\lib\\site-packages (from pydot) (3.0.9)\n",
            "Note: you may need to restart the kernel to use updated packages.\n",
            "Requirement already satisfied: pandas in c:\\users\\paula\\miniconda3\\envs\\tf\\lib\\site-packages (1.4.3)\n",
            "Requirement already satisfied: numpy in c:\\users\\paula\\miniconda3\\envs\\tf\\lib\\site-packages (1.23.1)\n",
            "Requirement already satisfied: pillow in c:\\users\\paula\\miniconda3\\envs\\tf\\lib\\site-packages (9.2.0)\n",
            "Requirement already satisfied: matplotlib in c:\\users\\paula\\miniconda3\\envs\\tf\\lib\\site-packages (3.5.2)\n",
            "Requirement already satisfied: scipy in c:\\users\\paula\\miniconda3\\envs\\tf\\lib\\site-packages (1.8.1)\n",
            "Requirement already satisfied: autopep8 in c:\\users\\paula\\miniconda3\\envs\\tf\\lib\\site-packages (1.6.0)\n",
            "Requirement already satisfied: pydot in c:\\users\\paula\\miniconda3\\envs\\tf\\lib\\site-packages (1.4.2)\n",
            "Requirement already satisfied: pytz>=2020.1 in c:\\users\\paula\\miniconda3\\envs\\tf\\lib\\site-packages (from pandas) (2022.1)\n",
            "Requirement already satisfied: python-dateutil>=2.8.1 in c:\\users\\paula\\miniconda3\\envs\\tf\\lib\\site-packages (from pandas) (2.8.2)\n",
            "Requirement already satisfied: pyparsing>=2.2.1 in c:\\users\\paula\\miniconda3\\envs\\tf\\lib\\site-packages (from matplotlib) (3.0.9)\n",
            "Requirement already satisfied: packaging>=20.0 in c:\\users\\paula\\miniconda3\\envs\\tf\\lib\\site-packages (from matplotlib) (21.3)\n",
            "Requirement already satisfied: kiwisolver>=1.0.1 in c:\\users\\paula\\miniconda3\\envs\\tf\\lib\\site-packages (from matplotlib) (1.4.4)\n",
            "Requirement already satisfied: cycler>=0.10 in c:\\users\\paula\\miniconda3\\envs\\tf\\lib\\site-packages (from matplotlib) (0.11.0)\n",
            "Requirement already satisfied: fonttools>=4.22.0 in c:\\users\\paula\\miniconda3\\envs\\tf\\lib\\site-packages (from matplotlib) (4.34.4)\n",
            "Requirement already satisfied: toml in c:\\users\\paula\\miniconda3\\envs\\tf\\lib\\site-packages (from autopep8) (0.10.2)\n",
            "Requirement already satisfied: pycodestyle>=2.8.0 in c:\\users\\paula\\miniconda3\\envs\\tf\\lib\\site-packages (from autopep8) (2.8.0)\n",
            "Requirement already satisfied: six>=1.5 in c:\\users\\paula\\miniconda3\\envs\\tf\\lib\\site-packages (from python-dateutil>=2.8.1->pandas) (1.16.0)\n",
            "Note: you may need to restart the kernel to use updated packages.\n",
            "The tensorboard extension is already loaded. To reload it, use:\n",
            "  %reload_ext tensorboard\n"
          ]
        }
      ],
      "source": [
        "'''\n",
        "%conda install -c apple tensorflow-deps scipy #macos\n",
        "%pip install tensorflow-macos tensorflow-metal #macos\n",
        "\n",
        "%pip install --upgrade tensorflow \n",
        "%pip install pydot graphviz\n",
        "\n",
        "%pip install pandas numpy pillow matplotlib scipy autopep8 pydot\n",
        "'''"
      ]
    },
    {
      "cell_type": "code",
      "execution_count": 21,
      "metadata": {},
      "outputs": [
        {
          "name": "stdout",
          "output_type": "stream",
          "text": [
            "The tensorboard extension is already loaded. To reload it, use:\n",
            "  %reload_ext tensorboard\n"
          ]
        }
      ],
      "source": [
        "%load_ext tensorboard"
      ]
    },
    {
      "cell_type": "code",
      "execution_count": null,
      "metadata": {},
      "outputs": [],
      "source": [
        "import tensorflow as tf\n",
        "print(\"Num GPUs Available: \", len(tf.config.list_physical_devices('GPU')))"
      ]
    },
    {
      "cell_type": "code",
      "execution_count": 3,
      "metadata": {
        "id": "eJiLL0VGe_wI"
      },
      "outputs": [],
      "source": [
        "import os\n",
        "from tensorflow import keras\n",
        "from keras.applications.vgg16 import VGG16\n",
        "from keras.optimizers import Adam\n",
        "from keras.preprocessing.image import ImageDataGenerator\n",
        "from keras import layers\n",
        "from keras import Model\n",
        "import datetime\n",
        "\n",
        "fruit = \"apple\"\n",
        "model_current = \"vgg16\"\n",
        "curr_datetime = datetime.datetime.now().strftime(\"%Y%m%d-%H%M%S\")\n",
        "run_prefix = f'./runs/{fruit}/{model_current}/{curr_datetime}/'\n",
        "results_prefix = f'./results/{fruit}/{model_current}/{curr_datetime}/'\n",
        "log_dir = f'logs/fit/{fruit}/{model_current}/{curr_datetime}'\n",
        "os.makedirs(run_prefix, exist_ok=True)\n",
        "os.makedirs(results_prefix, exist_ok=True)\n",
        "run_prefix"
      ]
    },
    {
      "cell_type": "markdown",
      "metadata": {
        "id": "7XFtXmuTisRa"
      },
      "source": [
        "**Create an imagedatagenerator object to label data**"
      ]
    },
    {
      "cell_type": "code",
      "execution_count": 4,
      "metadata": {
        "colab": {
          "base_uri": "https://localhost:8080/"
        },
        "id": "7nhMVi8sc-iA",
        "outputId": "d3b3b177-4001-4d64-8e4a-e1efd77dbb9b"
      },
      "outputs": [
        {
          "name": "stdout",
          "output_type": "stream",
          "text": [
            "Found 8000 images belonging to 2 classes.\n",
            "Found 2000 images belonging to 2 classes.\n"
          ]
        }
      ],
      "source": [
        "input_size = 128\n",
        "batch_size = 32\n",
        "train_size = 8000\n",
        "test_size = 2000\n",
        "learning_rate = 0.001\n",
        "epochs = 100\n",
        "dropout = 0.2\n",
        "dense_size = 1024\n",
        "\n",
        "train_datagen = ImageDataGenerator(rescale = 1./255)\n",
        "test_datagen = ImageDataGenerator(rescale = 1./255)\n",
        "train_dir = f\"./dataset_frutas_colab/{fruit}/train\"\n",
        "test_dir = f\"./dataset_frutas_colab/{fruit}/test\"\n",
        "train_generator = train_datagen.flow_from_directory(train_dir,batch_size=batch_size,class_mode = 'binary', target_size=(input_size,input_size))\n",
        "test_generator = test_datagen.flow_from_directory(test_dir,batch_size=batch_size,class_mode = 'binary', target_size=(input_size,input_size))"
      ]
    },
    {
      "cell_type": "markdown",
      "metadata": {},
      "source": [
        "VGG16 model"
      ]
    },
    {
      "cell_type": "code",
      "execution_count": 5,
      "metadata": {
        "id": "ge7tchaKGh9C"
      },
      "outputs": [],
      "source": [
        "pre_trained_model = VGG16(\n",
        "    input_shape = (input_size,input_size,3),\n",
        "    include_top = False\n",
        ")\n"
      ]
    },
    {
      "cell_type": "markdown",
      "metadata": {
        "id": "efoR8KpwGa-i"
      },
      "source": [
        "Start transfer learning process"
      ]
    },
    {
      "cell_type": "code",
      "execution_count": null,
      "metadata": {},
      "outputs": [],
      "source": [
        "for layer in pre_trained_model.layers:\n",
        "  layer.trainable = False"
      ]
    },
    {
      "cell_type": "code",
      "execution_count": 6,
      "metadata": {
        "id": "ucb7feWOGt3h"
      },
      "outputs": [],
      "source": [
        "import tensorflow as tf\n",
        "#Flatten\n",
        "x = layers.Flatten()(pre_trained_model.output)\n",
        "#Fully connected layer con 1,024 hidden units y ReLU\n",
        "x = layers.Dense(dense_size, activation='relu')(x)\n",
        "#Dropout rate\n",
        "x = layers.Dropout(dropout)(x)\n",
        "#Función de clasificación sigmoidal - Clasificación binaria\n",
        "x = layers.Dense(1,activation='sigmoid')(x)\n",
        "\n",
        "model = Model(pre_trained_model.input,x)\n",
        "\n",
        "model.compile(optimizer = Adam(learning_rate=learning_rate),\n",
        "              loss='binary_crossentropy',\n",
        "              metrics = [tf.keras.metrics.Accuracy(),\n",
        "                         tf.keras.metrics.Precision(), \n",
        "                         tf.keras.metrics.Recall()])"
      ]
    },
    {
      "cell_type": "code",
      "execution_count": 7,
      "metadata": {},
      "outputs": [
        {
          "name": "stdout",
          "output_type": "stream",
          "text": [
            "Saved Model Image\n"
          ]
        }
      ],
      "source": [
        "tf.keras.utils.plot_model(\n",
        "    model,\n",
        "    to_file=f\"{run_prefix}model.png\",\n",
        "    show_shapes=True,\n",
        "    show_dtype=False,\n",
        "    show_layer_names=True,\n",
        "    rankdir=\"TB\",\n",
        "    expand_nested=True,\n",
        "    dpi=96,\n",
        "    layer_range=None,\n",
        "    show_layer_activations=True,\n",
        ")\n",
        "print(\"Saved Model Image\")"
      ]
    },
    {
      "cell_type": "code",
      "execution_count": 8,
      "metadata": {
        "colab": {
          "base_uri": "https://localhost:8080/"
        },
        "id": "mRJn0TwfHCGr",
        "outputId": "5e1c64ab-847d-4dae-94c3-96726d624c0c"
      },
      "outputs": [
        {
          "name": "stdout",
          "output_type": "stream",
          "text": [
            "Epoch 1/100\n",
            "500/500 [==============================] - 73s 135ms/step - loss: 0.2375 - accuracy: 0.0705 - precision: 0.9451 - recall: 0.9507 - val_loss: 0.0663 - val_accuracy: 0.0485 - val_precision: 0.9917 - val_recall: 0.9560\n",
            "Epoch 2/100\n",
            "500/500 [==============================] - 66s 132ms/step - loss: 0.0693 - accuracy: 0.1053 - precision: 0.9790 - recall: 0.9797 - val_loss: 0.0337 - val_accuracy: 0.1535 - val_precision: 0.9862 - val_recall: 0.9980\n",
            "Epoch 3/100\n",
            "500/500 [==============================] - 66s 132ms/step - loss: 0.0830 - accuracy: 0.1736 - precision: 0.9770 - recall: 0.9790 - val_loss: 0.0251 - val_accuracy: 0.1195 - val_precision: 0.9940 - val_recall: 0.9940\n",
            "Epoch 4/100\n",
            "500/500 [==============================] - 66s 132ms/step - loss: 0.0539 - accuracy: 0.1859 - precision: 0.9845 - recall: 0.9862 - val_loss: 0.0233 - val_accuracy: 0.1725 - val_precision: 0.9910 - val_recall: 0.9940\n",
            "Epoch 5/100\n",
            "500/500 [==============================] - 66s 132ms/step - loss: 0.0520 - accuracy: 0.2585 - precision: 0.9860 - recall: 0.9858 - val_loss: 0.0273 - val_accuracy: 0.2275 - val_precision: 0.9930 - val_recall: 0.9930\n",
            "Epoch 6/100\n",
            "500/500 [==============================] - 65s 130ms/step - loss: 0.0612 - accuracy: 0.3249 - precision: 0.9845 - recall: 0.9850 - val_loss: 0.1073 - val_accuracy: 0.2325 - val_precision: 0.9958 - val_recall: 0.9510\n",
            "Epoch 7/100\n",
            "500/500 [==============================] - 68s 135ms/step - loss: 0.0770 - accuracy: 0.3950 - precision: 0.9845 - recall: 0.9837 - val_loss: 0.0253 - val_accuracy: 0.3970 - val_precision: 0.9891 - val_recall: 0.9970\n",
            "Epoch 8/100\n",
            "500/500 [==============================] - 67s 134ms/step - loss: 0.0580 - accuracy: 0.3989 - precision: 0.9870 - recall: 0.9875 - val_loss: 0.0343 - val_accuracy: 0.4095 - val_precision: 0.9872 - val_recall: 1.0000\n",
            "Epoch 9/100\n",
            "500/500 [==============================] - 66s 132ms/step - loss: 0.0316 - accuracy: 0.4047 - precision: 0.9920 - recall: 0.9915 - val_loss: 0.0259 - val_accuracy: 0.4000 - val_precision: 0.9911 - val_recall: 0.9990\n",
            "Epoch 10/100\n",
            "500/500 [==============================] - 67s 134ms/step - loss: 0.0303 - accuracy: 0.4070 - precision: 0.9925 - recall: 0.9935 - val_loss: 0.0777 - val_accuracy: 0.5045 - val_precision: 0.9813 - val_recall: 0.9990\n",
            "Epoch 11/100\n",
            "500/500 [==============================] - 66s 133ms/step - loss: 0.0593 - accuracy: 0.4614 - precision: 0.9883 - recall: 0.9885 - val_loss: 0.0320 - val_accuracy: 0.5800 - val_precision: 0.9930 - val_recall: 0.9970\n",
            "Epoch 12/100\n",
            "500/500 [==============================] - 69s 138ms/step - loss: 0.0430 - accuracy: 0.5422 - precision: 0.9925 - recall: 0.9935 - val_loss: 0.0336 - val_accuracy: 0.4860 - val_precision: 0.9940 - val_recall: 0.9940\n",
            "Epoch 13/100\n",
            "500/500 [==============================] - 67s 133ms/step - loss: 0.0745 - accuracy: 0.5397 - precision: 0.9877 - recall: 0.9870 - val_loss: 0.0623 - val_accuracy: 0.6145 - val_precision: 0.9881 - val_recall: 0.9960\n",
            "Epoch 14/100\n",
            "500/500 [==============================] - 67s 134ms/step - loss: 0.0476 - accuracy: 0.5511 - precision: 0.9925 - recall: 0.9918 - val_loss: 0.0448 - val_accuracy: 0.5600 - val_precision: 0.9911 - val_recall: 0.9970\n",
            "Epoch 15/100\n",
            "500/500 [==============================] - 68s 135ms/step - loss: 0.0204 - accuracy: 0.5107 - precision: 0.9955 - recall: 0.9960 - val_loss: 0.0233 - val_accuracy: 0.5165 - val_precision: 0.9920 - val_recall: 0.9980\n",
            "Epoch 16/100\n",
            "500/500 [==============================] - 67s 133ms/step - loss: 0.0195 - accuracy: 0.4978 - precision: 0.9958 - recall: 0.9960 - val_loss: 0.0289 - val_accuracy: 0.5235 - val_precision: 0.9921 - val_recall: 0.9990\n",
            "Epoch 17/100\n",
            "500/500 [==============================] - 66s 132ms/step - loss: 0.0300 - accuracy: 0.5194 - precision: 0.9942 - recall: 0.9940 - val_loss: 0.0463 - val_accuracy: 0.5495 - val_precision: 0.9872 - val_recall: 1.0000\n",
            "Epoch 18/100\n",
            "500/500 [==============================] - 67s 133ms/step - loss: 0.0351 - accuracy: 0.5299 - precision: 0.9930 - recall: 0.9933 - val_loss: 0.0391 - val_accuracy: 0.5550 - val_precision: 0.9911 - val_recall: 0.9980\n",
            "Epoch 19/100\n",
            "500/500 [==============================] - 66s 132ms/step - loss: 0.0382 - accuracy: 0.5700 - precision: 0.9928 - recall: 0.9933 - val_loss: 0.0707 - val_accuracy: 0.6275 - val_precision: 0.9843 - val_recall: 1.0000\n",
            "Epoch 20/100\n",
            "500/500 [==============================] - 66s 132ms/step - loss: 0.0212 - accuracy: 0.5871 - precision: 0.9962 - recall: 0.9960 - val_loss: 0.0524 - val_accuracy: 0.5870 - val_precision: 0.9891 - val_recall: 1.0000\n",
            "Epoch 21/100\n",
            "500/500 [==============================] - 67s 134ms/step - loss: 0.0120 - accuracy: 0.5906 - precision: 0.9963 - recall: 0.9970 - val_loss: 0.1008 - val_accuracy: 0.5860 - val_precision: 0.9804 - val_recall: 1.0000\n",
            "Epoch 22/100\n",
            "500/500 [==============================] - 67s 133ms/step - loss: 0.0342 - accuracy: 0.6018 - precision: 0.9940 - recall: 0.9940 - val_loss: 0.0489 - val_accuracy: 0.6515 - val_precision: 0.9911 - val_recall: 0.9970\n",
            "Epoch 23/100\n",
            "500/500 [==============================] - 67s 133ms/step - loss: 0.0415 - accuracy: 0.6556 - precision: 0.9940 - recall: 0.9948 - val_loss: 0.0377 - val_accuracy: 0.7290 - val_precision: 0.9930 - val_recall: 0.9990\n",
            "Epoch 24/100\n",
            "500/500 [==============================] - 65s 129ms/step - loss: 0.0383 - accuracy: 0.7159 - precision: 0.9937 - recall: 0.9935 - val_loss: 0.0329 - val_accuracy: 0.7875 - val_precision: 0.9970 - val_recall: 0.9910\n",
            "Epoch 25/100\n",
            "500/500 [==============================] - 66s 133ms/step - loss: 0.0423 - accuracy: 0.7448 - precision: 0.9938 - recall: 0.9950 - val_loss: 0.0360 - val_accuracy: 0.7850 - val_precision: 0.9921 - val_recall: 1.0000\n",
            "Epoch 26/100\n",
            "500/500 [==============================] - 65s 130ms/step - loss: 0.0238 - accuracy: 0.7333 - precision: 0.9970 - recall: 0.9967 - val_loss: 0.0972 - val_accuracy: 0.7640 - val_precision: 0.9862 - val_recall: 1.0000\n",
            "Epoch 27/100\n",
            "500/500 [==============================] - 64s 128ms/step - loss: 0.0388 - accuracy: 0.7566 - precision: 0.9942 - recall: 0.9940 - val_loss: 0.0311 - val_accuracy: 0.7770 - val_precision: 0.9950 - val_recall: 0.9940\n",
            "Epoch 28/100\n",
            "500/500 [==============================] - 64s 129ms/step - loss: 0.0223 - accuracy: 0.7355 - precision: 0.9967 - recall: 0.9967 - val_loss: 0.0475 - val_accuracy: 0.7640 - val_precision: 0.9970 - val_recall: 0.9840\n",
            "Epoch 29/100\n",
            "500/500 [==============================] - 64s 129ms/step - loss: 0.0152 - accuracy: 0.7420 - precision: 0.9977 - recall: 0.9975 - val_loss: 0.0519 - val_accuracy: 0.7370 - val_precision: 0.9901 - val_recall: 1.0000\n",
            "Epoch 30/100\n",
            "500/500 [==============================] - 64s 128ms/step - loss: 0.0125 - accuracy: 0.7374 - precision: 0.9978 - recall: 0.9980 - val_loss: 0.0498 - val_accuracy: 0.7730 - val_precision: 0.9921 - val_recall: 1.0000\n",
            "Epoch 31/100\n",
            "500/500 [==============================] - 65s 130ms/step - loss: 0.0417 - accuracy: 0.8043 - precision: 0.9945 - recall: 0.9945 - val_loss: 0.0292 - val_accuracy: 0.8700 - val_precision: 0.9930 - val_recall: 0.9990\n",
            "Epoch 32/100\n",
            "500/500 [==============================] - 56s 111ms/step - loss: 0.0340 - accuracy: 0.8410 - precision: 0.9953 - recall: 0.9960 - val_loss: 0.0609 - val_accuracy: 0.8265 - val_precision: 0.9881 - val_recall: 1.0000\n",
            "Epoch 33/100\n",
            "500/500 [==============================] - 56s 111ms/step - loss: 0.0098 - accuracy: 0.8376 - precision: 0.9982 - recall: 0.9977 - val_loss: 0.5198 - val_accuracy: 0.7590 - val_precision: 0.9488 - val_recall: 1.0000\n",
            "Epoch 34/100\n",
            "500/500 [==============================] - 56s 111ms/step - loss: 0.0714 - accuracy: 0.8670 - precision: 0.9925 - recall: 0.9927 - val_loss: 0.1255 - val_accuracy: 0.8575 - val_precision: 0.9872 - val_recall: 1.0000\n",
            "Epoch 35/100\n",
            "500/500 [==============================] - 56s 111ms/step - loss: 0.0328 - accuracy: 0.8767 - precision: 0.9962 - recall: 0.9962 - val_loss: 0.1847 - val_accuracy: 0.8770 - val_precision: 0.9823 - val_recall: 1.0000\n",
            "Epoch 36/100\n",
            "500/500 [==============================] - 56s 111ms/step - loss: 0.0177 - accuracy: 0.9019 - precision: 0.9980 - recall: 0.9985 - val_loss: 0.0429 - val_accuracy: 0.9220 - val_precision: 0.9950 - val_recall: 0.9990\n",
            "Epoch 37/100\n",
            "500/500 [==============================] - 55s 111ms/step - loss: 0.0315 - accuracy: 0.8963 - precision: 0.9962 - recall: 0.9962 - val_loss: 0.0699 - val_accuracy: 0.8980 - val_precision: 0.9901 - val_recall: 1.0000\n",
            "Epoch 38/100\n",
            "500/500 [==============================] - 56s 111ms/step - loss: 0.0252 - accuracy: 0.8930 - precision: 0.9973 - recall: 0.9973 - val_loss: 0.0819 - val_accuracy: 0.8965 - val_precision: 0.9891 - val_recall: 1.0000\n",
            "Epoch 39/100\n",
            "500/500 [==============================] - 56s 111ms/step - loss: 0.0324 - accuracy: 0.8904 - precision: 0.9965 - recall: 0.9965 - val_loss: 0.1405 - val_accuracy: 0.8960 - val_precision: 0.9862 - val_recall: 1.0000\n",
            "Epoch 40/100\n",
            "500/500 [==============================] - 56s 111ms/step - loss: 0.0217 - accuracy: 0.9104 - precision: 0.9970 - recall: 0.9973 - val_loss: 0.1126 - val_accuracy: 0.9135 - val_precision: 0.9881 - val_recall: 1.0000\n",
            "Epoch 41/100\n",
            "500/500 [==============================] - 56s 111ms/step - loss: 0.0272 - accuracy: 0.9066 - precision: 0.9967 - recall: 0.9962 - val_loss: 0.1407 - val_accuracy: 0.8650 - val_precision: 0.9843 - val_recall: 1.0000\n",
            "Epoch 42/100\n",
            "500/500 [==============================] - 56s 111ms/step - loss: 0.0400 - accuracy: 0.9118 - precision: 0.9950 - recall: 0.9965 - val_loss: 0.0324 - val_accuracy: 0.9130 - val_precision: 0.9960 - val_recall: 0.9980\n",
            "Epoch 43/100\n",
            "500/500 [==============================] - 56s 111ms/step - loss: 0.0242 - accuracy: 0.9005 - precision: 0.9967 - recall: 0.9967 - val_loss: 0.1801 - val_accuracy: 0.8840 - val_precision: 0.9814 - val_recall: 1.0000\n",
            "Epoch 44/100\n",
            "500/500 [==============================] - 56s 111ms/step - loss: 0.0140 - accuracy: 0.9101 - precision: 0.9985 - recall: 0.9985 - val_loss: 0.0305 - val_accuracy: 0.9240 - val_precision: 0.9950 - val_recall: 0.9990\n",
            "Epoch 45/100\n",
            "500/500 [==============================] - 56s 111ms/step - loss: 0.0123 - accuracy: 0.9071 - precision: 0.9980 - recall: 0.9983 - val_loss: 0.1004 - val_accuracy: 0.8665 - val_precision: 0.9881 - val_recall: 1.0000\n",
            "Epoch 46/100\n",
            "500/500 [==============================] - 56s 111ms/step - loss: 0.0378 - accuracy: 0.8994 - precision: 0.9965 - recall: 0.9962 - val_loss: 0.0861 - val_accuracy: 0.9215 - val_precision: 0.9921 - val_recall: 1.0000\n",
            "Epoch 47/100\n",
            "500/500 [==============================] - 56s 111ms/step - loss: 0.0494 - accuracy: 0.9071 - precision: 0.9963 - recall: 0.9973 - val_loss: 0.0553 - val_accuracy: 0.9235 - val_precision: 0.9921 - val_recall: 1.0000\n",
            "Epoch 48/100\n",
            "500/500 [==============================] - 56s 111ms/step - loss: 0.0212 - accuracy: 0.9243 - precision: 0.9972 - recall: 0.9970 - val_loss: 0.1602 - val_accuracy: 0.9170 - val_precision: 0.9891 - val_recall: 1.0000\n",
            "Epoch 49/100\n",
            "500/500 [==============================] - 55s 111ms/step - loss: 0.0240 - accuracy: 0.9271 - precision: 0.9975 - recall: 0.9975 - val_loss: 0.0792 - val_accuracy: 0.9380 - val_precision: 0.9911 - val_recall: 1.0000\n",
            "Epoch 50/100\n",
            "500/500 [==============================] - 56s 111ms/step - loss: 0.0177 - accuracy: 0.9371 - precision: 0.9980 - recall: 0.9980 - val_loss: 0.1313 - val_accuracy: 0.9365 - val_precision: 0.9891 - val_recall: 1.0000\n",
            "Epoch 51/100\n",
            "500/500 [==============================] - 56s 111ms/step - loss: 0.0177 - accuracy: 0.9460 - precision: 0.9985 - recall: 0.9985 - val_loss: 0.0607 - val_accuracy: 0.9530 - val_precision: 0.9950 - val_recall: 0.9960\n",
            "Epoch 52/100\n",
            "500/500 [==============================] - 56s 112ms/step - loss: 0.0254 - accuracy: 0.9390 - precision: 0.9970 - recall: 0.9967 - val_loss: 0.1607 - val_accuracy: 0.9405 - val_precision: 0.9881 - val_recall: 1.0000\n",
            "Epoch 53/100\n",
            "500/500 [==============================] - 56s 111ms/step - loss: 0.0251 - accuracy: 0.9544 - precision: 0.9973 - recall: 0.9975 - val_loss: 0.1219 - val_accuracy: 0.9420 - val_precision: 0.9901 - val_recall: 1.0000\n",
            "Epoch 54/100\n",
            "500/500 [==============================] - 56s 111ms/step - loss: 0.0250 - accuracy: 0.9541 - precision: 0.9980 - recall: 0.9985 - val_loss: 0.0718 - val_accuracy: 0.9595 - val_precision: 0.9921 - val_recall: 1.0000\n",
            "Epoch 55/100\n",
            "500/500 [==============================] - 56s 111ms/step - loss: 0.0518 - accuracy: 0.9381 - precision: 0.9970 - recall: 0.9967 - val_loss: 0.0254 - val_accuracy: 0.9390 - val_precision: 0.9970 - val_recall: 0.9980\n",
            "Epoch 56/100\n",
            "500/500 [==============================] - 56s 111ms/step - loss: 0.0375 - accuracy: 0.9341 - precision: 0.9965 - recall: 0.9960 - val_loss: 0.1533 - val_accuracy: 0.9345 - val_precision: 0.9881 - val_recall: 1.0000\n",
            "Epoch 57/100\n",
            "500/500 [==============================] - 56s 111ms/step - loss: 0.0267 - accuracy: 0.9327 - precision: 0.9983 - recall: 0.9983 - val_loss: 0.1265 - val_accuracy: 0.9395 - val_precision: 0.9891 - val_recall: 1.0000\n",
            "Epoch 58/100\n",
            "500/500 [==============================] - 56s 112ms/step - loss: 0.0283 - accuracy: 0.9392 - precision: 0.9977 - recall: 0.9977 - val_loss: 0.1568 - val_accuracy: 0.9340 - val_precision: 0.9891 - val_recall: 1.0000\n",
            "Epoch 59/100\n",
            "500/500 [==============================] - 56s 111ms/step - loss: 0.0082 - accuracy: 0.9389 - precision: 0.9995 - recall: 0.9990 - val_loss: 0.1725 - val_accuracy: 0.9300 - val_precision: 0.9862 - val_recall: 1.0000\n",
            "Epoch 60/100\n",
            "500/500 [==============================] - 56s 111ms/step - loss: 0.0223 - accuracy: 0.9386 - precision: 0.9983 - recall: 0.9983 - val_loss: 0.1503 - val_accuracy: 0.9460 - val_precision: 0.9901 - val_recall: 1.0000\n",
            "Epoch 61/100\n",
            "500/500 [==============================] - 56s 111ms/step - loss: 0.0038 - accuracy: 0.9496 - precision: 0.9993 - recall: 0.9995 - val_loss: 0.0962 - val_accuracy: 0.9585 - val_precision: 0.9921 - val_recall: 1.0000\n",
            "Epoch 62/100\n",
            "500/500 [==============================] - 56s 111ms/step - loss: 0.0288 - accuracy: 0.9489 - precision: 0.9975 - recall: 0.9970 - val_loss: 0.4551 - val_accuracy: 0.9075 - val_precision: 0.9718 - val_recall: 1.0000\n",
            "Epoch 63/100\n",
            "500/500 [==============================] - 56s 112ms/step - loss: 0.0294 - accuracy: 0.9541 - precision: 0.9975 - recall: 0.9977 - val_loss: 0.0539 - val_accuracy: 0.9750 - val_precision: 0.9960 - val_recall: 1.0000\n",
            "Epoch 64/100\n",
            "500/500 [==============================] - 56s 112ms/step - loss: 0.0330 - accuracy: 0.9528 - precision: 0.9978 - recall: 0.9980 - val_loss: 0.1003 - val_accuracy: 0.9680 - val_precision: 0.9940 - val_recall: 1.0000\n",
            "Epoch 65/100\n",
            "500/500 [==============================] - 56s 111ms/step - loss: 0.0555 - accuracy: 0.9553 - precision: 0.9970 - recall: 0.9975 - val_loss: 0.1632 - val_accuracy: 0.9590 - val_precision: 0.9901 - val_recall: 1.0000\n",
            "Epoch 66/100\n",
            "500/500 [==============================] - 56s 111ms/step - loss: 0.0117 - accuracy: 0.9655 - precision: 0.9985 - recall: 0.9990 - val_loss: 0.1022 - val_accuracy: 0.9690 - val_precision: 0.9921 - val_recall: 1.0000\n",
            "Epoch 67/100\n",
            "500/500 [==============================] - 56s 111ms/step - loss: 0.0104 - accuracy: 0.9650 - precision: 0.9990 - recall: 0.9992 - val_loss: 0.0390 - val_accuracy: 0.9725 - val_precision: 0.9950 - val_recall: 0.9990\n",
            "Epoch 68/100\n",
            "500/500 [==============================] - 56s 111ms/step - loss: 0.0373 - accuracy: 0.9506 - precision: 0.9963 - recall: 0.9965 - val_loss: 0.0411 - val_accuracy: 0.9780 - val_precision: 0.9960 - val_recall: 0.9990\n",
            "Epoch 69/100\n",
            "500/500 [==============================] - 56s 111ms/step - loss: 0.0461 - accuracy: 0.9635 - precision: 0.9967 - recall: 0.9967 - val_loss: 0.1046 - val_accuracy: 0.9800 - val_precision: 0.9930 - val_recall: 0.9960\n",
            "Epoch 70/100\n",
            "500/500 [==============================] - 56s 111ms/step - loss: 0.0119 - accuracy: 0.9734 - precision: 0.9990 - recall: 0.9990 - val_loss: 0.1133 - val_accuracy: 0.9745 - val_precision: 0.9911 - val_recall: 1.0000\n",
            "Epoch 71/100\n",
            "500/500 [==============================] - 56s 111ms/step - loss: 0.0220 - accuracy: 0.9715 - precision: 0.9980 - recall: 0.9987 - val_loss: 0.0946 - val_accuracy: 0.9790 - val_precision: 0.9930 - val_recall: 1.0000\n",
            "Epoch 72/100\n",
            "500/500 [==============================] - 56s 111ms/step - loss: 0.0252 - accuracy: 0.9690 - precision: 0.9982 - recall: 0.9977 - val_loss: 0.1240 - val_accuracy: 0.9780 - val_precision: 0.9921 - val_recall: 1.0000\n",
            "Epoch 73/100\n",
            "500/500 [==============================] - 56s 112ms/step - loss: 0.0379 - accuracy: 0.9693 - precision: 0.9970 - recall: 0.9977 - val_loss: 0.0658 - val_accuracy: 0.9770 - val_precision: 0.9930 - val_recall: 1.0000\n",
            "Epoch 74/100\n",
            "500/500 [==============================] - 56s 111ms/step - loss: 0.0157 - accuracy: 0.9664 - precision: 0.9990 - recall: 0.9985 - val_loss: 0.1402 - val_accuracy: 0.9645 - val_precision: 0.9901 - val_recall: 1.0000\n",
            "Epoch 75/100\n",
            "500/500 [==============================] - 56s 111ms/step - loss: 0.0269 - accuracy: 0.9661 - precision: 0.9977 - recall: 0.9977 - val_loss: 0.2511 - val_accuracy: 0.9585 - val_precision: 0.9881 - val_recall: 1.0000\n",
            "Epoch 76/100\n",
            "500/500 [==============================] - 56s 112ms/step - loss: 0.0637 - accuracy: 0.9660 - precision: 0.9963 - recall: 0.9967 - val_loss: 0.1285 - val_accuracy: 0.9785 - val_precision: 0.9930 - val_recall: 0.9990\n",
            "Epoch 77/100\n",
            "500/500 [==============================] - 56s 111ms/step - loss: 0.0272 - accuracy: 0.9666 - precision: 0.9985 - recall: 0.9985 - val_loss: 0.1602 - val_accuracy: 0.9680 - val_precision: 0.9921 - val_recall: 1.0000\n",
            "Epoch 78/100\n",
            "500/500 [==============================] - 57s 114ms/step - loss: 0.0093 - accuracy: 0.9690 - precision: 0.9990 - recall: 0.9992 - val_loss: 0.1673 - val_accuracy: 0.9710 - val_precision: 0.9921 - val_recall: 1.0000\n",
            "Epoch 79/100\n",
            "500/500 [==============================] - 56s 112ms/step - loss: 0.0169 - accuracy: 0.9660 - precision: 0.9982 - recall: 0.9980 - val_loss: 0.1684 - val_accuracy: 0.9720 - val_precision: 0.9911 - val_recall: 1.0000\n",
            "Epoch 80/100\n",
            "500/500 [==============================] - 56s 112ms/step - loss: 0.0475 - accuracy: 0.9695 - precision: 0.9973 - recall: 0.9975 - val_loss: 0.0743 - val_accuracy: 0.9795 - val_precision: 0.9950 - val_recall: 0.9980\n",
            "Epoch 81/100\n",
            "500/500 [==============================] - 56s 111ms/step - loss: 0.0353 - accuracy: 0.9737 - precision: 0.9980 - recall: 0.9980 - val_loss: 0.1093 - val_accuracy: 0.9740 - val_precision: 0.9930 - val_recall: 1.0000\n",
            "Epoch 82/100\n",
            "500/500 [==============================] - 56s 111ms/step - loss: 0.0146 - accuracy: 0.9722 - precision: 0.9985 - recall: 0.9985 - val_loss: 0.2625 - val_accuracy: 0.9620 - val_precision: 0.9881 - val_recall: 1.0000\n",
            "Epoch 83/100\n",
            "500/500 [==============================] - 56s 112ms/step - loss: 0.0103 - accuracy: 0.9741 - precision: 0.9992 - recall: 0.9992 - val_loss: 0.4373 - val_accuracy: 0.9410 - val_precision: 0.9814 - val_recall: 1.0000\n",
            "Epoch 84/100\n",
            "500/500 [==============================] - 56s 111ms/step - loss: 0.0075 - accuracy: 0.9789 - precision: 0.9995 - recall: 0.9995 - val_loss: 0.2936 - val_accuracy: 0.9550 - val_precision: 0.9862 - val_recall: 1.0000\n",
            "Epoch 85/100\n",
            "500/500 [==============================] - 56s 111ms/step - loss: 0.0503 - accuracy: 0.9716 - precision: 0.9968 - recall: 0.9970 - val_loss: 0.3647 - val_accuracy: 0.9575 - val_precision: 0.9852 - val_recall: 1.0000\n",
            "Epoch 86/100\n",
            "500/500 [==============================] - 57s 114ms/step - loss: 0.0268 - accuracy: 0.9778 - precision: 0.9985 - recall: 0.9987 - val_loss: 0.1087 - val_accuracy: 0.9855 - val_precision: 0.9950 - val_recall: 0.9990\n",
            "Epoch 87/100\n",
            "500/500 [==============================] - 61s 121ms/step - loss: 0.0226 - accuracy: 0.9760 - precision: 0.9985 - recall: 0.9980 - val_loss: 0.4026 - val_accuracy: 0.9495 - val_precision: 0.9833 - val_recall: 1.0000\n",
            "Epoch 88/100\n",
            "500/500 [==============================] - 67s 133ms/step - loss: 0.0236 - accuracy: 0.9760 - precision: 0.9987 - recall: 0.9985 - val_loss: 0.1520 - val_accuracy: 0.9765 - val_precision: 0.9911 - val_recall: 1.0000\n",
            "Epoch 89/100\n",
            "500/500 [==============================] - 58s 116ms/step - loss: 0.0251 - accuracy: 0.9799 - precision: 0.9988 - recall: 0.9990 - val_loss: 0.1409 - val_accuracy: 0.9810 - val_precision: 0.9930 - val_recall: 1.0000\n",
            "Epoch 90/100\n",
            "500/500 [==============================] - 56s 112ms/step - loss: 0.0278 - accuracy: 0.9778 - precision: 0.9983 - recall: 0.9985 - val_loss: 0.0565 - val_accuracy: 0.9845 - val_precision: 0.9970 - val_recall: 0.9970\n",
            "Epoch 91/100\n",
            "500/500 [==============================] - 56s 112ms/step - loss: 0.0497 - accuracy: 0.9732 - precision: 0.9970 - recall: 0.9965 - val_loss: 0.2142 - val_accuracy: 0.9760 - val_precision: 0.9901 - val_recall: 1.0000\n",
            "Epoch 92/100\n",
            "500/500 [==============================] - 56s 112ms/step - loss: 0.0372 - accuracy: 0.9756 - precision: 0.9982 - recall: 0.9977 - val_loss: 0.4334 - val_accuracy: 0.9620 - val_precision: 0.9823 - val_recall: 1.0000\n",
            "Epoch 93/100\n",
            "500/500 [==============================] - 56s 111ms/step - loss: 0.0184 - accuracy: 0.9803 - precision: 0.9988 - recall: 0.9990 - val_loss: 0.3056 - val_accuracy: 0.9720 - val_precision: 0.9881 - val_recall: 1.0000\n",
            "Epoch 94/100\n",
            "500/500 [==============================] - 61s 121ms/step - loss: 0.0401 - accuracy: 0.9811 - precision: 0.9982 - recall: 0.9980 - val_loss: 0.2078 - val_accuracy: 0.9700 - val_precision: 0.9901 - val_recall: 1.0000\n",
            "Epoch 95/100\n",
            "500/500 [==============================] - 61s 122ms/step - loss: 0.0270 - accuracy: 0.9776 - precision: 0.9985 - recall: 0.9987 - val_loss: 0.1345 - val_accuracy: 0.9775 - val_precision: 0.9940 - val_recall: 1.0000\n",
            "Epoch 96/100\n",
            "500/500 [==============================] - 61s 121ms/step - loss: 0.0178 - accuracy: 0.9751 - precision: 0.9987 - recall: 0.9987 - val_loss: 0.0676 - val_accuracy: 0.9845 - val_precision: 0.9960 - val_recall: 0.9990\n",
            "Epoch 97/100\n",
            "500/500 [==============================] - 59s 118ms/step - loss: 0.0271 - accuracy: 0.9839 - precision: 0.9983 - recall: 0.9983 - val_loss: 0.1414 - val_accuracy: 0.9825 - val_precision: 0.9930 - val_recall: 1.0000\n",
            "Epoch 98/100\n",
            "500/500 [==============================] - 59s 118ms/step - loss: 0.0033 - accuracy: 0.9852 - precision: 0.9995 - recall: 0.9998 - val_loss: 0.1161 - val_accuracy: 0.9855 - val_precision: 0.9950 - val_recall: 1.0000\n",
            "Epoch 99/100\n",
            "500/500 [==============================] - 62s 124ms/step - loss: 0.0642 - accuracy: 0.9786 - precision: 0.9972 - recall: 0.9970 - val_loss: 0.0959 - val_accuracy: 0.9830 - val_precision: 0.9950 - val_recall: 1.0000\n",
            "Epoch 100/100\n",
            "500/500 [==============================] - 64s 127ms/step - loss: 0.0118 - accuracy: 0.9847 - precision: 0.9990 - recall: 0.9990 - val_loss: 0.1394 - val_accuracy: 0.9810 - val_precision: 0.9940 - val_recall: 1.0000\n"
          ]
        }
      ],
      "source": [
        "import datetime\n",
        "\n",
        "tensorboard_callback = tf.keras.callbacks.TensorBoard(log_dir=log_dir, histogram_freq=1)\n",
        "\n",
        "history = model.fit(\n",
        "    train_generator,\n",
        "    validation_data = test_generator,\n",
        "    steps_per_epoch = train_size/batch_size,\n",
        "    epochs = epochs,\n",
        "    validation_steps = test_size/batch_size,\n",
        "    callbacks=[tensorboard_callback]\n",
        ")"
      ]
    },
    {
      "cell_type": "code",
      "execution_count": 9,
      "metadata": {
        "id": "YRX7r_azHO4N"
      },
      "outputs": [
        {
          "data": {
            "image/png": "[encoded data removed]",
            "text/plain": [
              "<Figure size 432x288 with 1 Axes>"
            ]
          },
          "metadata": {
            "needs_background": "light"
          },
          "output_type": "display_data"
        },
        {
          "data": {
            "image/png": "[encoded data removed]",
            "text/plain": [
              "<Figure size 432x288 with 1 Axes>"
            ]
          },
          "metadata": {
            "needs_background": "light"
          },
          "output_type": "display_data"
        }
      ],
      "source": [
        "import matplotlib.pyplot as plt\n",
        "acc = history.history['accuracy']\n",
        "val_acc = history.history['val_accuracy']\n",
        "loss = history.history['loss']\n",
        "val_loss = history.history['val_loss']\n",
        "precision = history.history['precision']\n",
        "recall = history.history['recall']\n",
        "\n",
        "epochs = range(len(acc))\n",
        "\n",
        "plt.plot(epochs, acc, 'bo', label='Training accuracy')\n",
        "plt.plot(epochs, val_acc, 'b', label='Validation accuracy')\n",
        "plt.title('Training and validation accuracy')\n",
        "plt.savefig(f\"{run_prefix}acc.svg\")\n",
        "plt.figure()\n",
        "\n",
        "\n",
        "plt.plot(epochs, loss, 'bo', label='Training Loss')\n",
        "plt.plot(epochs, val_loss, 'b', label='Validation Loss')\n",
        "plt.title('Training and validation loss')\n",
        "plt.legend()\n",
        "plt.savefig(f\"{run_prefix}loss.svg\")\n",
        "\n",
        "plt.show()"
      ]
    },
    {
      "cell_type": "code",
      "execution_count": 10,
      "metadata": {
        "id": "IDCPxBt6HKOf"
      },
      "outputs": [],
      "source": [
        "#model.save(f\"{run_prefix}{model_current}.h5\")"
      ]
    },
    {
      "cell_type": "code",
      "execution_count": 11,
      "metadata": {},
      "outputs": [],
      "source": [
        "import csv\n",
        "\n",
        "header = [\"train_acc\", \"val_acc\", \"train_loss\", \"val_loss\", \"precision\", \"recall\"]\n",
        "\n",
        "with open(f'{results_prefix}metrics.csv', 'w', encoding='UTF8', newline='') as f:\n",
        "    writer = csv.writer(f)\n",
        "\n",
        "    # write the header\n",
        "    writer.writerow(header)\n",
        "    for idx in range(len(acc)):\n",
        "        line = [acc[idx],val_acc[idx],loss[idx],val_loss[idx], precision[idx], recall[idx]]        \n",
        "        writer.writerow(line)\n"
      ]
    }
  ],
  "metadata": {
    "colab": {
      "name": "apple-rotten-vgg16.ipynb",
      "provenance": []
    },
    "kernelspec": {
      "display_name": "Python 3.9.12 ('tf')",
      "language": "python",
      "name": "python3"
    },
    "language_info": {
      "codemirror_mode": {
        "name": "ipython",
        "version": 3
      },
      "file_extension": ".py",
      "mimetype": "text/x-python",
      "name": "python",
      "nbconvert_exporter": "python",
      "pygments_lexer": "ipython3",
      "version": "3.9.12"
    },
    "vscode": {
      "interpreter": {
        "hash": "f1dd91301593ed57a3aa6ced3c8686829355a16df367190aff0744e5984c2469"
      }
    }
  },
  "nbformat": 4,
  "nbformat_minor": 0
}
