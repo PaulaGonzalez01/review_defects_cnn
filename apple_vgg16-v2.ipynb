{
  "cells": [
    {
      "cell_type": "markdown",
      "metadata": {
        "id": "1GHJkeI7ikNV"
      },
      "source": [
        "**Import dependecies**"
      ]
    },
    {
      "cell_type": "code",
      "execution_count": 1,
      "metadata": {},
      "outputs": [
        {
          "data": {
            "text/plain": [
              "'\\n%pip install --upgrade tensorflow \\n%pip install pydot graphviz\\n%pip install pandas numpy pillow matplotlib scipy autopep8 pydot\\n'"
            ]
          },
          "execution_count": 1,
          "metadata": {},
          "output_type": "execute_result"
        }
      ],
      "source": [
        "'''\n",
        "%pip install --upgrade tensorflow \n",
        "%pip install pydot graphviz\n",
        "%pip install pandas numpy pillow matplotlib scipy autopep8 pydot\n",
        "'''"
      ]
    },
    {
      "cell_type": "code",
      "execution_count": 2,
      "metadata": {},
      "outputs": [],
      "source": [
        "%load_ext tensorboard"
      ]
    },
    {
      "cell_type": "code",
      "execution_count": 3,
      "metadata": {},
      "outputs": [
        {
          "name": "stdout",
          "output_type": "stream",
          "text": [
            "Num GPUs Available:  1\n"
          ]
        }
      ],
      "source": [
        "import tensorflow as tf\n",
        "print(\"Num GPUs Available: \", len(tf.config.list_physical_devices('GPU')))"
      ]
    },
    {
      "cell_type": "code",
      "execution_count": 4,
      "metadata": {
        "id": "eJiLL0VGe_wI"
      },
      "outputs": [
        {
          "data": {
            "text/plain": [
              "'./runs/apple/vgg16/20220722-225040/'"
            ]
          },
          "execution_count": 4,
          "metadata": {},
          "output_type": "execute_result"
        }
      ],
      "source": [
        "import os\n",
        "from tensorflow import keras\n",
        "from keras.applications.vgg16 import VGG16\n",
        "from keras.optimizers import Adam\n",
        "from keras.preprocessing.image import ImageDataGenerator\n",
        "from keras import layers\n",
        "from keras import Model\n",
        "import datetime\n",
        "\n",
        "fruit = \"apple\"\n",
        "model_current = \"vgg16\"\n",
        "curr_datetime = datetime.datetime.now().strftime(\"%Y%m%d-%H%M%S\")\n",
        "run_prefix = f'./runs/{fruit}/{model_current}/{curr_datetime}/'\n",
        "results_prefix = f'./results/{fruit}/{model_current}/{curr_datetime}/'\n",
        "log_dir = f'logs/fit/{fruit}/{model_current}/{curr_datetime}'\n",
        "os.makedirs(run_prefix, exist_ok=True)\n",
        "os.makedirs(results_prefix, exist_ok=True)\n",
        "run_prefix\n"
      ]
    },
    {
      "cell_type": "markdown",
      "metadata": {
        "id": "7XFtXmuTisRa"
      },
      "source": [
        "**Create an imagedatagenerator object to label data**"
      ]
    },
    {
      "cell_type": "code",
      "execution_count": 5,
      "metadata": {
        "colab": {
          "base_uri": "https://localhost:8080/"
        },
        "id": "7nhMVi8sc-iA",
        "outputId": "d3b3b177-4001-4d64-8e4a-e1efd77dbb9b"
      },
      "outputs": [
        {
          "name": "stdout",
          "output_type": "stream",
          "text": [
            "Found 8000 images belonging to 2 classes.\n",
            "Found 2000 images belonging to 2 classes.\n"
          ]
        }
      ],
      "source": [
        "input_size = 128\n",
        "batch_size = 32\n",
        "train_size = 8000\n",
        "test_size = 2000\n",
        "learning_rate = 0.001\n",
        "epochs = 50\n",
        "dropout = 0.5\n",
        "dense_size = 1024\n",
        "\n",
        "train_datagen = ImageDataGenerator(rescale = 1./255)\n",
        "test_datagen = ImageDataGenerator(rescale = 1./255)\n",
        "train_dir = f\"./dataset/dataset_frutas_colab/{fruit}/train\"\n",
        "test_dir = f\"./dataset/dataset_frutas_colab/{fruit}/test\"\n",
        "train_generator = train_datagen.flow_from_directory(train_dir,batch_size=batch_size,class_mode = 'binary', target_size=(input_size,input_size))\n",
        "test_generator = test_datagen.flow_from_directory(test_dir,batch_size=batch_size,class_mode = 'binary', target_size=(input_size,input_size))"
      ]
    },
    {
      "cell_type": "markdown",
      "metadata": {},
      "source": [
        "VGG16 model"
      ]
    },
    {
      "cell_type": "code",
      "execution_count": 6,
      "metadata": {
        "id": "ge7tchaKGh9C"
      },
      "outputs": [],
      "source": [
        "pre_trained_model = VGG16(\n",
        "    input_shape = (input_size,input_size,3),\n",
        "    include_top = False\n",
        ")\n"
      ]
    },
    {
      "cell_type": "markdown",
      "metadata": {
        "id": "efoR8KpwGa-i"
      },
      "source": [
        "Start transfer learning process"
      ]
    },
    {
      "cell_type": "code",
      "execution_count": 7,
      "metadata": {},
      "outputs": [],
      "source": [
        "for layer in pre_trained_model.layers:\n",
        "  layer.trainable = False"
      ]
    },
    {
      "cell_type": "code",
      "execution_count": 8,
      "metadata": {
        "id": "ucb7feWOGt3h"
      },
      "outputs": [],
      "source": [
        "import tensorflow as tf\n",
        "#Flatten\n",
        "x = layers.Flatten()(pre_trained_model.output)\n",
        "#Fully connected layer con 1,024 hidden units y ReLU\n",
        "x = layers.Dense(dense_size, activation='relu')(x)\n",
        "#Dropout rate\n",
        "x = layers.Dropout(dropout)(x)\n",
        "#Función de clasificación sigmoidal - Clasificación binaria\n",
        "x = layers.Dense(1,activation='sigmoid')(x)\n",
        "\n",
        "model = Model(pre_trained_model.input,x)\n",
        "\n",
        "model.compile(optimizer = Adam(learning_rate=learning_rate),\n",
        "              loss='binary_crossentropy',\n",
        "              metrics = [tf.keras.metrics.Accuracy(),\n",
        "                         tf.keras.metrics.Precision(), \n",
        "                         tf.keras.metrics.Recall()])"
      ]
    },
    {
      "cell_type": "code",
      "execution_count": 9,
      "metadata": {},
      "outputs": [
        {
          "name": "stdout",
          "output_type": "stream",
          "text": [
            "Saved Model Image\n"
          ]
        }
      ],
      "source": [
        "tf.keras.utils.plot_model(\n",
        "    model,\n",
        "    to_file=f\"{run_prefix}model.png\",\n",
        "    show_shapes=True,\n",
        "    show_dtype=False,\n",
        "    show_layer_names=True,\n",
        "    rankdir=\"TB\",\n",
        "    expand_nested=True,\n",
        "    dpi=96,\n",
        "    layer_range=None,\n",
        "    show_layer_activations=True,\n",
        ")\n",
        "print(\"Saved Model Image\")"
      ]
    },
    {
      "cell_type": "code",
      "execution_count": 10,
      "metadata": {
        "colab": {
          "base_uri": "https://localhost:8080/"
        },
        "id": "mRJn0TwfHCGr",
        "outputId": "5e1c64ab-847d-4dae-94c3-96726d624c0c"
      },
      "outputs": [
        {
          "name": "stdout",
          "output_type": "stream",
          "text": [
            "Epoch 1/50\n",
            "250/250 [==============================] - 60s 217ms/step - loss: 0.1196 - accuracy: 0.0136 - precision: 0.9585 - recall: 0.9635 - val_loss: 0.0646 - val_accuracy: 0.0245 - val_precision: 0.9578 - val_recall: 0.9980\n",
            "Epoch 2/50\n",
            "250/250 [==============================] - 53s 210ms/step - loss: 0.0406 - accuracy: 0.0174 - precision: 0.9804 - recall: 0.9862 - val_loss: 0.0360 - val_accuracy: 0.0075 - val_precision: 0.9939 - val_recall: 0.9760\n",
            "Epoch 3/50\n",
            "250/250 [==============================] - 53s 211ms/step - loss: 0.0314 - accuracy: 0.0463 - precision: 0.9861 - recall: 0.9905 - val_loss: 0.0691 - val_accuracy: 0.0945 - val_precision: 0.9615 - val_recall: 0.9990\n",
            "Epoch 4/50\n",
            "250/250 [==============================] - 53s 212ms/step - loss: 0.0288 - accuracy: 0.0707 - precision: 0.9863 - recall: 0.9915 - val_loss: 0.0285 - val_accuracy: 0.1205 - val_precision: 0.9794 - val_recall: 0.9960\n",
            "Epoch 5/50\n",
            "250/250 [==============================] - 53s 212ms/step - loss: 0.0278 - accuracy: 0.1184 - precision: 0.9893 - recall: 0.9915 - val_loss: 0.0410 - val_accuracy: 0.1005 - val_precision: 0.9939 - val_recall: 0.9700\n",
            "Epoch 6/50\n",
            "250/250 [==============================] - 53s 211ms/step - loss: 0.0265 - accuracy: 0.1174 - precision: 0.9895 - recall: 0.9923 - val_loss: 0.0269 - val_accuracy: 0.0730 - val_precision: 0.9870 - val_recall: 0.9870\n",
            "Epoch 7/50\n",
            "250/250 [==============================] - 53s 211ms/step - loss: 0.0166 - accuracy: 0.1264 - precision: 0.9928 - recall: 0.9940 - val_loss: 0.1254 - val_accuracy: 0.0495 - val_precision: 1.0000 - val_recall: 0.9070\n",
            "Epoch 8/50\n",
            "250/250 [==============================] - 53s 212ms/step - loss: 0.0232 - accuracy: 0.1656 - precision: 0.9908 - recall: 0.9923 - val_loss: 0.0273 - val_accuracy: 0.1020 - val_precision: 0.9910 - val_recall: 0.9880\n",
            "Epoch 9/50\n",
            "250/250 [==============================] - 53s 212ms/step - loss: 0.0140 - accuracy: 0.1587 - precision: 0.9938 - recall: 0.9960 - val_loss: 0.0460 - val_accuracy: 0.0965 - val_precision: 0.9969 - val_recall: 0.9700\n",
            "Epoch 10/50\n",
            "250/250 [==============================] - 53s 211ms/step - loss: 0.0210 - accuracy: 0.1937 - precision: 0.9933 - recall: 0.9945 - val_loss: 0.0610 - val_accuracy: 0.2415 - val_precision: 0.9680 - val_recall: 0.9990\n",
            "Epoch 11/50\n",
            "250/250 [==============================] - 53s 212ms/step - loss: 0.0137 - accuracy: 0.1976 - precision: 0.9940 - recall: 0.9945 - val_loss: 0.0629 - val_accuracy: 0.3825 - val_precision: 0.9718 - val_recall: 0.9980\n",
            "Epoch 12/50\n",
            "250/250 [==============================] - 53s 212ms/step - loss: 0.0240 - accuracy: 0.2385 - precision: 0.9900 - recall: 0.9905 - val_loss: 0.0274 - val_accuracy: 0.2095 - val_precision: 0.9900 - val_recall: 0.9890\n",
            "Epoch 13/50\n",
            "250/250 [==============================] - 53s 211ms/step - loss: 0.0123 - accuracy: 0.2231 - precision: 0.9950 - recall: 0.9967 - val_loss: 0.0343 - val_accuracy: 0.3585 - val_precision: 0.9851 - val_recall: 0.9940\n",
            "Epoch 14/50\n",
            "250/250 [==============================] - 53s 212ms/step - loss: 0.0093 - accuracy: 0.2772 - precision: 0.9960 - recall: 0.9973 - val_loss: 0.0363 - val_accuracy: 0.2490 - val_precision: 0.9822 - val_recall: 0.9940\n",
            "Epoch 15/50\n",
            "250/250 [==============================] - 53s 212ms/step - loss: 0.0065 - accuracy: 0.2718 - precision: 0.9977 - recall: 0.9975 - val_loss: 0.0353 - val_accuracy: 0.3150 - val_precision: 0.9832 - val_recall: 0.9960\n",
            "Epoch 16/50\n",
            "250/250 [==============================] - 53s 212ms/step - loss: 0.0093 - accuracy: 0.2834 - precision: 0.9965 - recall: 0.9973 - val_loss: 0.0473 - val_accuracy: 0.3290 - val_precision: 0.9803 - val_recall: 0.9960\n",
            "Epoch 17/50\n",
            "250/250 [==============================] - 53s 212ms/step - loss: 0.0074 - accuracy: 0.3431 - precision: 0.9965 - recall: 0.9973 - val_loss: 0.0435 - val_accuracy: 0.3830 - val_precision: 0.9822 - val_recall: 0.9930\n",
            "Epoch 18/50\n",
            "250/250 [==============================] - 53s 212ms/step - loss: 0.0067 - accuracy: 0.3215 - precision: 0.9970 - recall: 0.9975 - val_loss: 0.0414 - val_accuracy: 0.2230 - val_precision: 0.9949 - val_recall: 0.9820\n",
            "Epoch 19/50\n",
            "250/250 [==============================] - 53s 212ms/step - loss: 0.0022 - accuracy: 0.3223 - precision: 0.9993 - recall: 0.9995 - val_loss: 0.0342 - val_accuracy: 0.3440 - val_precision: 0.9920 - val_recall: 0.9870\n",
            "Epoch 20/50\n",
            "250/250 [==============================] - 53s 211ms/step - loss: 0.0280 - accuracy: 0.3417 - precision: 0.9918 - recall: 0.9925 - val_loss: 0.0559 - val_accuracy: 0.3930 - val_precision: 0.9765 - val_recall: 0.9980\n",
            "Epoch 21/50\n",
            "250/250 [==============================] - 53s 213ms/step - loss: 0.0098 - accuracy: 0.3469 - precision: 0.9967 - recall: 0.9965 - val_loss: 0.0282 - val_accuracy: 0.2805 - val_precision: 0.9950 - val_recall: 0.9890\n",
            "Epoch 22/50\n",
            "250/250 [==============================] - 53s 212ms/step - loss: 0.0204 - accuracy: 0.3623 - precision: 0.9928 - recall: 0.9937 - val_loss: 0.0294 - val_accuracy: 0.3765 - val_precision: 0.9891 - val_recall: 0.9940\n",
            "Epoch 23/50\n",
            "250/250 [==============================] - 53s 212ms/step - loss: 0.0055 - accuracy: 0.3805 - precision: 0.9980 - recall: 0.9980 - val_loss: 0.0405 - val_accuracy: 0.3935 - val_precision: 0.9794 - val_recall: 0.9980\n",
            "Epoch 24/50\n",
            "250/250 [==============================] - 53s 212ms/step - loss: 0.0045 - accuracy: 0.3754 - precision: 0.9983 - recall: 0.9990 - val_loss: 0.0368 - val_accuracy: 0.3975 - val_precision: 0.9803 - val_recall: 0.9970\n",
            "Epoch 25/50\n",
            "250/250 [==============================] - 54s 215ms/step - loss: 0.0067 - accuracy: 0.3789 - precision: 0.9973 - recall: 0.9980 - val_loss: 0.0528 - val_accuracy: 0.2735 - val_precision: 0.9959 - val_recall: 0.9650\n",
            "Epoch 26/50\n",
            "250/250 [==============================] - 53s 210ms/step - loss: 0.0043 - accuracy: 0.3131 - precision: 0.9985 - recall: 0.9985 - val_loss: 0.0336 - val_accuracy: 0.3500 - val_precision: 0.9890 - val_recall: 0.9890\n",
            "Epoch 27/50\n",
            "250/250 [==============================] - 52s 209ms/step - loss: 9.4391e-04 - accuracy: 0.3713 - precision: 0.9998 - recall: 1.0000 - val_loss: 0.0371 - val_accuracy: 0.3775 - val_precision: 0.9871 - val_recall: 0.9910\n",
            "Epoch 28/50\n",
            "250/250 [==============================] - 52s 209ms/step - loss: 0.0029 - accuracy: 0.3721 - precision: 0.9990 - recall: 0.9995 - val_loss: 0.0310 - val_accuracy: 0.3825 - val_precision: 0.9910 - val_recall: 0.9880\n",
            "Epoch 29/50\n",
            "250/250 [==============================] - 52s 209ms/step - loss: 0.0065 - accuracy: 0.3880 - precision: 0.9973 - recall: 0.9977 - val_loss: 0.0623 - val_accuracy: 0.2960 - val_precision: 0.9969 - val_recall: 0.9650\n",
            "Epoch 30/50\n",
            "250/250 [==============================] - 53s 210ms/step - loss: 0.0062 - accuracy: 0.3769 - precision: 0.9973 - recall: 0.9983 - val_loss: 0.0377 - val_accuracy: 0.3900 - val_precision: 0.9910 - val_recall: 0.9880\n",
            "Epoch 31/50\n",
            "250/250 [==============================] - 53s 210ms/step - loss: 0.0039 - accuracy: 0.4000 - precision: 0.9987 - recall: 0.9980 - val_loss: 0.0368 - val_accuracy: 0.3865 - val_precision: 0.9920 - val_recall: 0.9870\n",
            "Epoch 32/50\n",
            "250/250 [==============================] - 53s 209ms/step - loss: 0.0161 - accuracy: 0.3927 - precision: 0.9938 - recall: 0.9948 - val_loss: 0.0627 - val_accuracy: 0.3310 - val_precision: 0.9969 - val_recall: 0.9790\n",
            "Epoch 33/50\n",
            "250/250 [==============================] - 52s 209ms/step - loss: 0.0017 - accuracy: 0.4080 - precision: 0.9993 - recall: 0.9998 - val_loss: 0.0381 - val_accuracy: 0.4140 - val_precision: 0.9910 - val_recall: 0.9920\n",
            "Epoch 34/50\n",
            "250/250 [==============================] - 53s 210ms/step - loss: 0.0024 - accuracy: 0.4128 - precision: 0.9988 - recall: 0.9995 - val_loss: 0.0456 - val_accuracy: 0.3835 - val_precision: 0.9949 - val_recall: 0.9850\n",
            "Epoch 35/50\n",
            "250/250 [==============================] - 53s 210ms/step - loss: 0.0018 - accuracy: 0.4240 - precision: 0.9993 - recall: 0.9995 - val_loss: 0.1483 - val_accuracy: 0.4770 - val_precision: 0.9606 - val_recall: 1.0000\n",
            "Epoch 36/50\n",
            "250/250 [==============================] - 52s 209ms/step - loss: 0.0144 - accuracy: 0.4331 - precision: 0.9953 - recall: 0.9955 - val_loss: 0.0521 - val_accuracy: 0.4080 - val_precision: 0.9900 - val_recall: 0.9890\n",
            "Epoch 37/50\n",
            "250/250 [==============================] - 52s 209ms/step - loss: 0.0027 - accuracy: 0.4336 - precision: 0.9988 - recall: 0.9995 - val_loss: 0.0543 - val_accuracy: 0.4250 - val_precision: 0.9861 - val_recall: 0.9900\n",
            "Epoch 38/50\n",
            "250/250 [==============================] - 53s 209ms/step - loss: 0.0030 - accuracy: 0.4201 - precision: 0.9985 - recall: 0.9987 - val_loss: 0.0674 - val_accuracy: 0.4475 - val_precision: 0.9784 - val_recall: 0.9970\n",
            "Epoch 39/50\n",
            "250/250 [==============================] - 53s 210ms/step - loss: 0.0064 - accuracy: 0.4215 - precision: 0.9973 - recall: 0.9977 - val_loss: 0.0535 - val_accuracy: 0.3975 - val_precision: 0.9969 - val_recall: 0.9800\n",
            "Epoch 40/50\n",
            "250/250 [==============================] - 53s 210ms/step - loss: 0.0083 - accuracy: 0.4259 - precision: 0.9972 - recall: 0.9965 - val_loss: 0.0501 - val_accuracy: 0.4440 - val_precision: 0.9822 - val_recall: 0.9950\n",
            "Epoch 41/50\n",
            "250/250 [==============================] - 52s 209ms/step - loss: 0.0032 - accuracy: 0.4141 - precision: 0.9985 - recall: 0.9995 - val_loss: 0.0450 - val_accuracy: 0.4340 - val_precision: 0.9881 - val_recall: 0.9930\n",
            "Epoch 42/50\n",
            "250/250 [==============================] - 53s 209ms/step - loss: 0.0030 - accuracy: 0.4030 - precision: 0.9985 - recall: 0.9987 - val_loss: 0.0420 - val_accuracy: 0.4120 - val_precision: 0.9910 - val_recall: 0.9900\n",
            "Epoch 43/50\n",
            "250/250 [==============================] - 53s 210ms/step - loss: 3.7057e-04 - accuracy: 0.4254 - precision: 0.9998 - recall: 1.0000 - val_loss: 0.0434 - val_accuracy: 0.4260 - val_precision: 0.9910 - val_recall: 0.9890\n",
            "Epoch 44/50\n",
            "250/250 [==============================] - 53s 210ms/step - loss: 1.4984e-04 - accuracy: 0.4340 - precision: 1.0000 - recall: 1.0000 - val_loss: 0.0442 - val_accuracy: 0.4340 - val_precision: 0.9890 - val_recall: 0.9900\n",
            "Epoch 45/50\n",
            "250/250 [==============================] - 53s 209ms/step - loss: 5.8459e-05 - accuracy: 0.4380 - precision: 1.0000 - recall: 1.0000 - val_loss: 0.0449 - val_accuracy: 0.4360 - val_precision: 0.9890 - val_recall: 0.9910\n",
            "Epoch 46/50\n",
            "250/250 [==============================] - 52s 209ms/step - loss: 2.9758e-04 - accuracy: 0.4408 - precision: 1.0000 - recall: 1.0000 - val_loss: 0.0463 - val_accuracy: 0.4285 - val_precision: 0.9920 - val_recall: 0.9880\n",
            "Epoch 47/50\n",
            "250/250 [==============================] - 53s 210ms/step - loss: 1.0145e-04 - accuracy: 0.4414 - precision: 1.0000 - recall: 1.0000 - val_loss: 0.0469 - val_accuracy: 0.4385 - val_precision: 0.9890 - val_recall: 0.9910\n",
            "Epoch 48/50\n",
            "250/250 [==============================] - 53s 210ms/step - loss: 0.0089 - accuracy: 0.4281 - precision: 0.9970 - recall: 0.9977 - val_loss: 0.0560 - val_accuracy: 0.4530 - val_precision: 0.9813 - val_recall: 0.9960\n",
            "Epoch 49/50\n",
            "250/250 [==============================] - 52s 209ms/step - loss: 0.0161 - accuracy: 0.4260 - precision: 0.9950 - recall: 0.9962 - val_loss: 0.0505 - val_accuracy: 0.4370 - val_precision: 0.9851 - val_recall: 0.9950\n",
            "Epoch 50/50\n",
            "250/250 [==============================] - 52s 209ms/step - loss: 0.0039 - accuracy: 0.4125 - precision: 0.9980 - recall: 0.9980 - val_loss: 0.0369 - val_accuracy: 0.4090 - val_precision: 0.9880 - val_recall: 0.9910\n"
          ]
        }
      ],
      "source": [
        "import datetime\n",
        "\n",
        "tensorboard_callback = tf.keras.callbacks.TensorBoard(log_dir=log_dir, histogram_freq=1)\n",
        "\n",
        "history = model.fit(\n",
        "    train_generator,\n",
        "    validation_data = test_generator,\n",
        "    steps_per_epoch = train_size/batch_size,\n",
        "    epochs = epochs,\n",
        "    validation_steps = test_size/batch_size,\n",
        "    callbacks=[tensorboard_callback]\n",
        ")"
      ]
    },
    {
      "cell_type": "code",
      "execution_count": 11,
      "metadata": {
        "id": "YRX7r_azHO4N"
      },
      "outputs": [
        {
          "data": {
            "image/png": "[encoded data removed]",
            "text/plain": [
              "<Figure size 432x288 with 1 Axes>"
            ]
          },
          "metadata": {
            "needs_background": "light"
          },
          "output_type": "display_data"
        },
        {
          "data": {
            "image/png": "[encoded data removed]",
            "text/plain": [
              "<Figure size 432x288 with 1 Axes>"
            ]
          },
          "metadata": {
            "needs_background": "light"
          },
          "output_type": "display_data"
        }
      ],
      "source": [
        "import matplotlib.pyplot as plt\n",
        "acc = history.history['accuracy']\n",
        "val_acc = history.history['val_accuracy']\n",
        "loss = history.history['loss']\n",
        "val_loss = history.history['val_loss']\n",
        "precision = history.history['precision']\n",
        "recall = history.history['recall']\n",
        "\n",
        "epochs = range(len(acc))\n",
        "\n",
        "plt.plot(epochs, acc, 'bo', label='Training accuracy')\n",
        "plt.plot(epochs, val_acc, 'b', label='Validation accuracy')\n",
        "plt.title('Training and validation accuracy')\n",
        "plt.savefig(f\"{run_prefix}acc.svg\")\n",
        "plt.figure()\n",
        "\n",
        "\n",
        "plt.plot(epochs, loss, 'bo', label='Training Loss')\n",
        "plt.plot(epochs, val_loss, 'b', label='Validation Loss')\n",
        "plt.title('Training and validation loss')\n",
        "plt.legend()\n",
        "plt.savefig(f\"{run_prefix}loss.svg\")\n",
        "\n",
        "plt.show()"
      ]
    },
    {
      "cell_type": "code",
      "execution_count": 12,
      "metadata": {
        "id": "IDCPxBt6HKOf"
      },
      "outputs": [],
      "source": [
        "#model.save(f\"{run_prefix}{model_current}.h5\")"
      ]
    },
    {
      "cell_type": "code",
      "execution_count": 13,
      "metadata": {},
      "outputs": [],
      "source": [
        "import csv\n",
        "\n",
        "header = [\"train_acc\", \"val_acc\", \"train_loss\", \"val_loss\", \"precision\", \"recall\"]\n",
        "\n",
        "with open(f'{results_prefix}metrics.csv', 'w', encoding='UTF8', newline='') as f:\n",
        "    writer = csv.writer(f)\n",
        "\n",
        "    # write the header\n",
        "    writer.writerow(header)\n",
        "    for idx in range(len(acc)):\n",
        "        line = [acc[idx],val_acc[idx],loss[idx],val_loss[idx], precision[idx], recall[idx]]        \n",
        "        writer.writerow(line)\n"
      ]
    }
  ],
  "metadata": {
    "colab": {
      "name": "apple-rotten-vgg16.ipynb",
      "provenance": []
    },
    "kernelspec": {
      "display_name": "Python 3.9.12 ('tf')",
      "language": "python",
      "name": "python3"
    },
    "language_info": {
      "codemirror_mode": {
        "name": "ipython",
        "version": 3
      },
      "file_extension": ".py",
      "mimetype": "text/x-python",
      "name": "python",
      "nbconvert_exporter": "python",
      "pygments_lexer": "ipython3",
      "version": "3.9.12"
    },
    "vscode": {
      "interpreter": {
        "hash": "f1dd91301593ed57a3aa6ced3c8686829355a16df367190aff0744e5984c2469"
      }
    }
  },
  "nbformat": 4,
  "nbformat_minor": 0
}
