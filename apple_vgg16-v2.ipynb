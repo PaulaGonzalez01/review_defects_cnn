{
  "cells": [
    {
      "cell_type": "markdown",
      "metadata": {
        "id": "1GHJkeI7ikNV"
      },
      "source": [
        "**Import dependecies**"
      ]
    },
    {
      "cell_type": "code",
      "execution_count": 1,
      "metadata": {},
      "outputs": [
        {
          "data": {
            "text/plain": [
              "'\\n%conda install -c apple tensorflow-deps scipy #macos\\n%pip install tensorflow-macos tensorflow-metal #macos\\n\\n%pip install --upgrade tensorflow \\n%pip install pydot graphviz\\n\\n%pip install pandas numpy pillow matplotlib scipy autopep8 pydot\\n'"
            ]
          },
          "execution_count": 1,
          "metadata": {},
          "output_type": "execute_result"
        }
      ],
      "source": [
        "'''\n",
        "%conda install -c apple tensorflow-deps scipy #macos\n",
        "%pip install tensorflow-macos tensorflow-metal #macos\n",
        "\n",
        "%pip install --upgrade tensorflow \n",
        "%pip install pydot graphviz\n",
        "\n",
        "%pip install pandas numpy pillow matplotlib scipy autopep8 pydot\n",
        "'''"
      ]
    },
    {
      "cell_type": "code",
      "execution_count": 2,
      "metadata": {},
      "outputs": [],
      "source": [
        "%load_ext tensorboard"
      ]
    },
    {
      "cell_type": "code",
      "execution_count": 3,
      "metadata": {},
      "outputs": [
        {
          "name": "stdout",
          "output_type": "stream",
          "text": [
            "Num GPUs Available:  1\n"
          ]
        }
      ],
      "source": [
        "import tensorflow as tf\n",
        "print(\"Num GPUs Available: \", len(tf.config.list_physical_devices('GPU')))"
      ]
    },
    {
      "cell_type": "code",
      "execution_count": 4,
      "metadata": {},
      "outputs": [
        {
          "data": {
            "text/plain": [
              "[PhysicalDevice(name='/physical_device:CPU:0', device_type='CPU'),\n",
              " PhysicalDevice(name='/physical_device:GPU:0', device_type='GPU')]"
            ]
          },
          "execution_count": 4,
          "metadata": {},
          "output_type": "execute_result"
        }
      ],
      "source": [
        "tf.config.list_physical_devices()"
      ]
    },
    {
      "cell_type": "code",
      "execution_count": 5,
      "metadata": {
        "id": "eJiLL0VGe_wI"
      },
      "outputs": [
        {
          "data": {
            "text/plain": [
              "'./runs/apple/vgg16/20220731-191211/'"
            ]
          },
          "execution_count": 5,
          "metadata": {},
          "output_type": "execute_result"
        }
      ],
      "source": [
        "import os\n",
        "from tensorflow import keras\n",
        "from keras.applications.vgg16 import VGG16\n",
        "from keras.optimizers import Adam\n",
        "from keras.preprocessing.image import ImageDataGenerator\n",
        "from keras import layers\n",
        "from keras import Model\n",
        "import datetime\n",
        "\n",
        "fruit = \"apple\"\n",
        "model_current = \"vgg16\"\n",
        "curr_datetime = datetime.datetime.now().strftime(\"%Y%m%d-%H%M%S\")\n",
        "run_prefix = f'./runs/{fruit}/{model_current}/{curr_datetime}/'\n",
        "#results_prefix = f'./results/{fruit}/{model_current}/{curr_datetime}/'\n",
        "log_dir = f'logs/fit/{fruit}/{model_current}/{curr_datetime}'\n",
        "os.makedirs(run_prefix, exist_ok=True)\n",
        "#os.makedirs(results_prefix, exist_ok=True)\n",
        "run_prefix\n"
      ]
    },
    {
      "cell_type": "markdown",
      "metadata": {
        "id": "7XFtXmuTisRa"
      },
      "source": [
        "**Create an imagedatagenerator object to label data**"
      ]
    },
    {
      "cell_type": "code",
      "execution_count": 6,
      "metadata": {
        "colab": {
          "base_uri": "https://localhost:8080/"
        },
        "id": "7nhMVi8sc-iA",
        "outputId": "d3b3b177-4001-4d64-8e4a-e1efd77dbb9b"
      },
      "outputs": [
        {
          "name": "stdout",
          "output_type": "stream",
          "text": [
            "Found 8000 images belonging to 2 classes.\n",
            "Found 2000 images belonging to 2 classes.\n"
          ]
        }
      ],
      "source": [
        "input_size = 128\n",
        "batch_size = 16\n",
        "train_size = 8000\n",
        "test_size = 2000\n",
        "learning_rate = 0.0001\n",
        "epochs = 150\n",
        "dropout = 0.0\n",
        "dense_size = 1024\n",
        "\n",
        "train_datagen = ImageDataGenerator(rescale = 1./255)\n",
        "test_datagen = ImageDataGenerator(rescale = 1./255)\n",
        "train_dir = f\"./dataset_frutas_colab/{fruit}/train\"\n",
        "test_dir = f\"./dataset_frutas_colab/{fruit}/test\"\n",
        "train_generator = train_datagen.flow_from_directory(train_dir,batch_size=batch_size,class_mode = 'binary', shuffle= True, target_size=(input_size,input_size))\n",
        "test_generator = test_datagen.flow_from_directory(test_dir,batch_size=batch_size,class_mode = 'binary',shuffle= True, target_size=(input_size,input_size))"
      ]
    },
    {
      "cell_type": "markdown",
      "metadata": {},
      "source": [
        "VGG16 model"
      ]
    },
    {
      "cell_type": "code",
      "execution_count": 7,
      "metadata": {
        "id": "ge7tchaKGh9C"
      },
      "outputs": [
        {
          "name": "stdout",
          "output_type": "stream",
          "text": [
            "Metal device set to: Apple M1 Pro\n",
            "\n",
            "systemMemory: 16.00 GB\n",
            "maxCacheSize: 5.33 GB\n",
            "\n"
          ]
        },
        {
          "name": "stderr",
          "output_type": "stream",
          "text": [
            "2022-07-31 19:12:11.844484: I tensorflow/core/common_runtime/pluggable_device/pluggable_device_factory.cc:305] Could not identify NUMA node of platform GPU ID 0, defaulting to 0. Your kernel may not have been built with NUMA support.\n",
            "2022-07-31 19:12:11.845035: I tensorflow/core/common_runtime/pluggable_device/pluggable_device_factory.cc:271] Created TensorFlow device (/job:localhost/replica:0/task:0/device:GPU:0 with 0 MB memory) -> physical PluggableDevice (device: 0, name: METAL, pci bus id: <undefined>)\n"
          ]
        }
      ],
      "source": [
        "pre_trained_model = VGG16(\n",
        "    input_shape = (input_size,input_size,3),\n",
        "    include_top = False,\n",
        "    weights='imagenet'\n",
        ")\n"
      ]
    },
    {
      "cell_type": "markdown",
      "metadata": {
        "id": "efoR8KpwGa-i"
      },
      "source": [
        "Start transfer learning process"
      ]
    },
    {
      "cell_type": "code",
      "execution_count": 8,
      "metadata": {},
      "outputs": [],
      "source": [
        "for layer in pre_trained_model.layers:\n",
        "  layer.trainable = False"
      ]
    },
    {
      "cell_type": "code",
      "execution_count": 9,
      "metadata": {
        "id": "ucb7feWOGt3h"
      },
      "outputs": [],
      "source": [
        "import tensorflow as tf\n",
        "#Flatten\n",
        "x = layers.Flatten()(pre_trained_model.output)\n",
        "#Fully connected layer con 1,024 hidden units y ReLU\n",
        "x = layers.Dense(dense_size, activation='relu')(x)\n",
        "x = layers.Dense(dense_size/2, activation='relu')(x)\n",
        "#Dropout rate\n",
        "if (dropout>0):\n",
        "    x = layers.Dropout(dropout)(x)\n",
        "#Binary classification and sigmoid func\n",
        "x = layers.Dense(1,activation='sigmoid')(x)\n",
        "\n",
        "model = Model(pre_trained_model.input,x)\n",
        "\n",
        "model.compile(optimizer = tf.keras.optimizers.RMSprop(learning_rate=learning_rate),\n",
        "              loss='binary_crossentropy',\n",
        "              metrics = [tf.keras.metrics.Accuracy(),\n",
        "                         tf.keras.metrics.Precision(), \n",
        "                         tf.keras.metrics.Recall()])"
      ]
    },
    {
      "cell_type": "code",
      "execution_count": 10,
      "metadata": {},
      "outputs": [
        {
          "name": "stdout",
          "output_type": "stream",
          "text": [
            "Model: \"model\"\n",
            "_________________________________________________________________\n",
            " Layer (type)                Output Shape              Param #   \n",
            "=================================================================\n",
            " input_1 (InputLayer)        [(None, 128, 128, 3)]     0         \n",
            "                                                                 \n",
            " block1_conv1 (Conv2D)       (None, 128, 128, 64)      1792      \n",
            "                                                                 \n",
            " block1_conv2 (Conv2D)       (None, 128, 128, 64)      36928     \n",
            "                                                                 \n",
            " block1_pool (MaxPooling2D)  (None, 64, 64, 64)        0         \n",
            "                                                                 \n",
            " block2_conv1 (Conv2D)       (None, 64, 64, 128)       73856     \n",
            "                                                                 \n",
            " block2_conv2 (Conv2D)       (None, 64, 64, 128)       147584    \n",
            "                                                                 \n",
            " block2_pool (MaxPooling2D)  (None, 32, 32, 128)       0         \n",
            "                                                                 \n",
            " block3_conv1 (Conv2D)       (None, 32, 32, 256)       295168    \n",
            "                                                                 \n",
            " block3_conv2 (Conv2D)       (None, 32, 32, 256)       590080    \n",
            "                                                                 \n",
            " block3_conv3 (Conv2D)       (None, 32, 32, 256)       590080    \n",
            "                                                                 \n",
            " block3_pool (MaxPooling2D)  (None, 16, 16, 256)       0         \n",
            "                                                                 \n",
            " block4_conv1 (Conv2D)       (None, 16, 16, 512)       1180160   \n",
            "                                                                 \n",
            " block4_conv2 (Conv2D)       (None, 16, 16, 512)       2359808   \n",
            "                                                                 \n",
            " block4_conv3 (Conv2D)       (None, 16, 16, 512)       2359808   \n",
            "                                                                 \n",
            " block4_pool (MaxPooling2D)  (None, 8, 8, 512)         0         \n",
            "                                                                 \n",
            " block5_conv1 (Conv2D)       (None, 8, 8, 512)         2359808   \n",
            "                                                                 \n",
            " block5_conv2 (Conv2D)       (None, 8, 8, 512)         2359808   \n",
            "                                                                 \n",
            " block5_conv3 (Conv2D)       (None, 8, 8, 512)         2359808   \n",
            "                                                                 \n",
            " block5_pool (MaxPooling2D)  (None, 4, 4, 512)         0         \n",
            "                                                                 \n",
            " flatten (Flatten)           (None, 8192)              0         \n",
            "                                                                 \n",
            " dense (Dense)               (None, 1024)              8389632   \n",
            "                                                                 \n",
            " dense_1 (Dense)             (None, 512)               524800    \n",
            "                                                                 \n",
            " dense_2 (Dense)             (None, 1)                 513       \n",
            "                                                                 \n",
            "=================================================================\n",
            "Total params: 23,629,633\n",
            "Trainable params: 8,914,945\n",
            "Non-trainable params: 14,714,688\n",
            "_________________________________________________________________\n"
          ]
        }
      ],
      "source": [
        "model.summary()"
      ]
    },
    {
      "cell_type": "code",
      "execution_count": 11,
      "metadata": {},
      "outputs": [
        {
          "name": "stdout",
          "output_type": "stream",
          "text": [
            "Saved Model Image\n"
          ]
        }
      ],
      "source": [
        "tf.keras.utils.plot_model(\n",
        "    model,\n",
        "    to_file=f\"{run_prefix}model.png\",\n",
        "    show_shapes=True,\n",
        "    show_dtype=False,\n",
        "    show_layer_names=True,\n",
        "    rankdir=\"TB\",\n",
        "    expand_nested=True,\n",
        "    dpi=96,\n",
        "    layer_range=None,\n",
        "    show_layer_activations=True,\n",
        ")\n",
        "print(\"Saved Model Image\")"
      ]
    },
    {
      "cell_type": "code",
      "execution_count": 12,
      "metadata": {
        "colab": {
          "base_uri": "https://localhost:8080/"
        },
        "id": "mRJn0TwfHCGr",
        "outputId": "5e1c64ab-847d-4dae-94c3-96726d624c0c"
      },
      "outputs": [
        {
          "name": "stdout",
          "output_type": "stream",
          "text": [
            "Epoch 1/150\n"
          ]
        },
        {
          "name": "stderr",
          "output_type": "stream",
          "text": [
            "2022-07-31 19:12:13.532464: W tensorflow/core/platform/profile_utils/cpu_utils.cc:128] Failed to get CPU frequency: 0 Hz\n",
            "2022-07-31 19:12:14.156491: I tensorflow/core/grappler/optimizers/custom_graph_optimizer_registry.cc:113] Plugin optimizer for device_type GPU is enabled.\n"
          ]
        },
        {
          "name": "stdout",
          "output_type": "stream",
          "text": [
            "500/500 [==============================] - ETA: 0s - loss: 0.1869 - accuracy: 0.0000e+00 - precision: 0.9183 - recall: 0.9295"
          ]
        },
        {
          "name": "stderr",
          "output_type": "stream",
          "text": [
            "2022-07-31 19:12:43.715597: I tensorflow/core/grappler/optimizers/custom_graph_optimizer_registry.cc:113] Plugin optimizer for device_type GPU is enabled.\n"
          ]
        },
        {
          "name": "stdout",
          "output_type": "stream",
          "text": [
            "500/500 [==============================] - 37s 68ms/step - loss: 0.1869 - accuracy: 0.0000e+00 - precision: 0.9183 - recall: 0.9295 - val_loss: 0.0662 - val_accuracy: 0.0000e+00 - val_precision: 0.9779 - val_recall: 0.9740\n",
            "Epoch 2/150\n",
            "500/500 [==============================] - 33s 66ms/step - loss: 0.0779 - accuracy: 0.0000e+00 - precision: 0.9672 - recall: 0.9733 - val_loss: 0.0566 - val_accuracy: 0.0000e+00 - val_precision: 0.9741 - val_recall: 0.9790\n",
            "Epoch 3/150\n",
            "500/500 [==============================] - 36s 72ms/step - loss: 0.0456 - accuracy: 2.5000e-04 - precision: 0.9813 - recall: 0.9860 - val_loss: 0.0543 - val_accuracy: 0.0000e+00 - val_precision: 0.9948 - val_recall: 0.9620\n",
            "Epoch 4/150\n",
            "500/500 [==============================] - 33s 66ms/step - loss: 0.0389 - accuracy: 0.0019 - precision: 0.9853 - recall: 0.9883 - val_loss: 0.0389 - val_accuracy: 5.0000e-04 - val_precision: 0.9879 - val_recall: 0.9800\n",
            "Epoch 5/150\n",
            "500/500 [==============================] - 33s 66ms/step - loss: 0.0261 - accuracy: 0.0091 - precision: 0.9895 - recall: 0.9925 - val_loss: 0.0499 - val_accuracy: 0.0075 - val_precision: 0.9606 - val_recall: 0.9990\n",
            "Epoch 6/150\n",
            "500/500 [==============================] - 33s 66ms/step - loss: 0.0271 - accuracy: 0.0124 - precision: 0.9890 - recall: 0.9918 - val_loss: 0.0299 - val_accuracy: 0.0130 - val_precision: 0.9794 - val_recall: 0.9970\n",
            "Epoch 7/150\n",
            "500/500 [==============================] - 33s 65ms/step - loss: 0.0172 - accuracy: 0.0245 - precision: 0.9930 - recall: 0.9950 - val_loss: 0.0431 - val_accuracy: 0.0310 - val_precision: 0.9718 - val_recall: 0.9980\n",
            "Epoch 8/150\n",
            "500/500 [==============================] - 34s 68ms/step - loss: 0.0150 - accuracy: 0.0468 - precision: 0.9935 - recall: 0.9943 - val_loss: 0.0254 - val_accuracy: 0.0285 - val_precision: 0.9970 - val_recall: 0.9870\n",
            "Epoch 9/150\n",
            "500/500 [==============================] - 35s 69ms/step - loss: 0.0122 - accuracy: 0.0624 - precision: 0.9953 - recall: 0.9960 - val_loss: 0.0368 - val_accuracy: 0.0330 - val_precision: 0.9803 - val_recall: 0.9960\n",
            "Epoch 10/150\n",
            "500/500 [==============================] - 33s 65ms/step - loss: 0.0130 - accuracy: 0.0563 - precision: 0.9945 - recall: 0.9963 - val_loss: 0.0370 - val_accuracy: 0.1310 - val_precision: 0.9766 - val_recall: 1.0000\n",
            "Epoch 11/150\n",
            "500/500 [==============================] - 33s 66ms/step - loss: 0.0198 - accuracy: 0.0730 - precision: 0.9925 - recall: 0.9940 - val_loss: 0.0242 - val_accuracy: 0.0425 - val_precision: 0.9891 - val_recall: 0.9940\n",
            "Epoch 12/150\n",
            "500/500 [==============================] - 33s 66ms/step - loss: 0.0035 - accuracy: 0.0886 - precision: 0.9990 - recall: 0.9990 - val_loss: 0.0256 - val_accuracy: 0.1390 - val_precision: 0.9901 - val_recall: 0.9990\n",
            "Epoch 13/150\n",
            "500/500 [==============================] - 33s 66ms/step - loss: 0.0101 - accuracy: 0.1289 - precision: 0.9960 - recall: 0.9963 - val_loss: 0.0426 - val_accuracy: 0.0855 - val_precision: 0.9775 - val_recall: 0.9970\n",
            "Epoch 14/150\n",
            "500/500 [==============================] - 32s 64ms/step - loss: 0.0148 - accuracy: 0.0914 - precision: 0.9945 - recall: 0.9945 - val_loss: 0.0550 - val_accuracy: 0.1190 - val_precision: 0.9736 - val_recall: 0.9970\n",
            "Epoch 15/150\n",
            "500/500 [==============================] - 32s 65ms/step - loss: 0.0094 - accuracy: 0.1325 - precision: 0.9967 - recall: 0.9965 - val_loss: 0.0717 - val_accuracy: 0.0685 - val_precision: 0.9523 - val_recall: 0.9990\n",
            "Epoch 16/150\n",
            "500/500 [==============================] - 33s 65ms/step - loss: 0.0082 - accuracy: 0.1023 - precision: 0.9970 - recall: 0.9980 - val_loss: 0.0271 - val_accuracy: 0.0990 - val_precision: 0.9871 - val_recall: 0.9980\n",
            "Epoch 17/150\n",
            "500/500 [==============================] - 33s 65ms/step - loss: 0.0081 - accuracy: 0.1248 - precision: 0.9970 - recall: 0.9973 - val_loss: 0.0726 - val_accuracy: 0.0405 - val_precision: 0.9979 - val_recall: 0.9530\n",
            "Epoch 18/150\n",
            "500/500 [==============================] - 33s 65ms/step - loss: 0.0051 - accuracy: 0.1776 - precision: 0.9983 - recall: 0.9985 - val_loss: 0.0280 - val_accuracy: 0.1485 - val_precision: 0.9842 - val_recall: 0.9960\n",
            "Epoch 19/150\n",
            "500/500 [==============================] - 32s 65ms/step - loss: 0.0104 - accuracy: 0.1754 - precision: 0.9953 - recall: 0.9958 - val_loss: 0.0240 - val_accuracy: 0.1225 - val_precision: 0.9891 - val_recall: 0.9960\n",
            "Epoch 20/150\n",
            "500/500 [==============================] - 33s 66ms/step - loss: 0.0011 - accuracy: 0.1661 - precision: 0.9993 - recall: 0.9998 - val_loss: 0.0242 - val_accuracy: 0.1855 - val_precision: 0.9940 - val_recall: 0.9960\n",
            "Epoch 21/150\n",
            "500/500 [==============================] - 33s 66ms/step - loss: 2.9942e-04 - accuracy: 0.2151 - precision: 1.0000 - recall: 1.0000 - val_loss: 0.0221 - val_accuracy: 0.2205 - val_precision: 0.9920 - val_recall: 0.9950\n",
            "Epoch 22/150\n",
            "500/500 [==============================] - 33s 66ms/step - loss: 8.2027e-05 - accuracy: 0.2540 - precision: 1.0000 - recall: 1.0000 - val_loss: 0.0223 - val_accuracy: 0.2820 - val_precision: 0.9911 - val_recall: 0.9970\n",
            "Epoch 23/150\n",
            "500/500 [==============================] - 33s 65ms/step - loss: 4.0501e-05 - accuracy: 0.2830 - precision: 1.0000 - recall: 1.0000 - val_loss: 0.0213 - val_accuracy: 0.2930 - val_precision: 0.9950 - val_recall: 0.9970\n",
            "Epoch 24/150\n",
            "500/500 [==============================] - 32s 64ms/step - loss: 3.0869e-05 - accuracy: 0.3044 - precision: 1.0000 - recall: 1.0000 - val_loss: 0.0223 - val_accuracy: 0.3170 - val_precision: 0.9960 - val_recall: 0.9970\n",
            "Epoch 25/150\n",
            "500/500 [==============================] - 34s 68ms/step - loss: 2.4662e-05 - accuracy: 0.3184 - precision: 1.0000 - recall: 1.0000 - val_loss: 0.0229 - val_accuracy: 0.3395 - val_precision: 0.9930 - val_recall: 0.9970\n",
            "Epoch 26/150\n",
            "500/500 [==============================] - 33s 65ms/step - loss: 1.8734e-05 - accuracy: 0.3349 - precision: 1.0000 - recall: 1.0000 - val_loss: 0.0224 - val_accuracy: 0.3450 - val_precision: 0.9960 - val_recall: 0.9970\n",
            "Epoch 27/150\n",
            "500/500 [==============================] - 33s 66ms/step - loss: 1.5272e-05 - accuracy: 0.3515 - precision: 1.0000 - recall: 1.0000 - val_loss: 0.0230 - val_accuracy: 0.3625 - val_precision: 0.9940 - val_recall: 0.9970\n",
            "Epoch 28/150\n",
            "500/500 [==============================] - 32s 65ms/step - loss: 1.1108e-05 - accuracy: 0.3636 - precision: 1.0000 - recall: 1.0000 - val_loss: 0.0236 - val_accuracy: 0.3730 - val_precision: 0.9950 - val_recall: 0.9970\n",
            "Epoch 29/150\n",
            "500/500 [==============================] - 33s 66ms/step - loss: 9.0160e-06 - accuracy: 0.3789 - precision: 1.0000 - recall: 1.0000 - val_loss: 0.0234 - val_accuracy: 0.3815 - val_precision: 0.9950 - val_recall: 0.9970\n",
            "Epoch 30/150\n",
            "500/500 [==============================] - 33s 65ms/step - loss: 6.4205e-06 - accuracy: 0.3879 - precision: 1.0000 - recall: 1.0000 - val_loss: 0.0259 - val_accuracy: 0.4000 - val_precision: 0.9901 - val_recall: 0.9970\n",
            "Epoch 31/150\n",
            "500/500 [==============================] - 33s 66ms/step - loss: 5.0432e-06 - accuracy: 0.3989 - precision: 1.0000 - recall: 1.0000 - val_loss: 0.0248 - val_accuracy: 0.4000 - val_precision: 0.9950 - val_recall: 0.9970\n",
            "Epoch 32/150\n",
            "500/500 [==============================] - 33s 66ms/step - loss: 3.8881e-06 - accuracy: 0.4070 - precision: 1.0000 - recall: 1.0000 - val_loss: 0.0289 - val_accuracy: 0.4210 - val_precision: 0.9871 - val_recall: 0.9970\n",
            "Epoch 33/150\n",
            "500/500 [==============================] - 33s 65ms/step - loss: 3.0296e-06 - accuracy: 0.4170 - precision: 1.0000 - recall: 1.0000 - val_loss: 0.0271 - val_accuracy: 0.4195 - val_precision: 0.9920 - val_recall: 0.9970\n",
            "Epoch 34/150\n",
            "500/500 [==============================] - 33s 65ms/step - loss: 2.5465e-06 - accuracy: 0.4243 - precision: 1.0000 - recall: 1.0000 - val_loss: 0.0262 - val_accuracy: 0.4165 - val_precision: 0.9960 - val_recall: 0.9970\n",
            "Epoch 35/150\n",
            "500/500 [==============================] - 33s 65ms/step - loss: 1.8254e-06 - accuracy: 0.4288 - precision: 1.0000 - recall: 1.0000 - val_loss: 0.0258 - val_accuracy: 0.4125 - val_precision: 0.9970 - val_recall: 0.9960\n",
            "Epoch 36/150\n",
            "500/500 [==============================] - 33s 66ms/step - loss: 1.3838e-06 - accuracy: 0.4331 - precision: 1.0000 - recall: 1.0000 - val_loss: 0.0292 - val_accuracy: 0.4290 - val_precision: 0.9911 - val_recall: 0.9970\n",
            "Epoch 37/150\n",
            "500/500 [==============================] - 34s 68ms/step - loss: 1.2498e-06 - accuracy: 0.4389 - precision: 1.0000 - recall: 1.0000 - val_loss: 0.0268 - val_accuracy: 0.4255 - val_precision: 0.9970 - val_recall: 0.9970\n",
            "Epoch 38/150\n",
            "500/500 [==============================] - 33s 66ms/step - loss: 8.4606e-07 - accuracy: 0.4446 - precision: 1.0000 - recall: 1.0000 - val_loss: 0.0276 - val_accuracy: 0.4265 - val_precision: 0.9970 - val_recall: 0.9960\n",
            "Epoch 39/150\n",
            "500/500 [==============================] - 33s 66ms/step - loss: 7.9186e-07 - accuracy: 0.4503 - precision: 1.0000 - recall: 1.0000 - val_loss: 0.0294 - val_accuracy: 0.4315 - val_precision: 0.9960 - val_recall: 0.9960\n",
            "Epoch 40/150\n",
            "500/500 [==============================] - 33s 65ms/step - loss: 5.0348e-07 - accuracy: 0.4518 - precision: 1.0000 - recall: 1.0000 - val_loss: 0.0303 - val_accuracy: 0.4315 - val_precision: 0.9950 - val_recall: 0.9960\n",
            "Epoch 41/150\n",
            "500/500 [==============================] - 33s 66ms/step - loss: 4.5700e-07 - accuracy: 0.4546 - precision: 1.0000 - recall: 1.0000 - val_loss: 0.0301 - val_accuracy: 0.4400 - val_precision: 0.9950 - val_recall: 0.9960\n",
            "Epoch 42/150\n",
            "500/500 [==============================] - 32s 65ms/step - loss: 2.8866e-07 - accuracy: 0.4604 - precision: 1.0000 - recall: 1.0000 - val_loss: 0.0309 - val_accuracy: 0.4425 - val_precision: 0.9950 - val_recall: 0.9960\n",
            "Epoch 43/150\n",
            "500/500 [==============================] - 33s 65ms/step - loss: 2.5556e-07 - accuracy: 0.4646 - precision: 1.0000 - recall: 1.0000 - val_loss: 0.0312 - val_accuracy: 0.4480 - val_precision: 0.9950 - val_recall: 0.9970\n",
            "Epoch 44/150\n",
            "500/500 [==============================] - 33s 65ms/step - loss: 1.8387e-07 - accuracy: 0.4675 - precision: 1.0000 - recall: 1.0000 - val_loss: 0.0327 - val_accuracy: 0.4535 - val_precision: 0.9940 - val_recall: 0.9970\n",
            "Epoch 45/150\n",
            "500/500 [==============================] - 33s 67ms/step - loss: 1.8361e-07 - accuracy: 0.4695 - precision: 1.0000 - recall: 1.0000 - val_loss: 0.0335 - val_accuracy: 0.4570 - val_precision: 0.9940 - val_recall: 0.9970\n",
            "Epoch 46/150\n",
            "500/500 [==============================] - 33s 65ms/step - loss: 1.0766e-07 - accuracy: 0.4723 - precision: 1.0000 - recall: 1.0000 - val_loss: 0.0331 - val_accuracy: 0.4540 - val_precision: 0.9950 - val_recall: 0.9960\n",
            "Epoch 47/150\n",
            "500/500 [==============================] - 33s 66ms/step - loss: 8.7360e-08 - accuracy: 0.4750 - precision: 1.0000 - recall: 1.0000 - val_loss: 0.0332 - val_accuracy: 0.4570 - val_precision: 0.9950 - val_recall: 0.9960\n",
            "Epoch 48/150\n",
            "500/500 [==============================] - 32s 65ms/step - loss: 6.2788e-08 - accuracy: 0.4775 - precision: 1.0000 - recall: 1.0000 - val_loss: 0.0336 - val_accuracy: 0.4610 - val_precision: 0.9950 - val_recall: 0.9970\n",
            "Epoch 49/150\n",
            "500/500 [==============================] - 33s 65ms/step - loss: 5.4783e-08 - accuracy: 0.4790 - precision: 1.0000 - recall: 1.0000 - val_loss: 0.0377 - val_accuracy: 0.4690 - val_precision: 0.9911 - val_recall: 0.9970\n",
            "Epoch 50/150\n",
            "500/500 [==============================] - 33s 66ms/step - loss: 4.5787e-08 - accuracy: 0.4804 - precision: 1.0000 - recall: 1.0000 - val_loss: 0.0352 - val_accuracy: 0.4665 - val_precision: 0.9950 - val_recall: 0.9970\n",
            "Epoch 51/150\n",
            "500/500 [==============================] - 33s 66ms/step - loss: 3.2525e-08 - accuracy: 0.4816 - precision: 1.0000 - recall: 1.0000 - val_loss: 0.0347 - val_accuracy: 0.4640 - val_precision: 0.9950 - val_recall: 0.9960\n",
            "Epoch 52/150\n",
            "500/500 [==============================] - 33s 65ms/step - loss: 2.5316e-08 - accuracy: 0.4831 - precision: 1.0000 - recall: 1.0000 - val_loss: 0.0358 - val_accuracy: 0.4635 - val_precision: 0.9950 - val_recall: 0.9950\n",
            "Epoch 53/150\n",
            "500/500 [==============================] - 33s 65ms/step - loss: 2.4479e-08 - accuracy: 0.4848 - precision: 1.0000 - recall: 1.0000 - val_loss: 0.0362 - val_accuracy: 0.4540 - val_precision: 0.9970 - val_recall: 0.9940\n",
            "Epoch 54/150\n",
            "500/500 [==============================] - 33s 65ms/step - loss: 2.5099e-08 - accuracy: 0.4858 - precision: 1.0000 - recall: 1.0000 - val_loss: 0.0363 - val_accuracy: 0.4685 - val_precision: 0.9950 - val_recall: 0.9960\n",
            "Epoch 55/150\n",
            "500/500 [==============================] - 33s 65ms/step - loss: 1.6102e-08 - accuracy: 0.4874 - precision: 1.0000 - recall: 1.0000 - val_loss: 0.0369 - val_accuracy: 0.4695 - val_precision: 0.9950 - val_recall: 0.9960\n",
            "Epoch 56/150\n",
            "500/500 [==============================] - 33s 65ms/step - loss: 1.5927e-08 - accuracy: 0.4890 - precision: 1.0000 - recall: 1.0000 - val_loss: 0.0376 - val_accuracy: 0.4720 - val_precision: 0.9940 - val_recall: 0.9960\n",
            "Epoch 57/150\n",
            "500/500 [==============================] - 33s 65ms/step - loss: 1.0039e-08 - accuracy: 0.4904 - precision: 1.0000 - recall: 1.0000 - val_loss: 0.0381 - val_accuracy: 0.4725 - val_precision: 0.9950 - val_recall: 0.9950\n",
            "Epoch 58/150\n",
            "500/500 [==============================] - 33s 66ms/step - loss: 8.6864e-09 - accuracy: 0.4918 - precision: 1.0000 - recall: 1.0000 - val_loss: 0.0386 - val_accuracy: 0.4755 - val_precision: 0.9950 - val_recall: 0.9960\n",
            "Epoch 59/150\n",
            "500/500 [==============================] - 33s 65ms/step - loss: 7.8085e-09 - accuracy: 0.4929 - precision: 1.0000 - recall: 1.0000 - val_loss: 0.0375 - val_accuracy: 0.4730 - val_precision: 0.9950 - val_recall: 0.9950\n",
            "Epoch 60/150\n",
            "500/500 [==============================] - 33s 65ms/step - loss: 6.6413e-09 - accuracy: 0.4933 - precision: 1.0000 - recall: 1.0000 - val_loss: 0.0397 - val_accuracy: 0.4775 - val_precision: 0.9940 - val_recall: 0.9960\n",
            "Epoch 61/150\n",
            "500/500 [==============================] - 33s 65ms/step - loss: 6.2075e-09 - accuracy: 0.4958 - precision: 1.0000 - recall: 1.0000 - val_loss: 0.0404 - val_accuracy: 0.4800 - val_precision: 0.9940 - val_recall: 0.9960\n",
            "Epoch 62/150\n",
            "500/500 [==============================] - 33s 65ms/step - loss: 4.5446e-09 - accuracy: 0.4966 - precision: 1.0000 - recall: 1.0000 - val_loss: 0.0392 - val_accuracy: 0.4785 - val_precision: 0.9950 - val_recall: 0.9960\n",
            "Epoch 63/150\n",
            "500/500 [==============================] - 32s 65ms/step - loss: 4.1728e-09 - accuracy: 0.4966 - precision: 1.0000 - recall: 1.0000 - val_loss: 0.0387 - val_accuracy: 0.4755 - val_precision: 0.9950 - val_recall: 0.9950\n",
            "Epoch 64/150\n",
            "500/500 [==============================] - 33s 65ms/step - loss: 3.5737e-09 - accuracy: 0.4993 - precision: 1.0000 - recall: 1.0000 - val_loss: 0.0401 - val_accuracy: 0.4790 - val_precision: 0.9950 - val_recall: 0.9950\n",
            "Epoch 65/150\n",
            "500/500 [==============================] - 33s 65ms/step - loss: 3.2742e-09 - accuracy: 0.4995 - precision: 1.0000 - recall: 1.0000 - val_loss: 0.0398 - val_accuracy: 0.4760 - val_precision: 0.9950 - val_recall: 0.9950\n",
            "Epoch 66/150\n",
            "500/500 [==============================] - 33s 66ms/step - loss: 2.6545e-09 - accuracy: 0.5005 - precision: 1.0000 - recall: 1.0000 - val_loss: 0.0406 - val_accuracy: 0.4825 - val_precision: 0.9950 - val_recall: 0.9950\n",
            "Epoch 67/150\n",
            "500/500 [==============================] - 33s 65ms/step - loss: 2.4066e-09 - accuracy: 0.5026 - precision: 1.0000 - recall: 1.0000 - val_loss: 0.0407 - val_accuracy: 0.4805 - val_precision: 0.9950 - val_recall: 0.9950\n",
            "Epoch 68/150\n",
            "500/500 [==============================] - 32s 65ms/step - loss: 2.1071e-09 - accuracy: 0.5030 - precision: 1.0000 - recall: 1.0000 - val_loss: 0.0407 - val_accuracy: 0.4815 - val_precision: 0.9950 - val_recall: 0.9950\n",
            "Epoch 69/150\n",
            "500/500 [==============================] - 33s 65ms/step - loss: 1.7662e-09 - accuracy: 0.5044 - precision: 1.0000 - recall: 1.0000 - val_loss: 0.0407 - val_accuracy: 0.4825 - val_precision: 0.9950 - val_recall: 0.9950\n",
            "Epoch 70/150\n",
            "500/500 [==============================] - 33s 65ms/step - loss: 1.4047e-09 - accuracy: 0.5053 - precision: 1.0000 - recall: 1.0000 - val_loss: 0.0415 - val_accuracy: 0.4860 - val_precision: 0.9950 - val_recall: 0.9950\n",
            "Epoch 71/150\n",
            "500/500 [==============================] - 33s 66ms/step - loss: 1.4563e-09 - accuracy: 0.5068 - precision: 1.0000 - recall: 1.0000 - val_loss: 0.0410 - val_accuracy: 0.4810 - val_precision: 0.9950 - val_recall: 0.9950\n",
            "Epoch 72/150\n",
            "500/500 [==============================] - 33s 66ms/step - loss: 1.1052e-09 - accuracy: 0.5075 - precision: 1.0000 - recall: 1.0000 - val_loss: 0.0417 - val_accuracy: 0.4855 - val_precision: 0.9950 - val_recall: 0.9950\n",
            "Epoch 73/150\n",
            "500/500 [==============================] - 33s 66ms/step - loss: 1.1052e-09 - accuracy: 0.5082 - precision: 1.0000 - recall: 1.0000 - val_loss: 0.0412 - val_accuracy: 0.4865 - val_precision: 0.9950 - val_recall: 0.9950\n",
            "Epoch 74/150\n",
            "500/500 [==============================] - 33s 66ms/step - loss: 7.5400e-10 - accuracy: 0.5094 - precision: 1.0000 - recall: 1.0000 - val_loss: 0.0421 - val_accuracy: 0.4875 - val_precision: 0.9950 - val_recall: 0.9950\n",
            "Epoch 75/150\n",
            "500/500 [==============================] - 33s 66ms/step - loss: 7.7465e-10 - accuracy: 0.5098 - precision: 1.0000 - recall: 1.0000 - val_loss: 0.0424 - val_accuracy: 0.4880 - val_precision: 0.9950 - val_recall: 0.9950\n",
            "Epoch 76/150\n",
            "500/500 [==============================] - 33s 66ms/step - loss: 5.5775e-10 - accuracy: 0.5115 - precision: 1.0000 - recall: 1.0000 - val_loss: 0.0418 - val_accuracy: 0.4880 - val_precision: 0.9950 - val_recall: 0.9950\n",
            "Epoch 77/150\n",
            "500/500 [==============================] - 33s 65ms/step - loss: 4.9578e-10 - accuracy: 0.5123 - precision: 1.0000 - recall: 1.0000 - val_loss: 0.0422 - val_accuracy: 0.4885 - val_precision: 0.9950 - val_recall: 0.9950\n",
            "Epoch 78/150\n",
            "500/500 [==============================] - 33s 66ms/step - loss: 4.3381e-10 - accuracy: 0.5128 - precision: 1.0000 - recall: 1.0000 - val_loss: 0.0430 - val_accuracy: 0.4895 - val_precision: 0.9950 - val_recall: 0.9950\n",
            "Epoch 79/150\n",
            "500/500 [==============================] - 33s 65ms/step - loss: 4.1315e-10 - accuracy: 0.5133 - precision: 1.0000 - recall: 1.0000 - val_loss: 0.0427 - val_accuracy: 0.4910 - val_precision: 0.9950 - val_recall: 0.9950\n",
            "Epoch 80/150\n",
            "500/500 [==============================] - 33s 65ms/step - loss: 3.5118e-10 - accuracy: 0.5136 - precision: 1.0000 - recall: 1.0000 - val_loss: 0.0425 - val_accuracy: 0.4905 - val_precision: 0.9950 - val_recall: 0.9950\n",
            "Epoch 81/150\n",
            "500/500 [==============================] - 33s 65ms/step - loss: 3.0986e-10 - accuracy: 0.5144 - precision: 1.0000 - recall: 1.0000 - val_loss: 0.0424 - val_accuracy: 0.4905 - val_precision: 0.9950 - val_recall: 0.9950\n",
            "Epoch 82/150\n",
            "500/500 [==============================] - 33s 67ms/step - loss: 2.2723e-10 - accuracy: 0.5149 - precision: 1.0000 - recall: 1.0000 - val_loss: 0.0428 - val_accuracy: 0.4905 - val_precision: 0.9950 - val_recall: 0.9950\n",
            "Epoch 83/150\n",
            "500/500 [==============================] - 33s 67ms/step - loss: 1.8592e-10 - accuracy: 0.5156 - precision: 1.0000 - recall: 1.0000 - val_loss: 0.0426 - val_accuracy: 0.4915 - val_precision: 0.9950 - val_recall: 0.9950\n",
            "Epoch 84/150\n",
            "500/500 [==============================] - 33s 65ms/step - loss: 2.0657e-10 - accuracy: 0.5163 - precision: 1.0000 - recall: 1.0000 - val_loss: 0.0427 - val_accuracy: 0.4920 - val_precision: 0.9950 - val_recall: 0.9950\n",
            "Epoch 85/150\n",
            "500/500 [==============================] - 33s 66ms/step - loss: 1.8592e-10 - accuracy: 0.5165 - precision: 1.0000 - recall: 1.0000 - val_loss: 0.0424 - val_accuracy: 0.4910 - val_precision: 0.9950 - val_recall: 0.9950\n",
            "Epoch 86/150\n",
            "500/500 [==============================] - 33s 66ms/step - loss: 1.8592e-10 - accuracy: 0.5170 - precision: 1.0000 - recall: 1.0000 - val_loss: 0.0435 - val_accuracy: 0.4945 - val_precision: 0.9950 - val_recall: 0.9950\n",
            "Epoch 87/150\n",
            "500/500 [==============================] - 33s 65ms/step - loss: 1.2394e-10 - accuracy: 0.5178 - precision: 1.0000 - recall: 1.0000 - val_loss: 0.0428 - val_accuracy: 0.4930 - val_precision: 0.9950 - val_recall: 0.9950\n",
            "Epoch 88/150\n",
            "500/500 [==============================] - 33s 66ms/step - loss: 1.2394e-10 - accuracy: 0.5178 - precision: 1.0000 - recall: 1.0000 - val_loss: 0.0427 - val_accuracy: 0.4930 - val_precision: 0.9950 - val_recall: 0.9950\n",
            "Epoch 89/150\n",
            "500/500 [==============================] - 33s 65ms/step - loss: 1.2394e-10 - accuracy: 0.5179 - precision: 1.0000 - recall: 1.0000 - val_loss: 0.0432 - val_accuracy: 0.4940 - val_precision: 0.9950 - val_recall: 0.9950\n",
            "Epoch 90/150\n",
            "500/500 [==============================] - 33s 66ms/step - loss: 1.0329e-10 - accuracy: 0.5186 - precision: 1.0000 - recall: 1.0000 - val_loss: 0.0432 - val_accuracy: 0.4940 - val_precision: 0.9950 - val_recall: 0.9950\n",
            "Epoch 91/150\n",
            "500/500 [==============================] - 33s 65ms/step - loss: 2.0657e-11 - accuracy: 0.5188 - precision: 1.0000 - recall: 1.0000 - val_loss: 0.0436 - val_accuracy: 0.4930 - val_precision: 0.9950 - val_recall: 0.9950\n",
            "Epoch 92/150\n",
            "500/500 [==============================] - 33s 65ms/step - loss: 4.1315e-11 - accuracy: 0.5190 - precision: 1.0000 - recall: 1.0000 - val_loss: 0.0435 - val_accuracy: 0.4940 - val_precision: 0.9950 - val_recall: 0.9950\n",
            "Epoch 93/150\n",
            "500/500 [==============================] - 33s 66ms/step - loss: 8.2630e-11 - accuracy: 0.5189 - precision: 1.0000 - recall: 1.0000 - val_loss: 0.0430 - val_accuracy: 0.4930 - val_precision: 0.9950 - val_recall: 0.9950\n",
            "Epoch 94/150\n",
            "500/500 [==============================] - 33s 66ms/step - loss: 2.0657e-11 - accuracy: 0.5194 - precision: 1.0000 - recall: 1.0000 - val_loss: 0.0432 - val_accuracy: 0.4945 - val_precision: 0.9950 - val_recall: 0.9950\n",
            "Epoch 95/150\n",
            "500/500 [==============================] - 33s 66ms/step - loss: 4.1315e-11 - accuracy: 0.5197 - precision: 1.0000 - recall: 1.0000 - val_loss: 0.0440 - val_accuracy: 0.4955 - val_precision: 0.9950 - val_recall: 0.9950\n",
            "Epoch 96/150\n",
            "500/500 [==============================] - 33s 66ms/step - loss: 6.1972e-11 - accuracy: 0.5195 - precision: 1.0000 - recall: 1.0000 - val_loss: 0.0434 - val_accuracy: 0.4955 - val_precision: 0.9950 - val_recall: 0.9950\n",
            "Epoch 97/150\n",
            "500/500 [==============================] - 33s 65ms/step - loss: 4.1315e-11 - accuracy: 0.5199 - precision: 1.0000 - recall: 1.0000 - val_loss: 0.0435 - val_accuracy: 0.4950 - val_precision: 0.9950 - val_recall: 0.9950\n",
            "Epoch 98/150\n",
            "500/500 [==============================] - 33s 66ms/step - loss: 0.0000e+00 - accuracy: 0.5205 - precision: 1.0000 - recall: 1.0000 - val_loss: 0.0437 - val_accuracy: 0.4940 - val_precision: 0.9950 - val_recall: 0.9950\n",
            "Epoch 99/150\n",
            "500/500 [==============================] - 33s 65ms/step - loss: 4.1315e-11 - accuracy: 0.5204 - precision: 1.0000 - recall: 1.0000 - val_loss: 0.0438 - val_accuracy: 0.4950 - val_precision: 0.9950 - val_recall: 0.9950\n",
            "Epoch 100/150\n",
            "500/500 [==============================] - 34s 68ms/step - loss: 4.1315e-11 - accuracy: 0.5208 - precision: 1.0000 - recall: 1.0000 - val_loss: 0.0437 - val_accuracy: 0.4945 - val_precision: 0.9950 - val_recall: 0.9950\n",
            "Epoch 101/150\n",
            "500/500 [==============================] - 34s 67ms/step - loss: 0.0000e+00 - accuracy: 0.5209 - precision: 1.0000 - recall: 1.0000 - val_loss: 0.0438 - val_accuracy: 0.4950 - val_precision: 0.9950 - val_recall: 0.9950\n",
            "Epoch 102/150\n",
            "500/500 [==============================] - 33s 66ms/step - loss: 2.0657e-11 - accuracy: 0.5214 - precision: 1.0000 - recall: 1.0000 - val_loss: 0.0437 - val_accuracy: 0.4950 - val_precision: 0.9950 - val_recall: 0.9950\n",
            "Epoch 103/150\n",
            "500/500 [==============================] - 33s 67ms/step - loss: 0.0000e+00 - accuracy: 0.5219 - precision: 1.0000 - recall: 1.0000 - val_loss: 0.0435 - val_accuracy: 0.4950 - val_precision: 0.9950 - val_recall: 0.9950\n",
            "Epoch 104/150\n",
            "500/500 [==============================] - 33s 67ms/step - loss: 2.0657e-11 - accuracy: 0.5219 - precision: 1.0000 - recall: 1.0000 - val_loss: 0.0438 - val_accuracy: 0.4950 - val_precision: 0.9950 - val_recall: 0.9950\n",
            "Epoch 105/150\n",
            "500/500 [==============================] - 33s 67ms/step - loss: 2.0657e-11 - accuracy: 0.5221 - precision: 1.0000 - recall: 1.0000 - val_loss: 0.0437 - val_accuracy: 0.4955 - val_precision: 0.9950 - val_recall: 0.9950\n",
            "Epoch 106/150\n",
            "500/500 [==============================] - 33s 66ms/step - loss: 0.0000e+00 - accuracy: 0.5224 - precision: 1.0000 - recall: 1.0000 - val_loss: 0.0442 - val_accuracy: 0.4950 - val_precision: 0.9950 - val_recall: 0.9950\n",
            "Epoch 107/150\n",
            "500/500 [==============================] - 33s 67ms/step - loss: 0.0000e+00 - accuracy: 0.5228 - precision: 1.0000 - recall: 1.0000 - val_loss: 0.0443 - val_accuracy: 0.4960 - val_precision: 0.9950 - val_recall: 0.9950\n",
            "Epoch 108/150\n",
            "500/500 [==============================] - 33s 66ms/step - loss: 0.0000e+00 - accuracy: 0.5226 - precision: 1.0000 - recall: 1.0000 - val_loss: 0.0442 - val_accuracy: 0.4955 - val_precision: 0.9950 - val_recall: 0.9950\n",
            "Epoch 109/150\n",
            "500/500 [==============================] - 33s 66ms/step - loss: 0.0000e+00 - accuracy: 0.5226 - precision: 1.0000 - recall: 1.0000 - val_loss: 0.0440 - val_accuracy: 0.4960 - val_precision: 0.9950 - val_recall: 0.9950\n",
            "Epoch 110/150\n",
            "500/500 [==============================] - 33s 67ms/step - loss: 0.0000e+00 - accuracy: 0.5229 - precision: 1.0000 - recall: 1.0000 - val_loss: 0.0442 - val_accuracy: 0.4955 - val_precision: 0.9950 - val_recall: 0.9950\n",
            "Epoch 111/150\n",
            "500/500 [==============================] - 33s 67ms/step - loss: 0.0000e+00 - accuracy: 0.5231 - precision: 1.0000 - recall: 1.0000 - val_loss: 0.0439 - val_accuracy: 0.4955 - val_precision: 0.9950 - val_recall: 0.9950\n",
            "Epoch 112/150\n",
            "500/500 [==============================] - 34s 68ms/step - loss: 0.0000e+00 - accuracy: 0.5234 - precision: 1.0000 - recall: 1.0000 - val_loss: 0.0441 - val_accuracy: 0.4965 - val_precision: 0.9950 - val_recall: 0.9950\n",
            "Epoch 113/150\n",
            "500/500 [==============================] - 34s 67ms/step - loss: 0.0000e+00 - accuracy: 0.5234 - precision: 1.0000 - recall: 1.0000 - val_loss: 0.0440 - val_accuracy: 0.4960 - val_precision: 0.9950 - val_recall: 0.9950\n",
            "Epoch 114/150\n",
            "500/500 [==============================] - 33s 66ms/step - loss: 0.0000e+00 - accuracy: 0.5233 - precision: 1.0000 - recall: 1.0000 - val_loss: 0.0443 - val_accuracy: 0.4965 - val_precision: 0.9950 - val_recall: 0.9950\n",
            "Epoch 115/150\n",
            "500/500 [==============================] - 33s 66ms/step - loss: 0.0000e+00 - accuracy: 0.5238 - precision: 1.0000 - recall: 1.0000 - val_loss: 0.0442 - val_accuracy: 0.4970 - val_precision: 0.9950 - val_recall: 0.9950\n",
            "Epoch 116/150\n",
            "500/500 [==============================] - 33s 66ms/step - loss: 0.0000e+00 - accuracy: 0.5239 - precision: 1.0000 - recall: 1.0000 - val_loss: 0.0442 - val_accuracy: 0.4965 - val_precision: 0.9950 - val_recall: 0.9950\n",
            "Epoch 117/150\n",
            "500/500 [==============================] - 33s 66ms/step - loss: 0.0000e+00 - accuracy: 0.5240 - precision: 1.0000 - recall: 1.0000 - val_loss: 0.0446 - val_accuracy: 0.4965 - val_precision: 0.9950 - val_recall: 0.9950\n",
            "Epoch 118/150\n",
            "500/500 [==============================] - 33s 66ms/step - loss: 0.0000e+00 - accuracy: 0.5239 - precision: 1.0000 - recall: 1.0000 - val_loss: 0.0444 - val_accuracy: 0.4970 - val_precision: 0.9950 - val_recall: 0.9950\n",
            "Epoch 119/150\n",
            "500/500 [==============================] - 33s 67ms/step - loss: 0.0000e+00 - accuracy: 0.5240 - precision: 1.0000 - recall: 1.0000 - val_loss: 0.0443 - val_accuracy: 0.4975 - val_precision: 0.9950 - val_recall: 0.9950\n",
            "Epoch 120/150\n",
            "500/500 [==============================] - 33s 66ms/step - loss: 0.0000e+00 - accuracy: 0.5240 - precision: 1.0000 - recall: 1.0000 - val_loss: 0.0444 - val_accuracy: 0.4975 - val_precision: 0.9950 - val_recall: 0.9950\n",
            "Epoch 121/150\n",
            "500/500 [==============================] - 33s 66ms/step - loss: 0.0000e+00 - accuracy: 0.5240 - precision: 1.0000 - recall: 1.0000 - val_loss: 0.0444 - val_accuracy: 0.4965 - val_precision: 0.9950 - val_recall: 0.9950\n",
            "Epoch 122/150\n",
            "500/500 [==============================] - 33s 66ms/step - loss: 0.0000e+00 - accuracy: 0.5240 - precision: 1.0000 - recall: 1.0000 - val_loss: 0.0445 - val_accuracy: 0.4975 - val_precision: 0.9950 - val_recall: 0.9950\n",
            "Epoch 123/150\n",
            "500/500 [==============================] - 33s 67ms/step - loss: 0.0000e+00 - accuracy: 0.5244 - precision: 1.0000 - recall: 1.0000 - val_loss: 0.0444 - val_accuracy: 0.4955 - val_precision: 0.9960 - val_recall: 0.9950\n",
            "Epoch 124/150\n",
            "500/500 [==============================] - 33s 67ms/step - loss: 0.0000e+00 - accuracy: 0.5245 - precision: 1.0000 - recall: 1.0000 - val_loss: 0.0444 - val_accuracy: 0.4970 - val_precision: 0.9950 - val_recall: 0.9950\n",
            "Epoch 125/150\n",
            "500/500 [==============================] - 33s 67ms/step - loss: 0.0000e+00 - accuracy: 0.5248 - precision: 1.0000 - recall: 1.0000 - val_loss: 0.0446 - val_accuracy: 0.4975 - val_precision: 0.9950 - val_recall: 0.9950\n",
            "Epoch 126/150\n",
            "500/500 [==============================] - 33s 67ms/step - loss: 0.0000e+00 - accuracy: 0.5248 - precision: 1.0000 - recall: 1.0000 - val_loss: 0.0445 - val_accuracy: 0.4980 - val_precision: 0.9950 - val_recall: 0.9950\n",
            "Epoch 127/150\n",
            "500/500 [==============================] - 33s 67ms/step - loss: 0.0000e+00 - accuracy: 0.5248 - precision: 1.0000 - recall: 1.0000 - val_loss: 0.0445 - val_accuracy: 0.4975 - val_precision: 0.9950 - val_recall: 0.9950\n",
            "Epoch 128/150\n",
            "500/500 [==============================] - 33s 66ms/step - loss: 0.0000e+00 - accuracy: 0.5249 - precision: 1.0000 - recall: 1.0000 - val_loss: 0.0445 - val_accuracy: 0.4970 - val_precision: 0.9950 - val_recall: 0.9950\n",
            "Epoch 129/150\n",
            "500/500 [==============================] - 33s 66ms/step - loss: 0.0000e+00 - accuracy: 0.5251 - precision: 1.0000 - recall: 1.0000 - val_loss: 0.0446 - val_accuracy: 0.4975 - val_precision: 0.9950 - val_recall: 0.9950\n",
            "Epoch 130/150\n",
            "500/500 [==============================] - 33s 67ms/step - loss: 0.0000e+00 - accuracy: 0.5253 - precision: 1.0000 - recall: 1.0000 - val_loss: 0.0446 - val_accuracy: 0.4975 - val_precision: 0.9950 - val_recall: 0.9950\n",
            "Epoch 131/150\n",
            "500/500 [==============================] - 33s 67ms/step - loss: 0.0000e+00 - accuracy: 0.5254 - precision: 1.0000 - recall: 1.0000 - val_loss: 0.0446 - val_accuracy: 0.4970 - val_precision: 0.9950 - val_recall: 0.9950\n",
            "Epoch 132/150\n",
            "500/500 [==============================] - 34s 67ms/step - loss: 0.0000e+00 - accuracy: 0.5258 - precision: 1.0000 - recall: 1.0000 - val_loss: 0.0446 - val_accuracy: 0.4970 - val_precision: 0.9950 - val_recall: 0.9950\n",
            "Epoch 133/150\n",
            "500/500 [==============================] - 33s 67ms/step - loss: 0.0000e+00 - accuracy: 0.5259 - precision: 1.0000 - recall: 1.0000 - val_loss: 0.0446 - val_accuracy: 0.4980 - val_precision: 0.9950 - val_recall: 0.9950\n",
            "Epoch 134/150\n",
            "500/500 [==============================] - 33s 66ms/step - loss: 0.0000e+00 - accuracy: 0.5255 - precision: 1.0000 - recall: 1.0000 - val_loss: 0.0446 - val_accuracy: 0.4970 - val_precision: 0.9950 - val_recall: 0.9950\n",
            "Epoch 135/150\n",
            "500/500 [==============================] - 33s 67ms/step - loss: 0.0000e+00 - accuracy: 0.5260 - precision: 1.0000 - recall: 1.0000 - val_loss: 0.0448 - val_accuracy: 0.4980 - val_precision: 0.9950 - val_recall: 0.9950\n",
            "Epoch 136/150\n",
            "500/500 [==============================] - 33s 67ms/step - loss: 0.0000e+00 - accuracy: 0.5260 - precision: 1.0000 - recall: 1.0000 - val_loss: 0.0446 - val_accuracy: 0.4980 - val_precision: 0.9950 - val_recall: 0.9950\n",
            "Epoch 137/150\n",
            "500/500 [==============================] - 33s 67ms/step - loss: 0.0000e+00 - accuracy: 0.5260 - precision: 1.0000 - recall: 1.0000 - val_loss: 0.0448 - val_accuracy: 0.4980 - val_precision: 0.9950 - val_recall: 0.9950\n",
            "Epoch 138/150\n",
            "500/500 [==============================] - 35s 69ms/step - loss: 0.0000e+00 - accuracy: 0.5260 - precision: 1.0000 - recall: 1.0000 - val_loss: 0.0447 - val_accuracy: 0.4980 - val_precision: 0.9950 - val_recall: 0.9950\n",
            "Epoch 139/150\n",
            "500/500 [==============================] - 35s 69ms/step - loss: 0.0000e+00 - accuracy: 0.5261 - precision: 1.0000 - recall: 1.0000 - val_loss: 0.0448 - val_accuracy: 0.4985 - val_precision: 0.9950 - val_recall: 0.9950\n",
            "Epoch 140/150\n",
            "500/500 [==============================] - 35s 69ms/step - loss: 0.0000e+00 - accuracy: 0.5264 - precision: 1.0000 - recall: 1.0000 - val_loss: 0.0449 - val_accuracy: 0.4980 - val_precision: 0.9950 - val_recall: 0.9950\n",
            "Epoch 141/150\n",
            "500/500 [==============================] - 35s 69ms/step - loss: 0.0000e+00 - accuracy: 0.5268 - precision: 1.0000 - recall: 1.0000 - val_loss: 0.0447 - val_accuracy: 0.4985 - val_precision: 0.9950 - val_recall: 0.9950\n",
            "Epoch 142/150\n",
            "500/500 [==============================] - 35s 69ms/step - loss: 0.0000e+00 - accuracy: 0.5264 - precision: 1.0000 - recall: 1.0000 - val_loss: 0.0449 - val_accuracy: 0.4980 - val_precision: 0.9950 - val_recall: 0.9950\n",
            "Epoch 143/150\n",
            "500/500 [==============================] - 34s 69ms/step - loss: 0.0000e+00 - accuracy: 0.5266 - precision: 1.0000 - recall: 1.0000 - val_loss: 0.0450 - val_accuracy: 0.4990 - val_precision: 0.9950 - val_recall: 0.9950\n",
            "Epoch 144/150\n",
            "500/500 [==============================] - 35s 70ms/step - loss: 0.0000e+00 - accuracy: 0.5269 - precision: 1.0000 - recall: 1.0000 - val_loss: 0.0451 - val_accuracy: 0.4990 - val_precision: 0.9950 - val_recall: 0.9950\n",
            "Epoch 145/150\n",
            "500/500 [==============================] - 35s 69ms/step - loss: 0.0000e+00 - accuracy: 0.5268 - precision: 1.0000 - recall: 1.0000 - val_loss: 0.0449 - val_accuracy: 0.4985 - val_precision: 0.9950 - val_recall: 0.9950\n",
            "Epoch 146/150\n",
            "500/500 [==============================] - 35s 69ms/step - loss: 0.0000e+00 - accuracy: 0.5269 - precision: 1.0000 - recall: 1.0000 - val_loss: 0.0448 - val_accuracy: 0.4990 - val_precision: 0.9950 - val_recall: 0.9950\n",
            "Epoch 147/150\n",
            "500/500 [==============================] - 35s 69ms/step - loss: 0.0000e+00 - accuracy: 0.5269 - precision: 1.0000 - recall: 1.0000 - val_loss: 0.0449 - val_accuracy: 0.4990 - val_precision: 0.9950 - val_recall: 0.9950\n",
            "Epoch 148/150\n",
            "500/500 [==============================] - 34s 69ms/step - loss: 0.0000e+00 - accuracy: 0.5269 - precision: 1.0000 - recall: 1.0000 - val_loss: 0.0450 - val_accuracy: 0.4995 - val_precision: 0.9950 - val_recall: 0.9950\n",
            "Epoch 149/150\n",
            "500/500 [==============================] - 35s 70ms/step - loss: 0.0000e+00 - accuracy: 0.5271 - precision: 1.0000 - recall: 1.0000 - val_loss: 0.0452 - val_accuracy: 0.4990 - val_precision: 0.9950 - val_recall: 0.9950\n",
            "Epoch 150/150\n",
            "500/500 [==============================] - 33s 66ms/step - loss: 0.0000e+00 - accuracy: 0.5274 - precision: 1.0000 - recall: 1.0000 - val_loss: 0.0451 - val_accuracy: 0.4990 - val_precision: 0.9950 - val_recall: 0.9950\n"
          ]
        }
      ],
      "source": [
        "import datetime\n",
        "\n",
        "tensorboard_callback = tf.keras.callbacks.TensorBoard(log_dir=log_dir, histogram_freq=1)\n",
        "history = model.fit(\n",
        "    train_generator,\n",
        "    validation_data = test_generator,\n",
        "    steps_per_epoch = train_size/batch_size,\n",
        "    epochs = epochs,\n",
        "    validation_steps = test_size/batch_size,\n",
        "    callbacks=[tensorboard_callback]\n",
        ")"
      ]
    },
    {
      "cell_type": "code",
      "execution_count": 13,
      "metadata": {
        "id": "YRX7r_azHO4N"
      },
      "outputs": [
        {
          "data": {
            "image/png": "[encoded data removed]",
            "text/plain": [
              "<Figure size 432x288 with 1 Axes>"
            ]
          },
          "metadata": {
            "needs_background": "light"
          },
          "output_type": "display_data"
        },
        {
          "data": {
            "image/png": "[encoded data removed]",
            "text/plain": [
              "<Figure size 432x288 with 1 Axes>"
            ]
          },
          "metadata": {
            "needs_background": "light"
          },
          "output_type": "display_data"
        }
      ],
      "source": [
        "import matplotlib.pyplot as plt\n",
        "acc = history.history['accuracy']\n",
        "val_acc = history.history['val_accuracy']\n",
        "loss = history.history['loss']\n",
        "val_loss = history.history['val_loss']\n",
        "precision = history.history['precision']\n",
        "recall = history.history['recall']\n",
        "\n",
        "epochs = range(len(acc))\n",
        "\n",
        "plt.plot(epochs, acc, 'bo', label='Training accuracy')\n",
        "plt.plot(epochs, val_acc, 'b', label='Validation accuracy')\n",
        "plt.title('Training and validation accuracy')\n",
        "plt.savefig(f\"{run_prefix}acc.svg\")\n",
        "plt.figure()\n",
        "\n",
        "\n",
        "plt.plot(epochs, loss, 'bo', label='Training Loss')\n",
        "plt.plot(epochs, val_loss, 'b', label='Validation Loss')\n",
        "plt.title('Training and validation loss')\n",
        "plt.legend()\n",
        "plt.savefig(f\"{run_prefix}loss.svg\")\n",
        "\n",
        "plt.show()"
      ]
    },
    {
      "cell_type": "code",
      "execution_count": 14,
      "metadata": {
        "id": "IDCPxBt6HKOf"
      },
      "outputs": [],
      "source": [
        "#model.save(f\"{run_prefix}{model_current}.h5\")"
      ]
    },
    {
      "cell_type": "code",
      "execution_count": 15,
      "metadata": {},
      "outputs": [],
      "source": [
        "import csv\n",
        "\n",
        "header = [\"train_acc\", \"val_acc\", \"train_loss\", \"val_loss\", \"precision\", \"recall\"]\n",
        "\n",
        "with open(f'{run_prefix}metrics.csv', 'w', encoding='UTF8', newline='') as f:\n",
        "    writer = csv.writer(f)\n",
        "\n",
        "    # write the header\n",
        "    writer.writerow(header)\n",
        "    for idx in range(len(acc)):\n",
        "        line = [acc[idx],val_acc[idx],loss[idx],val_loss[idx], precision[idx], recall[idx]]        \n",
        "        writer.writerow(line)\n"
      ]
    }
  ],
  "metadata": {
    "colab": {
      "name": "apple-rotten-vgg16.ipynb",
      "provenance": []
    },
    "kernelspec": {
      "display_name": "Python 3.10.5 ('vgg')",
      "language": "python",
      "name": "python3"
    },
    "language_info": {
      "codemirror_mode": {
        "name": "ipython",
        "version": 3
      },
      "file_extension": ".py",
      "mimetype": "text/x-python",
      "name": "python",
      "nbconvert_exporter": "python",
      "pygments_lexer": "ipython3",
      "version": "3.10.5"
    },
    "vscode": {
      "interpreter": {
        "hash": "ff58de072d64611dbae8c4170fcafe8ac36933b60b8ebb2ab3f373fa4c0cda03"
      }
    }
  },
  "nbformat": 4,
  "nbformat_minor": 0
}
