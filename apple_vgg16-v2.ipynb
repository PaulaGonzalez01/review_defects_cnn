{
  "cells": [
    {
      "cell_type": "markdown",
      "metadata": {
        "id": "1GHJkeI7ikNV"
      },
      "source": [
        "**Import dependecies**"
      ]
    },
    {
      "cell_type": "code",
      "execution_count": 1,
      "metadata": {},
      "outputs": [
        {
          "name": "stdout",
          "output_type": "stream",
          "text": [
            "Collecting package metadata (current_repodata.json): done\n",
            "Solving environment: done\n",
            "\n",
            "\n",
            "==> WARNING: A newer version of conda exists. <==\n",
            "  current version: 4.12.0\n",
            "  latest version: 4.13.0\n",
            "\n",
            "Please update conda by running\n",
            "\n",
            "    $ conda update -n base conda\n",
            "\n",
            "\n",
            "\n",
            "# All requested packages already installed.\n",
            "\n",
            "\n",
            "Note: you may need to restart the kernel to use updated packages.\n",
            "Requirement already satisfied: tensorflow-macos in /opt/homebrew/Caskroom/miniforge/base/envs/vgg/lib/python3.10/site-packages (2.9.2)\n",
            "Requirement already satisfied: tensorflow-metal in /opt/homebrew/Caskroom/miniforge/base/envs/vgg/lib/python3.10/site-packages (0.5.0)\n",
            "Requirement already satisfied: packaging in /opt/homebrew/Caskroom/miniforge/base/envs/vgg/lib/python3.10/site-packages (from tensorflow-macos) (21.3)\n",
            "Requirement already satisfied: astunparse>=1.6.0 in /opt/homebrew/Caskroom/miniforge/base/envs/vgg/lib/python3.10/site-packages (from tensorflow-macos) (1.6.3)\n",
            "Requirement already satisfied: opt-einsum>=2.3.2 in /opt/homebrew/Caskroom/miniforge/base/envs/vgg/lib/python3.10/site-packages (from tensorflow-macos) (3.3.0)\n",
            "Requirement already satisfied: termcolor>=1.1.0 in /opt/homebrew/Caskroom/miniforge/base/envs/vgg/lib/python3.10/site-packages (from tensorflow-macos) (1.1.0)\n",
            "Requirement already satisfied: protobuf<3.20,>=3.9.2 in /opt/homebrew/Caskroom/miniforge/base/envs/vgg/lib/python3.10/site-packages (from tensorflow-macos) (3.19.4)\n",
            "Requirement already satisfied: keras-preprocessing>=1.1.1 in /opt/homebrew/Caskroom/miniforge/base/envs/vgg/lib/python3.10/site-packages (from tensorflow-macos) (1.1.2)\n",
            "Requirement already satisfied: gast<=0.4.0,>=0.2.1 in /opt/homebrew/Caskroom/miniforge/base/envs/vgg/lib/python3.10/site-packages (from tensorflow-macos) (0.4.0)\n",
            "Requirement already satisfied: libclang>=13.0.0 in /opt/homebrew/Caskroom/miniforge/base/envs/vgg/lib/python3.10/site-packages (from tensorflow-macos) (14.0.1)\n",
            "Requirement already satisfied: absl-py>=1.0.0 in /opt/homebrew/Caskroom/miniforge/base/envs/vgg/lib/python3.10/site-packages (from tensorflow-macos) (1.1.0)\n",
            "Requirement already satisfied: wrapt>=1.11.0 in /opt/homebrew/Caskroom/miniforge/base/envs/vgg/lib/python3.10/site-packages (from tensorflow-macos) (1.14.1)\n",
            "Requirement already satisfied: six>=1.12.0 in /opt/homebrew/Caskroom/miniforge/base/envs/vgg/lib/python3.10/site-packages (from tensorflow-macos) (1.15.0)\n",
            "Requirement already satisfied: setuptools in /opt/homebrew/Caskroom/miniforge/base/envs/vgg/lib/python3.10/site-packages (from tensorflow-macos) (62.6.0)\n",
            "Requirement already satisfied: google-pasta>=0.1.1 in /opt/homebrew/Caskroom/miniforge/base/envs/vgg/lib/python3.10/site-packages (from tensorflow-macos) (0.2.0)\n",
            "Requirement already satisfied: tensorflow-estimator<2.10.0,>=2.9.0rc0 in /opt/homebrew/Caskroom/miniforge/base/envs/vgg/lib/python3.10/site-packages (from tensorflow-macos) (2.9.0)\n",
            "Requirement already satisfied: h5py>=2.9.0 in /opt/homebrew/Caskroom/miniforge/base/envs/vgg/lib/python3.10/site-packages (from tensorflow-macos) (3.6.0)\n",
            "Requirement already satisfied: keras<2.10.0,>=2.9.0rc0 in /opt/homebrew/Caskroom/miniforge/base/envs/vgg/lib/python3.10/site-packages (from tensorflow-macos) (2.9.0)\n",
            "Requirement already satisfied: numpy>=1.20 in /opt/homebrew/Caskroom/miniforge/base/envs/vgg/lib/python3.10/site-packages (from tensorflow-macos) (1.22.4)\n",
            "Requirement already satisfied: grpcio<2.0,>=1.24.3 in /opt/homebrew/Caskroom/miniforge/base/envs/vgg/lib/python3.10/site-packages (from tensorflow-macos) (1.47.0)\n",
            "Requirement already satisfied: flatbuffers<2,>=1.12 in /opt/homebrew/Caskroom/miniforge/base/envs/vgg/lib/python3.10/site-packages (from tensorflow-macos) (1.12)\n",
            "Requirement already satisfied: tensorboard<2.10,>=2.9 in /opt/homebrew/Caskroom/miniforge/base/envs/vgg/lib/python3.10/site-packages (from tensorflow-macos) (2.9.1)\n",
            "Requirement already satisfied: typing-extensions>=3.6.6 in /opt/homebrew/Caskroom/miniforge/base/envs/vgg/lib/python3.10/site-packages (from tensorflow-macos) (4.2.0)\n",
            "Requirement already satisfied: wheel~=0.35 in /opt/homebrew/Caskroom/miniforge/base/envs/vgg/lib/python3.10/site-packages (from tensorflow-metal) (0.37.1)\n",
            "Requirement already satisfied: google-auth-oauthlib<0.5,>=0.4.1 in /opt/homebrew/Caskroom/miniforge/base/envs/vgg/lib/python3.10/site-packages (from tensorboard<2.10,>=2.9->tensorflow-macos) (0.4.6)\n",
            "Requirement already satisfied: requests<3,>=2.21.0 in /opt/homebrew/Caskroom/miniforge/base/envs/vgg/lib/python3.10/site-packages (from tensorboard<2.10,>=2.9->tensorflow-macos) (2.28.1)\n",
            "Requirement already satisfied: tensorboard-data-server<0.7.0,>=0.6.0 in /opt/homebrew/Caskroom/miniforge/base/envs/vgg/lib/python3.10/site-packages (from tensorboard<2.10,>=2.9->tensorflow-macos) (0.6.1)\n",
            "Requirement already satisfied: tensorboard-plugin-wit>=1.6.0 in /opt/homebrew/Caskroom/miniforge/base/envs/vgg/lib/python3.10/site-packages (from tensorboard<2.10,>=2.9->tensorflow-macos) (1.8.1)\n",
            "Requirement already satisfied: markdown>=2.6.8 in /opt/homebrew/Caskroom/miniforge/base/envs/vgg/lib/python3.10/site-packages (from tensorboard<2.10,>=2.9->tensorflow-macos) (3.3.7)\n",
            "Requirement already satisfied: werkzeug>=1.0.1 in /opt/homebrew/Caskroom/miniforge/base/envs/vgg/lib/python3.10/site-packages (from tensorboard<2.10,>=2.9->tensorflow-macos) (2.1.2)\n",
            "Requirement already satisfied: google-auth<3,>=1.6.3 in /opt/homebrew/Caskroom/miniforge/base/envs/vgg/lib/python3.10/site-packages (from tensorboard<2.10,>=2.9->tensorflow-macos) (2.9.0)\n",
            "Requirement already satisfied: pyparsing!=3.0.5,>=2.0.2 in /opt/homebrew/Caskroom/miniforge/base/envs/vgg/lib/python3.10/site-packages (from packaging->tensorflow-macos) (3.0.9)\n",
            "Requirement already satisfied: pyasn1-modules>=0.2.1 in /opt/homebrew/Caskroom/miniforge/base/envs/vgg/lib/python3.10/site-packages (from google-auth<3,>=1.6.3->tensorboard<2.10,>=2.9->tensorflow-macos) (0.2.8)\n",
            "Requirement already satisfied: cachetools<6.0,>=2.0.0 in /opt/homebrew/Caskroom/miniforge/base/envs/vgg/lib/python3.10/site-packages (from google-auth<3,>=1.6.3->tensorboard<2.10,>=2.9->tensorflow-macos) (5.2.0)\n",
            "Requirement already satisfied: rsa<5,>=3.1.4 in /opt/homebrew/Caskroom/miniforge/base/envs/vgg/lib/python3.10/site-packages (from google-auth<3,>=1.6.3->tensorboard<2.10,>=2.9->tensorflow-macos) (4.8)\n",
            "Requirement already satisfied: requests-oauthlib>=0.7.0 in /opt/homebrew/Caskroom/miniforge/base/envs/vgg/lib/python3.10/site-packages (from google-auth-oauthlib<0.5,>=0.4.1->tensorboard<2.10,>=2.9->tensorflow-macos) (1.3.1)\n",
            "Requirement already satisfied: urllib3<1.27,>=1.21.1 in /opt/homebrew/Caskroom/miniforge/base/envs/vgg/lib/python3.10/site-packages (from requests<3,>=2.21.0->tensorboard<2.10,>=2.9->tensorflow-macos) (1.26.9)\n",
            "Requirement already satisfied: charset-normalizer<3,>=2 in /opt/homebrew/Caskroom/miniforge/base/envs/vgg/lib/python3.10/site-packages (from requests<3,>=2.21.0->tensorboard<2.10,>=2.9->tensorflow-macos) (2.1.0)\n",
            "Requirement already satisfied: certifi>=2017.4.17 in /opt/homebrew/Caskroom/miniforge/base/envs/vgg/lib/python3.10/site-packages (from requests<3,>=2.21.0->tensorboard<2.10,>=2.9->tensorflow-macos) (2022.6.15)\n",
            "Requirement already satisfied: idna<4,>=2.5 in /opt/homebrew/Caskroom/miniforge/base/envs/vgg/lib/python3.10/site-packages (from requests<3,>=2.21.0->tensorboard<2.10,>=2.9->tensorflow-macos) (3.3)\n",
            "Requirement already satisfied: pyasn1<0.5.0,>=0.4.6 in /opt/homebrew/Caskroom/miniforge/base/envs/vgg/lib/python3.10/site-packages (from pyasn1-modules>=0.2.1->google-auth<3,>=1.6.3->tensorboard<2.10,>=2.9->tensorflow-macos) (0.4.8)\n",
            "Requirement already satisfied: oauthlib>=3.0.0 in /opt/homebrew/Caskroom/miniforge/base/envs/vgg/lib/python3.10/site-packages (from requests-oauthlib>=0.7.0->google-auth-oauthlib<0.5,>=0.4.1->tensorboard<2.10,>=2.9->tensorflow-macos) (3.2.0)\n",
            "Note: you may need to restart the kernel to use updated packages.\n",
            "Requirement already satisfied: pandas in /opt/homebrew/Caskroom/miniforge/base/envs/vgg/lib/python3.10/site-packages (1.4.3)\n",
            "Requirement already satisfied: numpy in /opt/homebrew/Caskroom/miniforge/base/envs/vgg/lib/python3.10/site-packages (1.22.4)\n",
            "Requirement already satisfied: pillow in /opt/homebrew/Caskroom/miniforge/base/envs/vgg/lib/python3.10/site-packages (9.1.1)\n",
            "Requirement already satisfied: matplotlib in /opt/homebrew/Caskroom/miniforge/base/envs/vgg/lib/python3.10/site-packages (3.5.2)\n",
            "Requirement already satisfied: scipy in /opt/homebrew/Caskroom/miniforge/base/envs/vgg/lib/python3.10/site-packages (1.8.1)\n",
            "Requirement already satisfied: autopep8 in /opt/homebrew/Caskroom/miniforge/base/envs/vgg/lib/python3.10/site-packages (1.6.0)\n",
            "Requirement already satisfied: pydot in /opt/homebrew/Caskroom/miniforge/base/envs/vgg/lib/python3.10/site-packages (1.4.2)\n",
            "Requirement already satisfied: pytz>=2020.1 in /opt/homebrew/Caskroom/miniforge/base/envs/vgg/lib/python3.10/site-packages (from pandas) (2022.1)\n",
            "Requirement already satisfied: python-dateutil>=2.8.1 in /opt/homebrew/Caskroom/miniforge/base/envs/vgg/lib/python3.10/site-packages (from pandas) (2.8.2)\n",
            "Requirement already satisfied: packaging>=20.0 in /opt/homebrew/Caskroom/miniforge/base/envs/vgg/lib/python3.10/site-packages (from matplotlib) (21.3)\n",
            "Requirement already satisfied: pyparsing>=2.2.1 in /opt/homebrew/Caskroom/miniforge/base/envs/vgg/lib/python3.10/site-packages (from matplotlib) (3.0.9)\n",
            "Requirement already satisfied: cycler>=0.10 in /opt/homebrew/Caskroom/miniforge/base/envs/vgg/lib/python3.10/site-packages (from matplotlib) (0.11.0)\n",
            "Requirement already satisfied: fonttools>=4.22.0 in /opt/homebrew/Caskroom/miniforge/base/envs/vgg/lib/python3.10/site-packages (from matplotlib) (4.33.3)\n",
            "Requirement already satisfied: kiwisolver>=1.0.1 in /opt/homebrew/Caskroom/miniforge/base/envs/vgg/lib/python3.10/site-packages (from matplotlib) (1.4.3)\n",
            "Requirement already satisfied: toml in /opt/homebrew/Caskroom/miniforge/base/envs/vgg/lib/python3.10/site-packages (from autopep8) (0.10.2)\n",
            "Requirement already satisfied: pycodestyle>=2.8.0 in /opt/homebrew/Caskroom/miniforge/base/envs/vgg/lib/python3.10/site-packages (from autopep8) (2.8.0)\n",
            "Requirement already satisfied: six>=1.5 in /opt/homebrew/Caskroom/miniforge/base/envs/vgg/lib/python3.10/site-packages (from python-dateutil>=2.8.1->pandas) (1.15.0)\n",
            "Note: you may need to restart the kernel to use updated packages.\n"
          ]
        }
      ],
      "source": [
        "\n",
        "%conda install -c apple tensorflow-deps scipy #macos\n",
        "%pip install tensorflow-macos tensorflow-metal #macos\n",
        "'''\n",
        "%pip install --upgrade tensorflow \n",
        "%pip install pydot graphviz\n",
        "'''\n",
        "%pip install pandas numpy pillow matplotlib scipy autopep8 pydot\n"
      ]
    },
    {
      "cell_type": "code",
      "execution_count": 2,
      "metadata": {},
      "outputs": [],
      "source": [
        "%load_ext tensorboard"
      ]
    },
    {
      "cell_type": "code",
      "execution_count": 3,
      "metadata": {},
      "outputs": [
        {
          "name": "stdout",
          "output_type": "stream",
          "text": [
            "Num GPUs Available:  1\n"
          ]
        }
      ],
      "source": [
        "import tensorflow as tf\n",
        "print(\"Num GPUs Available: \", len(tf.config.list_physical_devices('GPU')))"
      ]
    },
    {
      "cell_type": "code",
      "execution_count": 4,
      "metadata": {},
      "outputs": [
        {
          "data": {
            "text/plain": [
              "[PhysicalDevice(name='/physical_device:CPU:0', device_type='CPU'),\n",
              " PhysicalDevice(name='/physical_device:GPU:0', device_type='GPU')]"
            ]
          },
          "execution_count": 4,
          "metadata": {},
          "output_type": "execute_result"
        }
      ],
      "source": [
        "tf.config.list_physical_devices()"
      ]
    },
    {
      "cell_type": "code",
      "execution_count": 5,
      "metadata": {
        "id": "eJiLL0VGe_wI"
      },
      "outputs": [
        {
          "data": {
            "text/plain": [
              "'./runs/apple/vgg16/20220727-175321/'"
            ]
          },
          "execution_count": 5,
          "metadata": {},
          "output_type": "execute_result"
        }
      ],
      "source": [
        "import os\n",
        "from tensorflow import keras\n",
        "from keras.applications.vgg16 import VGG16\n",
        "from keras.optimizers import Adam\n",
        "from keras.preprocessing.image import ImageDataGenerator\n",
        "from keras import layers\n",
        "from keras import Model\n",
        "import datetime\n",
        "\n",
        "fruit = \"apple\"\n",
        "model_current = \"vgg16\"\n",
        "curr_datetime = datetime.datetime.now().strftime(\"%Y%m%d-%H%M%S\")\n",
        "run_prefix = f'./runs/{fruit}/{model_current}/{curr_datetime}/'\n",
        "results_prefix = f'./results/{fruit}/{model_current}/{curr_datetime}/'\n",
        "log_dir = f'logs/fit/{fruit}/{model_current}/{curr_datetime}'\n",
        "os.makedirs(run_prefix, exist_ok=True)\n",
        "os.makedirs(results_prefix, exist_ok=True)\n",
        "run_prefix\n"
      ]
    },
    {
      "cell_type": "markdown",
      "metadata": {
        "id": "7XFtXmuTisRa"
      },
      "source": [
        "**Create an imagedatagenerator object to label data**"
      ]
    },
    {
      "cell_type": "code",
      "execution_count": 6,
      "metadata": {
        "colab": {
          "base_uri": "https://localhost:8080/"
        },
        "id": "7nhMVi8sc-iA",
        "outputId": "d3b3b177-4001-4d64-8e4a-e1efd77dbb9b"
      },
      "outputs": [
        {
          "name": "stdout",
          "output_type": "stream",
          "text": [
            "Found 8000 images belonging to 2 classes.\n",
            "Found 2000 images belonging to 2 classes.\n"
          ]
        }
      ],
      "source": [
        "input_size = 128\n",
        "batch_size = 16\n",
        "train_size = 8000\n",
        "test_size = 2000\n",
        "learning_rate = 0.001\n",
        "epochs = 200\n",
        "dropout = 0.5\n",
        "dense_size = 4096\n",
        "\n",
        "train_datagen = ImageDataGenerator(rescale = 1./255)\n",
        "test_datagen = ImageDataGenerator(rescale = 1./255)\n",
        "train_dir = f\"./dataset_frutas_colab/{fruit}/train\"\n",
        "test_dir = f\"./dataset_frutas_colab/{fruit}/test\"\n",
        "train_generator = train_datagen.flow_from_directory(train_dir,batch_size=batch_size,class_mode = 'binary', target_size=(input_size,input_size), shuffle= True)\n",
        "test_generator = test_datagen.flow_from_directory(test_dir,batch_size=batch_size,class_mode = 'binary', target_size=(input_size,input_size), shuffle= True)"
      ]
    },
    {
      "cell_type": "markdown",
      "metadata": {},
      "source": [
        "VGG16 model"
      ]
    },
    {
      "cell_type": "code",
      "execution_count": 7,
      "metadata": {
        "id": "ge7tchaKGh9C"
      },
      "outputs": [
        {
          "name": "stdout",
          "output_type": "stream",
          "text": [
            "Metal device set to: Apple M1 Pro\n",
            "\n",
            "systemMemory: 16.00 GB\n",
            "maxCacheSize: 5.33 GB\n",
            "\n"
          ]
        },
        {
          "name": "stderr",
          "output_type": "stream",
          "text": [
            "2022-07-27 17:53:21.537805: I tensorflow/core/common_runtime/pluggable_device/pluggable_device_factory.cc:305] Could not identify NUMA node of platform GPU ID 0, defaulting to 0. Your kernel may not have been built with NUMA support.\n",
            "2022-07-27 17:53:21.538156: I tensorflow/core/common_runtime/pluggable_device/pluggable_device_factory.cc:271] Created TensorFlow device (/job:localhost/replica:0/task:0/device:GPU:0 with 0 MB memory) -> physical PluggableDevice (device: 0, name: METAL, pci bus id: <undefined>)\n"
          ]
        }
      ],
      "source": [
        "pre_trained_model = VGG16(\n",
        "    input_shape = (input_size,input_size,3),\n",
        "    include_top = False\n",
        ")\n"
      ]
    },
    {
      "cell_type": "markdown",
      "metadata": {
        "id": "efoR8KpwGa-i"
      },
      "source": [
        "Start transfer learning process"
      ]
    },
    {
      "cell_type": "code",
      "execution_count": 8,
      "metadata": {},
      "outputs": [],
      "source": [
        "for layer in pre_trained_model.layers:\n",
        "  layer.trainable = False"
      ]
    },
    {
      "cell_type": "code",
      "execution_count": 9,
      "metadata": {
        "id": "ucb7feWOGt3h"
      },
      "outputs": [],
      "source": [
        "import tensorflow as tf\n",
        "#Flatten\n",
        "x = layers.Flatten()(pre_trained_model.output)\n",
        "#Fully connected layer con 1,024 hidden units y ReLU\n",
        "x = layers.Dense(dense_size, activation='relu')(x)\n",
        "#Dropout rate\n",
        "x = layers.Dropout(dropout)(x)\n",
        "#Función de clasificación sigmoidal - Clasificación binaria\n",
        "x = layers.Dense(1,activation='sigmoid')(x)\n",
        "\n",
        "model = Model(pre_trained_model.input,x)\n",
        "\n",
        "model.compile(optimizer = Adam(learning_rate=learning_rate),\n",
        "              loss='binary_crossentropy',\n",
        "              metrics = [tf.keras.metrics.Accuracy(),\n",
        "                         tf.keras.metrics.Precision(), \n",
        "                         tf.keras.metrics.Recall()])"
      ]
    },
    {
      "cell_type": "code",
      "execution_count": 10,
      "metadata": {},
      "outputs": [
        {
          "name": "stdout",
          "output_type": "stream",
          "text": [
            "Saved Model Image\n"
          ]
        }
      ],
      "source": [
        "tf.keras.utils.plot_model(\n",
        "    model,\n",
        "    to_file=f\"{run_prefix}model.png\",\n",
        "    show_shapes=True,\n",
        "    show_dtype=False,\n",
        "    show_layer_names=True,\n",
        "    rankdir=\"TB\",\n",
        "    expand_nested=True,\n",
        "    dpi=96,\n",
        "    layer_range=None,\n",
        "    show_layer_activations=True,\n",
        ")\n",
        "print(\"Saved Model Image\")"
      ]
    },
    {
      "cell_type": "code",
      "execution_count": 11,
      "metadata": {
        "colab": {
          "base_uri": "https://localhost:8080/"
        },
        "id": "mRJn0TwfHCGr",
        "outputId": "5e1c64ab-847d-4dae-94c3-96726d624c0c"
      },
      "outputs": [
        {
          "name": "stdout",
          "output_type": "stream",
          "text": [
            "Epoch 1/200\n"
          ]
        },
        {
          "name": "stderr",
          "output_type": "stream",
          "text": [
            "2022-07-27 17:53:22.685797: W tensorflow/core/platform/profile_utils/cpu_utils.cc:128] Failed to get CPU frequency: 0 Hz\n",
            "2022-07-27 17:53:23.198873: I tensorflow/core/grappler/optimizers/custom_graph_optimizer_registry.cc:113] Plugin optimizer for device_type GPU is enabled.\n"
          ]
        },
        {
          "name": "stdout",
          "output_type": "stream",
          "text": [
            "500/500 [==============================] - ETA: 0s - loss: 0.2837 - accuracy: 0.0010 - precision: 0.8997 - recall: 0.9108"
          ]
        },
        {
          "name": "stderr",
          "output_type": "stream",
          "text": [
            "2022-07-27 17:53:53.769583: I tensorflow/core/grappler/optimizers/custom_graph_optimizer_registry.cc:113] Plugin optimizer for device_type GPU is enabled.\n"
          ]
        },
        {
          "name": "stdout",
          "output_type": "stream",
          "text": [
            "500/500 [==============================] - 49s 97ms/step - loss: 0.2837 - accuracy: 0.0010 - precision: 0.8997 - recall: 0.9108 - val_loss: 0.1915 - val_accuracy: 0.0000e+00 - val_precision: 0.9976 - val_recall: 0.8380\n",
            "Epoch 2/200\n",
            "500/500 [==============================] - 47s 94ms/step - loss: 0.1127 - accuracy: 0.0019 - precision: 0.9552 - recall: 0.9600 - val_loss: 0.3703 - val_accuracy: 0.0000e+00 - val_precision: 1.0000 - val_recall: 0.6610\n",
            "Epoch 3/200\n",
            "500/500 [==============================] - 46s 91ms/step - loss: 0.0889 - accuracy: 0.0055 - precision: 0.9661 - recall: 0.9680 - val_loss: 0.2832 - val_accuracy: 0.0000e+00 - val_precision: 0.9987 - val_recall: 0.7420\n",
            "Epoch 4/200\n",
            "500/500 [==============================] - 46s 92ms/step - loss: 0.0654 - accuracy: 0.0165 - precision: 0.9758 - recall: 0.9785 - val_loss: 0.2676 - val_accuracy: 0.0000e+00 - val_precision: 1.0000 - val_recall: 0.7810\n",
            "Epoch 5/200\n",
            "500/500 [==============================] - 46s 92ms/step - loss: 0.0550 - accuracy: 0.0336 - precision: 0.9788 - recall: 0.9823 - val_loss: 0.1499 - val_accuracy: 0.0000e+00 - val_precision: 0.9989 - val_recall: 0.8800\n",
            "Epoch 6/200\n",
            "500/500 [==============================] - 45s 90ms/step - loss: 0.0511 - accuracy: 0.0523 - precision: 0.9798 - recall: 0.9830 - val_loss: 0.0518 - val_accuracy: 0.0000e+00 - val_precision: 0.9959 - val_recall: 0.9670\n",
            "Epoch 7/200\n",
            "500/500 [==============================] - 45s 89ms/step - loss: 0.0510 - accuracy: 0.0533 - precision: 0.9798 - recall: 0.9825 - val_loss: 0.0709 - val_accuracy: 0.0000e+00 - val_precision: 0.9968 - val_recall: 0.9460\n",
            "Epoch 8/200\n",
            "500/500 [==============================] - 45s 90ms/step - loss: 0.0279 - accuracy: 0.0809 - precision: 0.9898 - recall: 0.9905 - val_loss: 0.3506 - val_accuracy: 0.0000e+00 - val_precision: 1.0000 - val_recall: 0.7280\n",
            "Epoch 9/200\n",
            "500/500 [==============================] - 46s 91ms/step - loss: 0.0331 - accuracy: 0.1239 - precision: 0.9870 - recall: 0.9890 - val_loss: 0.2161 - val_accuracy: 5.0000e-04 - val_precision: 0.9988 - val_recall: 0.8350\n",
            "Epoch 10/200\n",
            "500/500 [==============================] - 48s 95ms/step - loss: 0.0302 - accuracy: 0.1148 - precision: 0.9888 - recall: 0.9908 - val_loss: 0.1733 - val_accuracy: 0.0015 - val_precision: 1.0000 - val_recall: 0.8640\n",
            "Epoch 11/200\n",
            "500/500 [==============================] - 47s 94ms/step - loss: 0.0207 - accuracy: 0.1360 - precision: 0.9923 - recall: 0.9933 - val_loss: 0.1342 - val_accuracy: 0.0050 - val_precision: 0.9989 - val_recall: 0.8880\n",
            "Epoch 12/200\n",
            "500/500 [==============================] - 46s 92ms/step - loss: 0.0283 - accuracy: 0.1594 - precision: 0.9895 - recall: 0.9903 - val_loss: 0.0462 - val_accuracy: 0.0655 - val_precision: 0.9708 - val_recall: 0.9970\n",
            "Epoch 13/200\n",
            "500/500 [==============================] - 46s 91ms/step - loss: 0.0361 - accuracy: 0.1869 - precision: 0.9858 - recall: 0.9868 - val_loss: 0.1843 - val_accuracy: 0.0060 - val_precision: 1.0000 - val_recall: 0.8610\n",
            "Epoch 14/200\n",
            "500/500 [==============================] - 47s 94ms/step - loss: 0.0182 - accuracy: 0.1891 - precision: 0.9928 - recall: 0.9930 - val_loss: 0.0356 - val_accuracy: 0.0300 - val_precision: 0.9929 - val_recall: 0.9800\n",
            "Epoch 15/200\n",
            "500/500 [==============================] - 47s 93ms/step - loss: 0.0147 - accuracy: 0.2016 - precision: 0.9948 - recall: 0.9958 - val_loss: 0.3167 - val_accuracy: 0.0040 - val_precision: 1.0000 - val_recall: 0.7930\n",
            "Epoch 16/200\n",
            "500/500 [==============================] - 46s 92ms/step - loss: 0.0195 - accuracy: 0.2138 - precision: 0.9928 - recall: 0.9930 - val_loss: 0.0583 - val_accuracy: 0.0230 - val_precision: 0.9979 - val_recall: 0.9630\n",
            "Epoch 17/200\n",
            "500/500 [==============================] - 46s 92ms/step - loss: 0.0134 - accuracy: 0.2475 - precision: 0.9945 - recall: 0.9958 - val_loss: 0.0899 - val_accuracy: 0.0270 - val_precision: 0.9979 - val_recall: 0.9330\n",
            "Epoch 18/200\n",
            "500/500 [==============================] - 46s 92ms/step - loss: 0.0308 - accuracy: 0.2164 - precision: 0.9880 - recall: 0.9885 - val_loss: 0.1745 - val_accuracy: 0.0025 - val_precision: 1.0000 - val_recall: 0.8790\n",
            "Epoch 19/200\n",
            "500/500 [==============================] - 45s 90ms/step - loss: 0.0184 - accuracy: 0.2380 - precision: 0.9945 - recall: 0.9933 - val_loss: 0.1111 - val_accuracy: 0.0095 - val_precision: 0.9978 - val_recall: 0.9230\n",
            "Epoch 20/200\n",
            "500/500 [==============================] - 47s 93ms/step - loss: 0.0169 - accuracy: 0.2150 - precision: 0.9928 - recall: 0.9933 - val_loss: 0.0451 - val_accuracy: 0.0360 - val_precision: 0.9959 - val_recall: 0.9670\n",
            "Epoch 21/200\n",
            "500/500 [==============================] - 45s 89ms/step - loss: 0.0140 - accuracy: 0.2373 - precision: 0.9938 - recall: 0.9948 - val_loss: 0.1169 - val_accuracy: 0.0135 - val_precision: 0.9989 - val_recall: 0.9180\n",
            "Epoch 22/200\n",
            "500/500 [==============================] - 45s 90ms/step - loss: 0.0081 - accuracy: 0.2406 - precision: 0.9963 - recall: 0.9963 - val_loss: 0.2710 - val_accuracy: 0.0140 - val_precision: 0.9988 - val_recall: 0.8290\n",
            "Epoch 23/200\n",
            "500/500 [==============================] - 46s 91ms/step - loss: 0.0100 - accuracy: 0.2750 - precision: 0.9967 - recall: 0.9960 - val_loss: 0.0679 - val_accuracy: 0.0595 - val_precision: 0.9979 - val_recall: 0.9540\n",
            "Epoch 24/200\n",
            "500/500 [==============================] - 45s 90ms/step - loss: 0.0181 - accuracy: 0.2754 - precision: 0.9942 - recall: 0.9933 - val_loss: 0.2585 - val_accuracy: 0.0140 - val_precision: 1.0000 - val_recall: 0.8290\n",
            "Epoch 25/200\n",
            "500/500 [==============================] - 44s 88ms/step - loss: 0.0136 - accuracy: 0.2709 - precision: 0.9952 - recall: 0.9945 - val_loss: 0.0362 - val_accuracy: 0.0700 - val_precision: 0.9969 - val_recall: 0.9800\n",
            "Epoch 26/200\n",
            "500/500 [==============================] - 45s 89ms/step - loss: 0.0147 - accuracy: 0.2876 - precision: 0.9945 - recall: 0.9948 - val_loss: 0.0464 - val_accuracy: 0.0535 - val_precision: 0.9979 - val_recall: 0.9720\n",
            "Epoch 27/200\n",
            "500/500 [==============================] - 46s 91ms/step - loss: 0.0047 - accuracy: 0.2800 - precision: 0.9978 - recall: 0.9988 - val_loss: 0.1911 - val_accuracy: 0.0160 - val_precision: 0.9977 - val_recall: 0.8780\n",
            "Epoch 28/200\n",
            "500/500 [==============================] - 46s 92ms/step - loss: 0.0111 - accuracy: 0.2878 - precision: 0.9965 - recall: 0.9970 - val_loss: 0.1146 - val_accuracy: 0.0430 - val_precision: 0.9978 - val_recall: 0.9170\n",
            "Epoch 29/200\n",
            "500/500 [==============================] - 46s 91ms/step - loss: 0.0106 - accuracy: 0.3136 - precision: 0.9967 - recall: 0.9960 - val_loss: 0.0670 - val_accuracy: 0.0855 - val_precision: 0.9958 - val_recall: 0.9550\n",
            "Epoch 30/200\n",
            "500/500 [==============================] - 45s 90ms/step - loss: 0.0072 - accuracy: 0.3206 - precision: 0.9970 - recall: 0.9978 - val_loss: 0.0963 - val_accuracy: 0.0690 - val_precision: 0.9979 - val_recall: 0.9370\n",
            "Epoch 31/200\n",
            "500/500 [==============================] - 46s 91ms/step - loss: 0.0021 - accuracy: 0.3431 - precision: 0.9995 - recall: 0.9993 - val_loss: 0.2172 - val_accuracy: 0.0415 - val_precision: 1.0000 - val_recall: 0.8710\n",
            "Epoch 32/200\n",
            "500/500 [==============================] - 44s 88ms/step - loss: 0.0214 - accuracy: 0.3448 - precision: 0.9920 - recall: 0.9925 - val_loss: 0.2884 - val_accuracy: 0.0505 - val_precision: 1.0000 - val_recall: 0.8480\n",
            "Epoch 33/200\n",
            "500/500 [==============================] - 45s 90ms/step - loss: 0.0116 - accuracy: 0.3350 - precision: 0.9958 - recall: 0.9963 - val_loss: 0.1310 - val_accuracy: 0.0725 - val_precision: 0.9989 - val_recall: 0.9200\n",
            "Epoch 34/200\n",
            "500/500 [==============================] - 45s 90ms/step - loss: 0.0035 - accuracy: 0.3446 - precision: 0.9990 - recall: 0.9990 - val_loss: 0.0712 - val_accuracy: 0.0945 - val_precision: 0.9979 - val_recall: 0.9570\n",
            "Epoch 35/200\n",
            "500/500 [==============================] - 46s 91ms/step - loss: 0.0015 - accuracy: 0.3583 - precision: 0.9997 - recall: 0.9993 - val_loss: 0.1513 - val_accuracy: 0.0690 - val_precision: 0.9978 - val_recall: 0.9100\n",
            "Epoch 36/200\n",
            "500/500 [==============================] - 45s 90ms/step - loss: 0.0129 - accuracy: 0.3211 - precision: 0.9945 - recall: 0.9963 - val_loss: 0.1992 - val_accuracy: 0.0620 - val_precision: 0.9977 - val_recall: 0.8820\n",
            "Epoch 37/200\n",
            "500/500 [==============================] - 46s 91ms/step - loss: 0.0121 - accuracy: 0.3596 - precision: 0.9962 - recall: 0.9960 - val_loss: 0.0962 - val_accuracy: 0.0920 - val_precision: 0.9979 - val_recall: 0.9410\n",
            "Epoch 38/200\n",
            "500/500 [==============================] - 45s 90ms/step - loss: 0.0024 - accuracy: 0.3546 - precision: 0.9992 - recall: 0.9990 - val_loss: 0.0321 - val_accuracy: 0.1895 - val_precision: 0.9940 - val_recall: 0.9880\n",
            "Epoch 39/200\n",
            "500/500 [==============================] - 45s 90ms/step - loss: 0.0111 - accuracy: 0.3776 - precision: 0.9958 - recall: 0.9958 - val_loss: 0.2993 - val_accuracy: 0.0440 - val_precision: 0.9988 - val_recall: 0.8190\n",
            "Epoch 40/200\n",
            "500/500 [==============================] - 46s 91ms/step - loss: 0.0074 - accuracy: 0.3716 - precision: 0.9970 - recall: 0.9970 - val_loss: 0.1336 - val_accuracy: 0.0955 - val_precision: 0.9989 - val_recall: 0.9290\n",
            "Epoch 41/200\n",
            "500/500 [==============================] - 45s 89ms/step - loss: 6.2031e-04 - accuracy: 0.3793 - precision: 1.0000 - recall: 0.9998 - val_loss: 0.0942 - val_accuracy: 0.1030 - val_precision: 0.9979 - val_recall: 0.9460\n",
            "Epoch 42/200\n",
            "500/500 [==============================] - 46s 92ms/step - loss: 0.0142 - accuracy: 0.3570 - precision: 0.9955 - recall: 0.9953 - val_loss: 0.0534 - val_accuracy: 0.1485 - val_precision: 0.9969 - val_recall: 0.9630\n",
            "Epoch 43/200\n",
            "500/500 [==============================] - 45s 90ms/step - loss: 0.0114 - accuracy: 0.3724 - precision: 0.9965 - recall: 0.9955 - val_loss: 0.0869 - val_accuracy: 0.1080 - val_precision: 0.9968 - val_recall: 0.9450\n",
            "Epoch 44/200\n",
            "500/500 [==============================] - 46s 91ms/step - loss: 0.0058 - accuracy: 0.3816 - precision: 0.9970 - recall: 0.9978 - val_loss: 0.2080 - val_accuracy: 0.0835 - val_precision: 0.9989 - val_recall: 0.8860\n",
            "Epoch 45/200\n",
            "500/500 [==============================] - 46s 92ms/step - loss: 0.0132 - accuracy: 0.3858 - precision: 0.9975 - recall: 0.9975 - val_loss: 0.3551 - val_accuracy: 0.0510 - val_precision: 0.9988 - val_recall: 0.8210\n",
            "Epoch 46/200\n",
            "500/500 [==============================] - 46s 91ms/step - loss: 0.0048 - accuracy: 0.3969 - precision: 0.9985 - recall: 0.9983 - val_loss: 0.0700 - val_accuracy: 0.1695 - val_precision: 0.9969 - val_recall: 0.9680\n",
            "Epoch 47/200\n",
            "500/500 [==============================] - 45s 89ms/step - loss: 0.0122 - accuracy: 0.3963 - precision: 0.9958 - recall: 0.9963 - val_loss: 0.2230 - val_accuracy: 0.0630 - val_precision: 0.9989 - val_recall: 0.8690\n",
            "Epoch 48/200\n",
            "500/500 [==============================] - 46s 91ms/step - loss: 0.0025 - accuracy: 0.3873 - precision: 0.9993 - recall: 0.9993 - val_loss: 0.0826 - val_accuracy: 0.1210 - val_precision: 0.9979 - val_recall: 0.9530\n",
            "Epoch 49/200\n",
            "500/500 [==============================] - 47s 93ms/step - loss: 3.6606e-04 - accuracy: 0.3895 - precision: 1.0000 - recall: 1.0000 - val_loss: 0.0828 - val_accuracy: 0.1400 - val_precision: 0.9979 - val_recall: 0.9540\n",
            "Epoch 50/200\n",
            "500/500 [==============================] - 46s 92ms/step - loss: 4.5345e-04 - accuracy: 0.4064 - precision: 0.9998 - recall: 0.9998 - val_loss: 0.0627 - val_accuracy: 0.1720 - val_precision: 0.9969 - val_recall: 0.9710\n",
            "Epoch 51/200\n",
            "500/500 [==============================] - 45s 90ms/step - loss: 0.0082 - accuracy: 0.4039 - precision: 0.9978 - recall: 0.9978 - val_loss: 0.0471 - val_accuracy: 0.2875 - val_precision: 0.9861 - val_recall: 0.9910\n",
            "Epoch 52/200\n",
            "500/500 [==============================] - 46s 92ms/step - loss: 0.0214 - accuracy: 0.3778 - precision: 0.9942 - recall: 0.9940 - val_loss: 0.1167 - val_accuracy: 0.0845 - val_precision: 0.9979 - val_recall: 0.9340\n",
            "Epoch 53/200\n",
            "500/500 [==============================] - 45s 90ms/step - loss: 0.0035 - accuracy: 0.3514 - precision: 0.9990 - recall: 0.9988 - val_loss: 0.0677 - val_accuracy: 0.1270 - val_precision: 0.9959 - val_recall: 0.9660\n",
            "Epoch 54/200\n",
            "500/500 [==============================] - 46s 92ms/step - loss: 0.0033 - accuracy: 0.3558 - precision: 0.9993 - recall: 0.9993 - val_loss: 0.0486 - val_accuracy: 0.1275 - val_precision: 0.9969 - val_recall: 0.9770\n",
            "Epoch 55/200\n",
            "500/500 [==============================] - 46s 92ms/step - loss: 0.0184 - accuracy: 0.3648 - precision: 0.9945 - recall: 0.9945 - val_loss: 0.0263 - val_accuracy: 0.2065 - val_precision: 0.9950 - val_recall: 0.9910\n",
            "Epoch 56/200\n",
            "500/500 [==============================] - 46s 92ms/step - loss: 0.0055 - accuracy: 0.3786 - precision: 0.9975 - recall: 0.9975 - val_loss: 0.0550 - val_accuracy: 0.1760 - val_precision: 0.9980 - val_recall: 0.9760\n",
            "Epoch 57/200\n",
            "500/500 [==============================] - 47s 93ms/step - loss: 0.0072 - accuracy: 0.3768 - precision: 0.9980 - recall: 0.9973 - val_loss: 0.0484 - val_accuracy: 0.1890 - val_precision: 0.9959 - val_recall: 0.9730\n",
            "Epoch 58/200\n",
            "500/500 [==============================] - 45s 89ms/step - loss: 0.0079 - accuracy: 0.3836 - precision: 0.9968 - recall: 0.9968 - val_loss: 0.0585 - val_accuracy: 0.2035 - val_precision: 0.9959 - val_recall: 0.9780\n",
            "Epoch 59/200\n",
            "500/500 [==============================] - 45s 90ms/step - loss: 0.0018 - accuracy: 0.3820 - precision: 0.9995 - recall: 0.9998 - val_loss: 0.0517 - val_accuracy: 0.1785 - val_precision: 0.9979 - val_recall: 0.9720\n",
            "Epoch 60/200\n",
            "500/500 [==============================] - 45s 90ms/step - loss: 1.7358e-04 - accuracy: 0.4093 - precision: 1.0000 - recall: 1.0000 - val_loss: 0.0706 - val_accuracy: 0.1565 - val_precision: 0.9979 - val_recall: 0.9630\n",
            "Epoch 61/200\n",
            "500/500 [==============================] - 45s 89ms/step - loss: 0.0052 - accuracy: 0.3988 - precision: 0.9980 - recall: 0.9978 - val_loss: 0.3470 - val_accuracy: 0.0775 - val_precision: 1.0000 - val_recall: 0.8440\n",
            "Epoch 62/200\n",
            "500/500 [==============================] - 47s 93ms/step - loss: 0.0204 - accuracy: 0.4053 - precision: 0.9930 - recall: 0.9935 - val_loss: 0.0696 - val_accuracy: 0.2900 - val_precision: 0.9969 - val_recall: 0.9770\n",
            "Epoch 63/200\n",
            "500/500 [==============================] - 45s 89ms/step - loss: 0.0051 - accuracy: 0.4236 - precision: 0.9983 - recall: 0.9985 - val_loss: 0.0560 - val_accuracy: 0.1990 - val_precision: 0.9980 - val_recall: 0.9770\n",
            "Epoch 64/200\n",
            "500/500 [==============================] - 46s 91ms/step - loss: 0.0101 - accuracy: 0.4146 - precision: 0.9975 - recall: 0.9968 - val_loss: 0.0801 - val_accuracy: 0.2030 - val_precision: 0.9969 - val_recall: 0.9700\n",
            "Epoch 65/200\n",
            "500/500 [==============================] - 46s 91ms/step - loss: 0.0032 - accuracy: 0.4203 - precision: 0.9988 - recall: 0.9988 - val_loss: 0.1399 - val_accuracy: 0.1230 - val_precision: 0.9989 - val_recall: 0.9360\n",
            "Epoch 66/200\n",
            "500/500 [==============================] - 46s 91ms/step - loss: 0.0037 - accuracy: 0.4178 - precision: 0.9985 - recall: 0.9985 - val_loss: 0.1773 - val_accuracy: 0.1430 - val_precision: 0.9989 - val_recall: 0.9200\n",
            "Epoch 67/200\n",
            "500/500 [==============================] - 45s 89ms/step - loss: 0.0045 - accuracy: 0.4295 - precision: 0.9985 - recall: 0.9985 - val_loss: 0.1186 - val_accuracy: 0.1655 - val_precision: 0.9979 - val_recall: 0.9390\n",
            "Epoch 68/200\n",
            "500/500 [==============================] - 45s 89ms/step - loss: 0.0038 - accuracy: 0.4268 - precision: 0.9988 - recall: 0.9990 - val_loss: 0.0692 - val_accuracy: 0.1795 - val_precision: 0.9979 - val_recall: 0.9670\n",
            "Epoch 69/200\n",
            "500/500 [==============================] - 45s 89ms/step - loss: 0.0019 - accuracy: 0.4196 - precision: 0.9995 - recall: 0.9985 - val_loss: 0.0712 - val_accuracy: 0.2280 - val_precision: 0.9979 - val_recall: 0.9720\n",
            "Epoch 70/200\n",
            "500/500 [==============================] - 44s 88ms/step - loss: 0.0255 - accuracy: 0.4180 - precision: 0.9952 - recall: 0.9945 - val_loss: 0.1249 - val_accuracy: 0.1540 - val_precision: 0.9989 - val_recall: 0.9380\n",
            "Epoch 71/200\n",
            "500/500 [==============================] - 44s 88ms/step - loss: 8.0251e-04 - accuracy: 0.4041 - precision: 1.0000 - recall: 0.9998 - val_loss: 0.1091 - val_accuracy: 0.1620 - val_precision: 0.9979 - val_recall: 0.9440\n",
            "Epoch 72/200\n",
            "500/500 [==============================] - 45s 90ms/step - loss: 0.0058 - accuracy: 0.3834 - precision: 0.9985 - recall: 0.9980 - val_loss: 0.0728 - val_accuracy: 0.2075 - val_precision: 0.9979 - val_recall: 0.9670\n",
            "Epoch 73/200\n",
            "500/500 [==============================] - 44s 89ms/step - loss: 0.0058 - accuracy: 0.3993 - precision: 0.9978 - recall: 0.9983 - val_loss: 0.1774 - val_accuracy: 0.1390 - val_precision: 1.0000 - val_recall: 0.9090\n",
            "Epoch 74/200\n",
            "500/500 [==============================] - 45s 90ms/step - loss: 0.0034 - accuracy: 0.4211 - precision: 0.9992 - recall: 0.9990 - val_loss: 0.0361 - val_accuracy: 0.3225 - val_precision: 0.9920 - val_recall: 0.9880\n",
            "Epoch 75/200\n",
            "500/500 [==============================] - 45s 89ms/step - loss: 0.0092 - accuracy: 0.4159 - precision: 0.9963 - recall: 0.9970 - val_loss: 0.0595 - val_accuracy: 0.2950 - val_precision: 0.9980 - val_recall: 0.9770\n",
            "Epoch 76/200\n",
            "500/500 [==============================] - 45s 90ms/step - loss: 0.0099 - accuracy: 0.4298 - precision: 0.9968 - recall: 0.9978 - val_loss: 0.0458 - val_accuracy: 0.3055 - val_precision: 0.9950 - val_recall: 0.9870\n",
            "Epoch 77/200\n",
            "500/500 [==============================] - 47s 93ms/step - loss: 0.0039 - accuracy: 0.4273 - precision: 0.9987 - recall: 0.9985 - val_loss: 0.2739 - val_accuracy: 0.1520 - val_precision: 0.9978 - val_recall: 0.8890\n",
            "Epoch 78/200\n",
            "500/500 [==============================] - 46s 92ms/step - loss: 0.0036 - accuracy: 0.4349 - precision: 0.9988 - recall: 0.9995 - val_loss: 0.0540 - val_accuracy: 0.2675 - val_precision: 0.9980 - val_recall: 0.9810\n",
            "Epoch 79/200\n",
            "500/500 [==============================] - 46s 91ms/step - loss: 0.0030 - accuracy: 0.4284 - precision: 0.9990 - recall: 0.9993 - val_loss: 0.0486 - val_accuracy: 0.3845 - val_precision: 0.9920 - val_recall: 0.9880\n",
            "Epoch 80/200\n",
            "500/500 [==============================] - 45s 90ms/step - loss: 0.0167 - accuracy: 0.4144 - precision: 0.9950 - recall: 0.9950 - val_loss: 0.0560 - val_accuracy: 0.2140 - val_precision: 0.9959 - val_recall: 0.9790\n",
            "Epoch 81/200\n",
            "500/500 [==============================] - 46s 91ms/step - loss: 0.0111 - accuracy: 0.3801 - precision: 0.9968 - recall: 0.9973 - val_loss: 0.0334 - val_accuracy: 0.2295 - val_precision: 0.9940 - val_recall: 0.9890\n",
            "Epoch 82/200\n",
            "500/500 [==============================] - 46s 92ms/step - loss: 0.0022 - accuracy: 0.3948 - precision: 0.9992 - recall: 0.9990 - val_loss: 0.0366 - val_accuracy: 0.2330 - val_precision: 0.9960 - val_recall: 0.9850\n",
            "Epoch 83/200\n",
            "500/500 [==============================] - 46s 92ms/step - loss: 0.0106 - accuracy: 0.4174 - precision: 0.9967 - recall: 0.9963 - val_loss: 0.2163 - val_accuracy: 0.1215 - val_precision: 0.9989 - val_recall: 0.9010\n",
            "Epoch 84/200\n",
            "500/500 [==============================] - 46s 92ms/step - loss: 0.0050 - accuracy: 0.4028 - precision: 0.9987 - recall: 0.9983 - val_loss: 0.0743 - val_accuracy: 0.2135 - val_precision: 0.9969 - val_recall: 0.9720\n",
            "Epoch 85/200\n",
            "500/500 [==============================] - 46s 92ms/step - loss: 0.0070 - accuracy: 0.4115 - precision: 0.9980 - recall: 0.9983 - val_loss: 0.0467 - val_accuracy: 0.2375 - val_precision: 0.9970 - val_recall: 0.9870\n",
            "Epoch 86/200\n",
            "500/500 [==============================] - 47s 94ms/step - loss: 0.0016 - accuracy: 0.4071 - precision: 0.9993 - recall: 0.9993 - val_loss: 0.1024 - val_accuracy: 0.1655 - val_precision: 0.9979 - val_recall: 0.9510\n",
            "Epoch 87/200\n",
            "500/500 [==============================] - 48s 95ms/step - loss: 6.0629e-04 - accuracy: 0.4301 - precision: 1.0000 - recall: 0.9998 - val_loss: 0.0438 - val_accuracy: 0.2550 - val_precision: 0.9960 - val_recall: 0.9880\n",
            "Epoch 88/200\n",
            "500/500 [==============================] - 47s 94ms/step - loss: 1.1607e-04 - accuracy: 0.4270 - precision: 1.0000 - recall: 1.0000 - val_loss: 0.1587 - val_accuracy: 0.1365 - val_precision: 0.9978 - val_recall: 0.9210\n",
            "Epoch 89/200\n",
            "500/500 [==============================] - 46s 92ms/step - loss: 0.0178 - accuracy: 0.4011 - precision: 0.9952 - recall: 0.9945 - val_loss: 0.0554 - val_accuracy: 0.2930 - val_precision: 0.9969 - val_recall: 0.9800\n",
            "Epoch 90/200\n",
            "500/500 [==============================] - 45s 90ms/step - loss: 0.0029 - accuracy: 0.4100 - precision: 0.9987 - recall: 0.9985 - val_loss: 0.0505 - val_accuracy: 0.2705 - val_precision: 0.9949 - val_recall: 0.9850\n",
            "Epoch 91/200\n",
            "500/500 [==============================] - 47s 94ms/step - loss: 0.0012 - accuracy: 0.4260 - precision: 0.9997 - recall: 0.9995 - val_loss: 0.0645 - val_accuracy: 0.2430 - val_precision: 0.9949 - val_recall: 0.9800\n",
            "Epoch 92/200\n",
            "500/500 [==============================] - 45s 89ms/step - loss: 0.0089 - accuracy: 0.4295 - precision: 0.9970 - recall: 0.9970 - val_loss: 0.0955 - val_accuracy: 0.2425 - val_precision: 0.9979 - val_recall: 0.9610\n",
            "Epoch 93/200\n",
            "500/500 [==============================] - 44s 88ms/step - loss: 0.0060 - accuracy: 0.4376 - precision: 0.9982 - recall: 0.9980 - val_loss: 0.0590 - val_accuracy: 0.2585 - val_precision: 0.9959 - val_recall: 0.9760\n",
            "Epoch 94/200\n",
            "500/500 [==============================] - 45s 90ms/step - loss: 0.0054 - accuracy: 0.4373 - precision: 0.9980 - recall: 0.9978 - val_loss: 0.0699 - val_accuracy: 0.2555 - val_precision: 0.9969 - val_recall: 0.9740\n",
            "Epoch 95/200\n",
            "500/500 [==============================] - 45s 90ms/step - loss: 0.0056 - accuracy: 0.4340 - precision: 0.9987 - recall: 0.9983 - val_loss: 0.1137 - val_accuracy: 0.1795 - val_precision: 0.9979 - val_recall: 0.9390\n",
            "Epoch 96/200\n",
            "500/500 [==============================] - 46s 91ms/step - loss: 0.0025 - accuracy: 0.4198 - precision: 0.9995 - recall: 0.9995 - val_loss: 0.0517 - val_accuracy: 0.2600 - val_precision: 0.9980 - val_recall: 0.9850\n",
            "Epoch 97/200\n",
            "500/500 [==============================] - 45s 90ms/step - loss: 7.1634e-05 - accuracy: 0.4500 - precision: 1.0000 - recall: 1.0000 - val_loss: 0.0455 - val_accuracy: 0.2885 - val_precision: 0.9980 - val_recall: 0.9860\n",
            "Epoch 98/200\n",
            "500/500 [==============================] - 46s 91ms/step - loss: 8.0409e-05 - accuracy: 0.4500 - precision: 1.0000 - recall: 1.0000 - val_loss: 0.0483 - val_accuracy: 0.3010 - val_precision: 0.9960 - val_recall: 0.9860\n",
            "Epoch 99/200\n",
            "500/500 [==============================] - 49s 97ms/step - loss: 0.0231 - accuracy: 0.4143 - precision: 0.9938 - recall: 0.9948 - val_loss: 0.0610 - val_accuracy: 0.2420 - val_precision: 0.9969 - val_recall: 0.9780\n",
            "Epoch 100/200\n",
            "500/500 [==============================] - 45s 90ms/step - loss: 0.0020 - accuracy: 0.4335 - precision: 0.9990 - recall: 0.9995 - val_loss: 0.0780 - val_accuracy: 0.2080 - val_precision: 0.9979 - val_recall: 0.9620\n",
            "Epoch 101/200\n",
            "500/500 [==============================] - 45s 89ms/step - loss: 0.0031 - accuracy: 0.4435 - precision: 0.9988 - recall: 0.9993 - val_loss: 0.0720 - val_accuracy: 0.2665 - val_precision: 0.9979 - val_recall: 0.9710\n",
            "Epoch 102/200\n",
            "500/500 [==============================] - 46s 91ms/step - loss: 0.0066 - accuracy: 0.4464 - precision: 0.9980 - recall: 0.9980 - val_loss: 0.0347 - val_accuracy: 0.3450 - val_precision: 0.9930 - val_recall: 0.9900\n",
            "Epoch 103/200\n",
            "500/500 [==============================] - 45s 89ms/step - loss: 0.0012 - accuracy: 0.4526 - precision: 0.9995 - recall: 1.0000 - val_loss: 0.0577 - val_accuracy: 0.2720 - val_precision: 0.9980 - val_recall: 0.9820\n",
            "Epoch 104/200\n",
            "500/500 [==============================] - 44s 88ms/step - loss: 0.0085 - accuracy: 0.4398 - precision: 0.9968 - recall: 0.9978 - val_loss: 0.0488 - val_accuracy: 0.3755 - val_precision: 0.9910 - val_recall: 0.9870\n",
            "Epoch 105/200\n",
            "500/500 [==============================] - 46s 91ms/step - loss: 0.0046 - accuracy: 0.4499 - precision: 0.9988 - recall: 0.9988 - val_loss: 0.1216 - val_accuracy: 0.2280 - val_precision: 0.9979 - val_recall: 0.9440\n",
            "Epoch 106/200\n",
            "500/500 [==============================] - 45s 90ms/step - loss: 0.0011 - accuracy: 0.4581 - precision: 0.9995 - recall: 0.9995 - val_loss: 0.0768 - val_accuracy: 0.3125 - val_precision: 0.9969 - val_recall: 0.9760\n",
            "Epoch 107/200\n",
            "500/500 [==============================] - 44s 87ms/step - loss: 0.0028 - accuracy: 0.4810 - precision: 0.9995 - recall: 0.9995 - val_loss: 0.0537 - val_accuracy: 0.3160 - val_precision: 0.9980 - val_recall: 0.9820\n",
            "Epoch 108/200\n",
            "500/500 [==============================] - 46s 91ms/step - loss: 0.0147 - accuracy: 0.4658 - precision: 0.9965 - recall: 0.9963 - val_loss: 0.1692 - val_accuracy: 0.2165 - val_precision: 0.9979 - val_recall: 0.9300\n",
            "Epoch 109/200\n",
            "500/500 [==============================] - 44s 88ms/step - loss: 0.0025 - accuracy: 0.4688 - precision: 0.9988 - recall: 0.9990 - val_loss: 0.0738 - val_accuracy: 0.2955 - val_precision: 0.9979 - val_recall: 0.9700\n",
            "Epoch 110/200\n",
            "500/500 [==============================] - 45s 89ms/step - loss: 7.9550e-05 - accuracy: 0.4850 - precision: 1.0000 - recall: 1.0000 - val_loss: 0.0830 - val_accuracy: 0.2840 - val_precision: 0.9979 - val_recall: 0.9680\n",
            "Epoch 111/200\n",
            "500/500 [==============================] - 44s 88ms/step - loss: 1.1988e-04 - accuracy: 0.4773 - precision: 1.0000 - recall: 1.0000 - val_loss: 0.0760 - val_accuracy: 0.2815 - val_precision: 0.9969 - val_recall: 0.9640\n",
            "Epoch 112/200\n",
            "500/500 [==============================] - 46s 91ms/step - loss: 6.1882e-05 - accuracy: 0.4828 - precision: 1.0000 - recall: 1.0000 - val_loss: 0.0581 - val_accuracy: 0.3195 - val_precision: 0.9970 - val_recall: 0.9820\n",
            "Epoch 113/200\n",
            "500/500 [==============================] - 46s 91ms/step - loss: 8.9147e-06 - accuracy: 0.4848 - precision: 1.0000 - recall: 1.0000 - val_loss: 0.0535 - val_accuracy: 0.3330 - val_precision: 0.9959 - val_recall: 0.9830\n",
            "Epoch 114/200\n",
            "500/500 [==============================] - 45s 89ms/step - loss: 0.0037 - accuracy: 0.4781 - precision: 0.9993 - recall: 0.9995 - val_loss: 0.0857 - val_accuracy: 0.3430 - val_precision: 0.9949 - val_recall: 0.9740\n",
            "Epoch 115/200\n",
            "500/500 [==============================] - 45s 89ms/step - loss: 0.0312 - accuracy: 0.4665 - precision: 0.9930 - recall: 0.9925 - val_loss: 0.0669 - val_accuracy: 0.3880 - val_precision: 0.9939 - val_recall: 0.9830\n",
            "Epoch 116/200\n",
            "500/500 [==============================] - 46s 91ms/step - loss: 8.6027e-04 - accuracy: 0.4841 - precision: 0.9998 - recall: 0.9998 - val_loss: 0.0825 - val_accuracy: 0.3275 - val_precision: 0.9980 - val_recall: 0.9770\n",
            "Epoch 117/200\n",
            "500/500 [==============================] - 45s 89ms/step - loss: 0.0021 - accuracy: 0.4686 - precision: 0.9995 - recall: 0.9993 - val_loss: 0.0805 - val_accuracy: 0.2790 - val_precision: 0.9979 - val_recall: 0.9680\n",
            "Epoch 118/200\n",
            "500/500 [==============================] - 46s 91ms/step - loss: 1.0818e-04 - accuracy: 0.4658 - precision: 1.0000 - recall: 1.0000 - val_loss: 0.0478 - val_accuracy: 0.3435 - val_precision: 0.9960 - val_recall: 0.9860\n",
            "Epoch 119/200\n",
            "500/500 [==============================] - 43s 86ms/step - loss: 4.7710e-05 - accuracy: 0.4736 - precision: 1.0000 - recall: 1.0000 - val_loss: 0.0526 - val_accuracy: 0.3355 - val_precision: 0.9970 - val_recall: 0.9830\n",
            "Epoch 120/200\n",
            "500/500 [==============================] - 45s 90ms/step - loss: 2.1038e-05 - accuracy: 0.4714 - precision: 1.0000 - recall: 1.0000 - val_loss: 0.0557 - val_accuracy: 0.3340 - val_precision: 0.9970 - val_recall: 0.9830\n",
            "Epoch 121/200\n",
            "500/500 [==============================] - 44s 88ms/step - loss: 1.9128e-05 - accuracy: 0.4786 - precision: 1.0000 - recall: 1.0000 - val_loss: 0.0515 - val_accuracy: 0.3460 - val_precision: 0.9960 - val_recall: 0.9850\n",
            "Epoch 122/200\n",
            "500/500 [==============================] - 44s 88ms/step - loss: 2.7626e-05 - accuracy: 0.4738 - precision: 1.0000 - recall: 1.0000 - val_loss: 0.0585 - val_accuracy: 0.3315 - val_precision: 0.9980 - val_recall: 0.9830\n",
            "Epoch 123/200\n",
            "500/500 [==============================] - 44s 87ms/step - loss: 4.6423e-05 - accuracy: 0.4783 - precision: 1.0000 - recall: 1.0000 - val_loss: 0.0624 - val_accuracy: 0.3625 - val_precision: 0.9949 - val_recall: 0.9830\n",
            "Epoch 124/200\n",
            "500/500 [==============================] - 43s 86ms/step - loss: 1.2956e-05 - accuracy: 0.4813 - precision: 1.0000 - recall: 1.0000 - val_loss: 0.0720 - val_accuracy: 0.3450 - val_precision: 0.9980 - val_recall: 0.9810\n",
            "Epoch 125/200\n",
            "500/500 [==============================] - 45s 89ms/step - loss: 9.6583e-06 - accuracy: 0.4818 - precision: 1.0000 - recall: 1.0000 - val_loss: 0.0662 - val_accuracy: 0.3575 - val_precision: 0.9970 - val_recall: 0.9810\n",
            "Epoch 126/200\n",
            "500/500 [==============================] - 44s 88ms/step - loss: 1.3613e-05 - accuracy: 0.4846 - precision: 1.0000 - recall: 1.0000 - val_loss: 0.0624 - val_accuracy: 0.3520 - val_precision: 0.9980 - val_recall: 0.9820\n",
            "Epoch 127/200\n",
            "500/500 [==============================] - 44s 88ms/step - loss: 5.3155e-06 - accuracy: 0.4849 - precision: 1.0000 - recall: 1.0000 - val_loss: 0.0675 - val_accuracy: 0.3455 - val_precision: 0.9980 - val_recall: 0.9800\n",
            "Epoch 128/200\n",
            "500/500 [==============================] - 45s 89ms/step - loss: 0.0334 - accuracy: 0.4435 - precision: 0.9925 - recall: 0.9923 - val_loss: 0.0626 - val_accuracy: 0.4205 - val_precision: 0.9851 - val_recall: 0.9900\n",
            "Epoch 129/200\n",
            "500/500 [==============================] - 44s 88ms/step - loss: 0.0066 - accuracy: 0.4160 - precision: 0.9980 - recall: 0.9983 - val_loss: 0.0325 - val_accuracy: 0.3340 - val_precision: 0.9930 - val_recall: 0.9940\n",
            "Epoch 130/200\n",
            "500/500 [==============================] - 44s 87ms/step - loss: 0.0040 - accuracy: 0.4304 - precision: 0.9988 - recall: 0.9988 - val_loss: 0.0367 - val_accuracy: 0.2430 - val_precision: 0.9970 - val_recall: 0.9840\n",
            "Epoch 131/200\n",
            "500/500 [==============================] - 44s 87ms/step - loss: 0.0017 - accuracy: 0.4284 - precision: 0.9993 - recall: 0.9993 - val_loss: 0.0833 - val_accuracy: 0.2135 - val_precision: 0.9979 - val_recall: 0.9630\n",
            "Epoch 132/200\n",
            "500/500 [==============================] - 44s 87ms/step - loss: 9.1999e-04 - accuracy: 0.4364 - precision: 0.9998 - recall: 1.0000 - val_loss: 0.0490 - val_accuracy: 0.3515 - val_precision: 0.9910 - val_recall: 0.9900\n",
            "Epoch 133/200\n",
            "500/500 [==============================] - 44s 87ms/step - loss: 0.0011 - accuracy: 0.4385 - precision: 0.9998 - recall: 0.9998 - val_loss: 0.0480 - val_accuracy: 0.2760 - val_precision: 0.9970 - val_recall: 0.9850\n",
            "Epoch 134/200\n",
            "500/500 [==============================] - 44s 88ms/step - loss: 0.0039 - accuracy: 0.4109 - precision: 0.9992 - recall: 0.9988 - val_loss: 0.0699 - val_accuracy: 0.3610 - val_precision: 0.9614 - val_recall: 0.9970\n",
            "Epoch 135/200\n",
            "500/500 [==============================] - 44s 87ms/step - loss: 0.0133 - accuracy: 0.3858 - precision: 0.9967 - recall: 0.9960 - val_loss: 0.0318 - val_accuracy: 0.2265 - val_precision: 0.9950 - val_recall: 0.9910\n",
            "Epoch 136/200\n",
            "500/500 [==============================] - 44s 88ms/step - loss: 0.0017 - accuracy: 0.4030 - precision: 0.9997 - recall: 0.9995 - val_loss: 0.0339 - val_accuracy: 0.2315 - val_precision: 0.9970 - val_recall: 0.9880\n",
            "Epoch 137/200\n",
            "500/500 [==============================] - 44s 87ms/step - loss: 2.9653e-04 - accuracy: 0.4413 - precision: 1.0000 - recall: 1.0000 - val_loss: 0.0395 - val_accuracy: 0.3580 - val_precision: 0.9970 - val_recall: 0.9880\n",
            "Epoch 138/200\n",
            "500/500 [==============================] - 45s 90ms/step - loss: 0.0028 - accuracy: 0.4293 - precision: 0.9987 - recall: 0.9985 - val_loss: 0.0268 - val_accuracy: 0.2520 - val_precision: 0.9960 - val_recall: 0.9930\n",
            "Epoch 139/200\n",
            "500/500 [==============================] - 45s 90ms/step - loss: 0.0108 - accuracy: 0.4270 - precision: 0.9963 - recall: 0.9970 - val_loss: 0.1558 - val_accuracy: 0.1560 - val_precision: 0.9978 - val_recall: 0.9280\n",
            "Epoch 140/200\n",
            "500/500 [==============================] - 46s 91ms/step - loss: 0.0036 - accuracy: 0.4341 - precision: 0.9990 - recall: 0.9988 - val_loss: 0.0325 - val_accuracy: 0.3485 - val_precision: 0.9960 - val_recall: 0.9910\n",
            "Epoch 141/200\n",
            "500/500 [==============================] - 45s 90ms/step - loss: 5.6571e-04 - accuracy: 0.4559 - precision: 0.9998 - recall: 0.9998 - val_loss: 0.0669 - val_accuracy: 0.2805 - val_precision: 0.9969 - val_recall: 0.9750\n",
            "Epoch 142/200\n",
            "500/500 [==============================] - 45s 89ms/step - loss: 0.0066 - accuracy: 0.4455 - precision: 0.9985 - recall: 0.9983 - val_loss: 0.0348 - val_accuracy: 0.3400 - val_precision: 0.9960 - val_recall: 0.9890\n",
            "Epoch 143/200\n",
            "500/500 [==============================] - 45s 90ms/step - loss: 0.0022 - accuracy: 0.4496 - precision: 0.9988 - recall: 0.9988 - val_loss: 0.0482 - val_accuracy: 0.3070 - val_precision: 0.9970 - val_recall: 0.9890\n",
            "Epoch 144/200\n",
            "500/500 [==============================] - 46s 92ms/step - loss: 7.1917e-05 - accuracy: 0.4674 - precision: 1.0000 - recall: 1.0000 - val_loss: 0.0507 - val_accuracy: 0.2980 - val_precision: 0.9970 - val_recall: 0.9870\n",
            "Epoch 145/200\n",
            "500/500 [==============================] - 45s 90ms/step - loss: 1.0159e-04 - accuracy: 0.4739 - precision: 1.0000 - recall: 1.0000 - val_loss: 0.0426 - val_accuracy: 0.3360 - val_precision: 0.9970 - val_recall: 0.9900\n",
            "Epoch 146/200\n",
            "500/500 [==============================] - 45s 89ms/step - loss: 0.0090 - accuracy: 0.4435 - precision: 0.9970 - recall: 0.9970 - val_loss: 0.0409 - val_accuracy: 0.3105 - val_precision: 0.9960 - val_recall: 0.9870\n",
            "Epoch 147/200\n",
            "500/500 [==============================] - 45s 89ms/step - loss: 0.0104 - accuracy: 0.4545 - precision: 0.9973 - recall: 0.9978 - val_loss: 0.0658 - val_accuracy: 0.3295 - val_precision: 0.9959 - val_recall: 0.9790\n",
            "Epoch 148/200\n",
            "500/500 [==============================] - 44s 87ms/step - loss: 9.6784e-04 - accuracy: 0.4641 - precision: 0.9995 - recall: 0.9995 - val_loss: 0.0375 - val_accuracy: 0.3620 - val_precision: 0.9980 - val_recall: 0.9910\n",
            "Epoch 149/200\n",
            "500/500 [==============================] - 44s 88ms/step - loss: 7.8492e-05 - accuracy: 0.4850 - precision: 1.0000 - recall: 1.0000 - val_loss: 0.0902 - val_accuracy: 0.2805 - val_precision: 0.9979 - val_recall: 0.9550\n",
            "Epoch 150/200\n",
            "500/500 [==============================] - 44s 88ms/step - loss: 6.9973e-05 - accuracy: 0.4885 - precision: 1.0000 - recall: 1.0000 - val_loss: 0.0354 - val_accuracy: 0.3745 - val_precision: 0.9980 - val_recall: 0.9920\n",
            "Epoch 151/200\n",
            "500/500 [==============================] - 45s 89ms/step - loss: 3.4760e-05 - accuracy: 0.4900 - precision: 1.0000 - recall: 1.0000 - val_loss: 0.0390 - val_accuracy: 0.3630 - val_precision: 0.9980 - val_recall: 0.9910\n",
            "Epoch 152/200\n",
            "500/500 [==============================] - 44s 88ms/step - loss: 2.4155e-04 - accuracy: 0.4890 - precision: 1.0000 - recall: 0.9998 - val_loss: 0.0295 - val_accuracy: 0.3965 - val_precision: 0.9980 - val_recall: 0.9930\n",
            "Epoch 153/200\n",
            "500/500 [==============================] - 45s 89ms/step - loss: 0.0246 - accuracy: 0.3689 - precision: 0.9945 - recall: 0.9948 - val_loss: 0.0435 - val_accuracy: 0.1715 - val_precision: 0.9980 - val_recall: 0.9770\n",
            "Epoch 154/200\n",
            "500/500 [==============================] - 44s 88ms/step - loss: 0.0026 - accuracy: 0.3836 - precision: 0.9992 - recall: 0.9990 - val_loss: 0.1088 - val_accuracy: 0.1585 - val_precision: 0.9989 - val_recall: 0.9350\n",
            "Epoch 155/200\n",
            "500/500 [==============================] - 45s 90ms/step - loss: 0.0044 - accuracy: 0.3918 - precision: 0.9982 - recall: 0.9980 - val_loss: 0.1060 - val_accuracy: 0.1675 - val_precision: 0.9968 - val_recall: 0.9450\n",
            "Epoch 156/200\n",
            "500/500 [==============================] - 44s 87ms/step - loss: 0.0040 - accuracy: 0.4228 - precision: 0.9983 - recall: 0.9985 - val_loss: 0.0445 - val_accuracy: 0.2080 - val_precision: 0.9969 - val_recall: 0.9800\n",
            "Epoch 157/200\n",
            "500/500 [==============================] - 45s 89ms/step - loss: 0.0021 - accuracy: 0.4309 - precision: 0.9993 - recall: 0.9993 - val_loss: 0.0253 - val_accuracy: 0.2665 - val_precision: 0.9960 - val_recall: 0.9920\n",
            "Epoch 158/200\n",
            "500/500 [==============================] - 45s 89ms/step - loss: 0.0075 - accuracy: 0.4545 - precision: 0.9977 - recall: 0.9973 - val_loss: 0.0733 - val_accuracy: 0.2730 - val_precision: 0.9979 - val_recall: 0.9650\n",
            "Epoch 159/200\n",
            "500/500 [==============================] - 46s 92ms/step - loss: 0.0039 - accuracy: 0.4519 - precision: 0.9988 - recall: 0.9993 - val_loss: 0.0416 - val_accuracy: 0.3200 - val_precision: 0.9980 - val_recall: 0.9830\n",
            "Epoch 160/200\n",
            "500/500 [==============================] - 45s 90ms/step - loss: 0.0017 - accuracy: 0.4870 - precision: 0.9993 - recall: 0.9998 - val_loss: 0.0724 - val_accuracy: 0.3490 - val_precision: 0.9979 - val_recall: 0.9710\n",
            "Epoch 161/200\n",
            "500/500 [==============================] - 44s 87ms/step - loss: 5.4496e-05 - accuracy: 0.5081 - precision: 1.0000 - recall: 1.0000 - val_loss: 0.0420 - val_accuracy: 0.4015 - val_precision: 0.9970 - val_recall: 0.9860\n",
            "Epoch 162/200\n",
            "500/500 [==============================] - 44s 87ms/step - loss: 3.4388e-04 - accuracy: 0.4968 - precision: 1.0000 - recall: 1.0000 - val_loss: 0.0513 - val_accuracy: 0.3680 - val_precision: 0.9970 - val_recall: 0.9810\n",
            "Epoch 163/200\n",
            "500/500 [==============================] - 44s 88ms/step - loss: 0.0075 - accuracy: 0.4930 - precision: 0.9978 - recall: 0.9980 - val_loss: 0.4255 - val_accuracy: 0.1745 - val_precision: 1.0000 - val_recall: 0.8500\n",
            "Epoch 164/200\n",
            "500/500 [==============================] - 44s 87ms/step - loss: 0.0164 - accuracy: 0.4878 - precision: 0.9963 - recall: 0.9963 - val_loss: 0.0382 - val_accuracy: 0.4125 - val_precision: 0.9881 - val_recall: 0.9940\n",
            "Epoch 165/200\n",
            "500/500 [==============================] - 43s 85ms/step - loss: 0.0013 - accuracy: 0.4895 - precision: 0.9993 - recall: 0.9995 - val_loss: 0.0464 - val_accuracy: 0.3650 - val_precision: 0.9980 - val_recall: 0.9860\n",
            "Epoch 166/200\n",
            "500/500 [==============================] - 44s 88ms/step - loss: 3.3309e-05 - accuracy: 0.5100 - precision: 1.0000 - recall: 1.0000 - val_loss: 0.0443 - val_accuracy: 0.3760 - val_precision: 0.9980 - val_recall: 0.9870\n",
            "Epoch 167/200\n",
            "500/500 [==============================] - 44s 88ms/step - loss: 0.0099 - accuracy: 0.4971 - precision: 0.9980 - recall: 0.9965 - val_loss: 0.0384 - val_accuracy: 0.4095 - val_precision: 0.9970 - val_recall: 0.9870\n",
            "Epoch 168/200\n",
            "500/500 [==============================] - 45s 89ms/step - loss: 0.0027 - accuracy: 0.5080 - precision: 0.9992 - recall: 0.9988 - val_loss: 0.0264 - val_accuracy: 0.3885 - val_precision: 0.9960 - val_recall: 0.9900\n",
            "Epoch 169/200\n",
            "500/500 [==============================] - 44s 89ms/step - loss: 0.0028 - accuracy: 0.4788 - precision: 0.9990 - recall: 0.9990 - val_loss: 0.0499 - val_accuracy: 0.3320 - val_precision: 0.9980 - val_recall: 0.9760\n",
            "Epoch 170/200\n",
            "500/500 [==============================] - 43s 86ms/step - loss: 6.5919e-04 - accuracy: 0.4860 - precision: 0.9998 - recall: 0.9998 - val_loss: 0.0369 - val_accuracy: 0.3570 - val_precision: 0.9980 - val_recall: 0.9840\n",
            "Epoch 171/200\n",
            "500/500 [==============================] - 45s 90ms/step - loss: 8.4465e-05 - accuracy: 0.4964 - precision: 1.0000 - recall: 1.0000 - val_loss: 0.0300 - val_accuracy: 0.3995 - val_precision: 0.9970 - val_recall: 0.9880\n",
            "Epoch 172/200\n",
            "500/500 [==============================] - 46s 92ms/step - loss: 0.0098 - accuracy: 0.5029 - precision: 0.9985 - recall: 0.9980 - val_loss: 0.0428 - val_accuracy: 0.3600 - val_precision: 0.9980 - val_recall: 0.9810\n",
            "Epoch 173/200\n",
            "500/500 [==============================] - 45s 89ms/step - loss: 4.3260e-04 - accuracy: 0.5168 - precision: 1.0000 - recall: 0.9998 - val_loss: 0.0479 - val_accuracy: 0.3965 - val_precision: 0.9970 - val_recall: 0.9870\n",
            "Epoch 174/200\n",
            "500/500 [==============================] - 45s 89ms/step - loss: 6.1132e-05 - accuracy: 0.5231 - precision: 1.0000 - recall: 1.0000 - val_loss: 0.0479 - val_accuracy: 0.4005 - val_precision: 0.9970 - val_recall: 0.9880\n",
            "Epoch 175/200\n",
            "500/500 [==============================] - 46s 91ms/step - loss: 0.0131 - accuracy: 0.5197 - precision: 0.9970 - recall: 0.9970 - val_loss: 0.1863 - val_accuracy: 0.2850 - val_precision: 1.0000 - val_recall: 0.9220\n",
            "Epoch 176/200\n",
            "500/500 [==============================] - 46s 92ms/step - loss: 9.6648e-04 - accuracy: 0.5114 - precision: 0.9995 - recall: 0.9998 - val_loss: 0.0526 - val_accuracy: 0.3705 - val_precision: 0.9980 - val_recall: 0.9840\n",
            "Epoch 177/200\n",
            "500/500 [==============================] - 46s 91ms/step - loss: 1.9905e-05 - accuracy: 0.5185 - precision: 1.0000 - recall: 1.0000 - val_loss: 0.0642 - val_accuracy: 0.3565 - val_precision: 0.9979 - val_recall: 0.9730\n",
            "Epoch 178/200\n",
            "500/500 [==============================] - 45s 90ms/step - loss: 4.0227e-05 - accuracy: 0.5168 - precision: 1.0000 - recall: 1.0000 - val_loss: 0.0500 - val_accuracy: 0.3685 - val_precision: 0.9980 - val_recall: 0.9870\n",
            "Epoch 179/200\n",
            "500/500 [==============================] - 46s 92ms/step - loss: 0.0203 - accuracy: 0.4608 - precision: 0.9948 - recall: 0.9953 - val_loss: 0.0639 - val_accuracy: 0.3270 - val_precision: 0.9980 - val_recall: 0.9800\n",
            "Epoch 180/200\n",
            "500/500 [==============================] - 45s 90ms/step - loss: 0.0066 - accuracy: 0.4726 - precision: 0.9975 - recall: 0.9975 - val_loss: 0.0310 - val_accuracy: 0.4015 - val_precision: 0.9950 - val_recall: 0.9940\n",
            "Epoch 181/200\n",
            "500/500 [==============================] - 45s 90ms/step - loss: 0.0011 - accuracy: 0.4776 - precision: 0.9995 - recall: 0.9998 - val_loss: 0.0655 - val_accuracy: 0.3210 - val_precision: 0.9969 - val_recall: 0.9780\n",
            "Epoch 182/200\n",
            "500/500 [==============================] - 45s 90ms/step - loss: 0.0015 - accuracy: 0.4906 - precision: 0.9995 - recall: 0.9995 - val_loss: 0.0485 - val_accuracy: 0.3130 - val_precision: 0.9980 - val_recall: 0.9810\n",
            "Epoch 183/200\n",
            "500/500 [==============================] - 45s 89ms/step - loss: 0.0024 - accuracy: 0.4708 - precision: 0.9993 - recall: 0.9993 - val_loss: 0.0823 - val_accuracy: 0.2875 - val_precision: 0.9969 - val_recall: 0.9650\n",
            "Epoch 184/200\n",
            "500/500 [==============================] - 46s 91ms/step - loss: 1.0476e-04 - accuracy: 0.4853 - precision: 1.0000 - recall: 1.0000 - val_loss: 0.0418 - val_accuracy: 0.3260 - val_precision: 0.9970 - val_recall: 0.9830\n",
            "Epoch 185/200\n",
            "500/500 [==============================] - 46s 92ms/step - loss: 0.0025 - accuracy: 0.4728 - precision: 0.9988 - recall: 0.9990 - val_loss: 0.0555 - val_accuracy: 0.2945 - val_precision: 0.9980 - val_recall: 0.9750\n",
            "Epoch 186/200\n",
            "500/500 [==============================] - 45s 90ms/step - loss: 5.7980e-04 - accuracy: 0.4873 - precision: 0.9998 - recall: 0.9998 - val_loss: 0.0668 - val_accuracy: 0.3240 - val_precision: 0.9979 - val_recall: 0.9710\n",
            "Epoch 187/200\n",
            "500/500 [==============================] - 46s 91ms/step - loss: 0.0121 - accuracy: 0.4836 - precision: 0.9963 - recall: 0.9973 - val_loss: 0.0377 - val_accuracy: 0.3485 - val_precision: 0.9970 - val_recall: 0.9840\n",
            "Epoch 188/200\n",
            "500/500 [==============================] - 46s 91ms/step - loss: 0.0063 - accuracy: 0.5043 - precision: 0.9980 - recall: 0.9983 - val_loss: 0.0771 - val_accuracy: 0.3600 - val_precision: 0.9980 - val_recall: 0.9760\n",
            "Epoch 189/200\n",
            "500/500 [==============================] - 46s 91ms/step - loss: 0.0096 - accuracy: 0.5130 - precision: 0.9973 - recall: 0.9973 - val_loss: 0.0539 - val_accuracy: 0.3635 - val_precision: 0.9980 - val_recall: 0.9770\n",
            "Epoch 190/200\n",
            "500/500 [==============================] - 45s 90ms/step - loss: 0.0023 - accuracy: 0.5035 - precision: 0.9992 - recall: 0.9990 - val_loss: 0.0335 - val_accuracy: 0.4030 - val_precision: 0.9970 - val_recall: 0.9900\n",
            "Epoch 191/200\n",
            "500/500 [==============================] - 46s 91ms/step - loss: 8.1742e-05 - accuracy: 0.5196 - precision: 1.0000 - recall: 1.0000 - val_loss: 0.0323 - val_accuracy: 0.3945 - val_precision: 0.9970 - val_recall: 0.9900\n",
            "Epoch 192/200\n",
            "500/500 [==============================] - 45s 89ms/step - loss: 7.9635e-05 - accuracy: 0.5164 - precision: 1.0000 - recall: 1.0000 - val_loss: 0.0447 - val_accuracy: 0.3655 - val_precision: 0.9970 - val_recall: 0.9830\n",
            "Epoch 193/200\n",
            "500/500 [==============================] - 44s 88ms/step - loss: 1.6727e-05 - accuracy: 0.5103 - precision: 1.0000 - recall: 1.0000 - val_loss: 0.0467 - val_accuracy: 0.3610 - val_precision: 0.9980 - val_recall: 0.9820\n",
            "Epoch 194/200\n",
            "500/500 [==============================] - 46s 91ms/step - loss: 1.5759e-05 - accuracy: 0.5125 - precision: 1.0000 - recall: 1.0000 - val_loss: 0.0427 - val_accuracy: 0.3685 - val_precision: 0.9970 - val_recall: 0.9840\n",
            "Epoch 195/200\n",
            "500/500 [==============================] - 46s 91ms/step - loss: 2.6800e-05 - accuracy: 0.5134 - precision: 1.0000 - recall: 1.0000 - val_loss: 0.0510 - val_accuracy: 0.3680 - val_precision: 0.9970 - val_recall: 0.9810\n",
            "Epoch 196/200\n",
            "500/500 [==============================] - 46s 92ms/step - loss: 2.7504e-05 - accuracy: 0.5168 - precision: 1.0000 - recall: 1.0000 - val_loss: 0.0584 - val_accuracy: 0.3615 - val_precision: 0.9970 - val_recall: 0.9830\n",
            "Epoch 197/200\n",
            "500/500 [==============================] - 45s 90ms/step - loss: 9.0849e-06 - accuracy: 0.5165 - precision: 1.0000 - recall: 1.0000 - val_loss: 0.0546 - val_accuracy: 0.3655 - val_precision: 0.9970 - val_recall: 0.9820\n",
            "Epoch 198/200\n",
            "500/500 [==============================] - 45s 90ms/step - loss: 0.0147 - accuracy: 0.5039 - precision: 0.9963 - recall: 0.9963 - val_loss: 0.4510 - val_accuracy: 0.2120 - val_precision: 1.0000 - val_recall: 0.8570\n",
            "Epoch 199/200\n",
            " 14/500 [..............................] - ETA: 12:08:26 - loss: 0.0103 - accuracy: 0.4330 - precision: 1.0000 - recall: 0.9818"
          ]
        }
      ],
      "source": [
        "import datetime\n",
        "\n",
        "tensorboard_callback = tf.keras.callbacks.TensorBoard(log_dir=log_dir, histogram_freq=1)\n",
        "history = model.fit(\n",
        "    train_generator,\n",
        "    validation_data = test_generator,\n",
        "    steps_per_epoch = train_size/batch_size,\n",
        "    epochs = epochs,\n",
        "    validation_steps = test_size/batch_size,\n",
        "    callbacks=[tensorboard_callback]\n",
        ")"
      ]
    },
    {
      "cell_type": "code",
      "execution_count": null,
      "metadata": {
        "id": "YRX7r_azHO4N"
      },
      "outputs": [],
      "source": [
        "import matplotlib.pyplot as plt\n",
        "acc = history.history['accuracy']\n",
        "val_acc = history.history['val_accuracy']\n",
        "loss = history.history['loss']\n",
        "val_loss = history.history['val_loss']\n",
        "precision = history.history['precision']\n",
        "recall = history.history['recall']\n",
        "\n",
        "epochs = range(len(acc))\n",
        "\n",
        "plt.plot(epochs, acc, 'bo', label='Training accuracy')\n",
        "plt.plot(epochs, val_acc, 'b', label='Validation accuracy')\n",
        "plt.title('Training and validation accuracy')\n",
        "plt.savefig(f\"{run_prefix}acc.svg\")\n",
        "plt.figure()\n",
        "\n",
        "\n",
        "plt.plot(epochs, loss, 'bo', label='Training Loss')\n",
        "plt.plot(epochs, val_loss, 'b', label='Validation Loss')\n",
        "plt.title('Training and validation loss')\n",
        "plt.legend()\n",
        "plt.savefig(f\"{run_prefix}loss.svg\")\n",
        "\n",
        "plt.show()"
      ]
    },
    {
      "cell_type": "code",
      "execution_count": null,
      "metadata": {
        "id": "IDCPxBt6HKOf"
      },
      "outputs": [],
      "source": [
        "#model.save(f\"{run_prefix}{model_current}.h5\")"
      ]
    },
    {
      "cell_type": "code",
      "execution_count": null,
      "metadata": {},
      "outputs": [],
      "source": [
        "import csv\n",
        "\n",
        "header = [\"train_acc\", \"val_acc\", \"train_loss\", \"val_loss\", \"precision\", \"recall\"]\n",
        "\n",
        "with open(f'{results_prefix}metrics.csv', 'w', encoding='UTF8', newline='') as f:\n",
        "    writer = csv.writer(f)\n",
        "\n",
        "    # write the header\n",
        "    writer.writerow(header)\n",
        "    for idx in range(len(acc)):\n",
        "        line = [acc[idx],val_acc[idx],loss[idx],val_loss[idx], precision[idx], recall[idx]]        \n",
        "        writer.writerow(line)\n"
      ]
    }
  ],
  "metadata": {
    "colab": {
      "name": "apple-rotten-vgg16.ipynb",
      "provenance": []
    },
    "kernelspec": {
      "display_name": "Python 3.10.5 ('vgg')",
      "language": "python",
      "name": "python3"
    },
    "language_info": {
      "codemirror_mode": {
        "name": "ipython",
        "version": 3
      },
      "file_extension": ".py",
      "mimetype": "text/x-python",
      "name": "python",
      "nbconvert_exporter": "python",
      "pygments_lexer": "ipython3",
      "version": "3.10.5"
    },
    "vscode": {
      "interpreter": {
        "hash": "ff58de072d64611dbae8c4170fcafe8ac36933b60b8ebb2ab3f373fa4c0cda03"
      }
    }
  },
  "nbformat": 4,
  "nbformat_minor": 0
}
