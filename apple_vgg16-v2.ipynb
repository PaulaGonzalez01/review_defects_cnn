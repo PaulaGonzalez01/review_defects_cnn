{
  "cells": [
    {
      "cell_type": "markdown",
      "metadata": {
        "id": "1GHJkeI7ikNV"
      },
      "source": [
        "**Import dependecies**"
      ]
    },
    {
      "cell_type": "code",
      "execution_count": 1,
      "metadata": {},
      "outputs": [
        {
          "data": {
            "text/plain": [
              "'\\n%conda install -c apple tensorflow-deps scipy #macos\\n%pip install tensorflow-macos tensorflow-metal #macos\\n\\n%pip install --upgrade tensorflow \\n%pip install pydot graphviz\\n\\n%pip install pandas numpy pillow matplotlib scipy autopep8 pydot\\n'"
            ]
          },
          "execution_count": 1,
          "metadata": {},
          "output_type": "execute_result"
        }
      ],
      "source": [
        "'''\n",
        "%conda install -c apple tensorflow-deps scipy #macos\n",
        "%pip install tensorflow-macos tensorflow-metal #macos\n",
        "\n",
        "%pip install --upgrade tensorflow \n",
        "%pip install pydot graphviz\n",
        "\n",
        "%pip install pandas numpy pillow matplotlib scipy autopep8 pydot\n",
        "'''"
      ]
    },
    {
      "cell_type": "code",
      "execution_count": 2,
      "metadata": {},
      "outputs": [],
      "source": [
        "import tensorflow as tf\n",
        "%load_ext tensorboard"
      ]
    },
    {
      "cell_type": "code",
      "execution_count": 3,
      "metadata": {},
      "outputs": [],
      "source": [
        "#print(\"Num GPUs Available: \", len(tf.config.list_physical_devices('GPU')))"
      ]
    },
    {
      "cell_type": "code",
      "execution_count": 4,
      "metadata": {},
      "outputs": [
        {
          "data": {
            "text/plain": [
              "[PhysicalDevice(name='/physical_device:CPU:0', device_type='CPU'),\n",
              " PhysicalDevice(name='/physical_device:GPU:0', device_type='GPU')]"
            ]
          },
          "execution_count": 4,
          "metadata": {},
          "output_type": "execute_result"
        }
      ],
      "source": [
        "tf.config.list_physical_devices()"
      ]
    },
    {
      "cell_type": "code",
      "execution_count": 5,
      "metadata": {
        "id": "eJiLL0VGe_wI"
      },
      "outputs": [
        {
          "data": {
            "text/plain": [
              "'./runs/apple/vgg16/20220802-152414/'"
            ]
          },
          "execution_count": 5,
          "metadata": {},
          "output_type": "execute_result"
        }
      ],
      "source": [
        "import os\n",
        "from tensorflow import keras\n",
        "from keras.applications.vgg16 import VGG16\n",
        "from keras.optimizers import Adam\n",
        "from keras.preprocessing.image import ImageDataGenerator\n",
        "from keras import layers\n",
        "from keras import Model\n",
        "import datetime\n",
        "\n",
        "fruit = \"apple\"\n",
        "model_current = \"vgg16\"\n",
        "curr_datetime = datetime.datetime.now().strftime(\"%Y%m%d-%H%M%S\")\n",
        "run_prefix = f'./runs/{fruit}/{model_current}/{curr_datetime}/'\n",
        "#results_prefix = f'./results/{fruit}/{model_current}/{curr_datetime}/'\n",
        "log_dir = f'logs/fit/{fruit}/{model_current}/{curr_datetime}'\n",
        "os.makedirs(run_prefix, exist_ok=True)\n",
        "#os.makedirs(results_prefix, exist_ok=True)\n",
        "run_prefix\n"
      ]
    },
    {
      "cell_type": "markdown",
      "metadata": {
        "id": "7XFtXmuTisRa"
      },
      "source": [
        "**Create an imagedatagenerator object to label data**"
      ]
    },
    {
      "cell_type": "code",
      "execution_count": 6,
      "metadata": {
        "colab": {
          "base_uri": "https://localhost:8080/"
        },
        "id": "7nhMVi8sc-iA",
        "outputId": "d3b3b177-4001-4d64-8e4a-e1efd77dbb9b"
      },
      "outputs": [
        {
          "name": "stdout",
          "output_type": "stream",
          "text": [
            "Found 8000 images belonging to 2 classes.\n",
            "Found 2000 images belonging to 2 classes.\n"
          ]
        }
      ],
      "source": [
        "input_size = 224\n",
        "batch_size = 16\n",
        "train_size = 8000\n",
        "test_size = 2000\n",
        "learning_rate = 0.001\n",
        "epochs = 20\n",
        "dropout = 0.0\n",
        "dense_size = 1024\n",
        "\n",
        "train_datagen = ImageDataGenerator(rescale = 1./255)\n",
        "test_datagen = ImageDataGenerator(rescale = 1./255)\n",
        "train_dir = f\"./dataset_frutas_colab/{fruit}/train\"\n",
        "test_dir = f\"./dataset_frutas_colab/{fruit}/test\"\n",
        "train_generator = train_datagen.flow_from_directory(train_dir,batch_size=batch_size,class_mode = 'binary', shuffle= True, target_size=(input_size,input_size))\n",
        "test_generator = test_datagen.flow_from_directory(test_dir,batch_size=batch_size,class_mode = 'binary',shuffle= True, target_size=(input_size,input_size))"
      ]
    },
    {
      "cell_type": "markdown",
      "metadata": {},
      "source": [
        "VGG16 model"
      ]
    },
    {
      "cell_type": "code",
      "execution_count": 7,
      "metadata": {
        "id": "ge7tchaKGh9C"
      },
      "outputs": [],
      "source": [
        "pre_trained_model = VGG16(\n",
        "    input_shape = (input_size,input_size,3),\n",
        "    include_top = False,\n",
        "    weights='imagenet'\n",
        ")\n"
      ]
    },
    {
      "cell_type": "markdown",
      "metadata": {
        "id": "efoR8KpwGa-i"
      },
      "source": [
        "Start transfer learning process"
      ]
    },
    {
      "cell_type": "code",
      "execution_count": 8,
      "metadata": {},
      "outputs": [],
      "source": [
        "for layer in pre_trained_model.layers:\n",
        "  layer.trainable = False"
      ]
    },
    {
      "cell_type": "code",
      "execution_count": 9,
      "metadata": {
        "id": "ucb7feWOGt3h"
      },
      "outputs": [],
      "source": [
        "#Flatten\n",
        "x = layers.Flatten()(pre_trained_model.output)\n",
        "#Fully connected layer con 1,024 hidden units y ReLU\n",
        "x = layers.Dense(dense_size, activation='relu')(x)\n",
        "x = layers.Dense(dense_size/2, activation='relu')(x)\n",
        "#Dropout rate\n",
        "if (dropout>0):\n",
        "    x = layers.Dropout(dropout)(x)\n",
        "#Binary classification and sigmoid func\n",
        "x = layers.Dense(1,activation='sigmoid')(x)\n",
        "\n",
        "model = Model(pre_trained_model.input,x)\n",
        "\n",
        "model.compile(optimizer = tf.keras.optimizers.RMSprop(learning_rate=learning_rate),\n",
        "              loss='binary_crossentropy',\n",
        "              metrics = [tf.keras.metrics.Accuracy(),\n",
        "                         tf.keras.metrics.Precision(), \n",
        "                         tf.keras.metrics.Recall()])"
      ]
    },
    {
      "cell_type": "code",
      "execution_count": 10,
      "metadata": {},
      "outputs": [
        {
          "name": "stdout",
          "output_type": "stream",
          "text": [
            "Model: \"model\"\n",
            "_________________________________________________________________\n",
            " Layer (type)                Output Shape              Param #   \n",
            "=================================================================\n",
            " input_1 (InputLayer)        [(None, 224, 224, 3)]     0         \n",
            "                                                                 \n",
            " block1_conv1 (Conv2D)       (None, 224, 224, 64)      1792      \n",
            "                                                                 \n",
            " block1_conv2 (Conv2D)       (None, 224, 224, 64)      36928     \n",
            "                                                                 \n",
            " block1_pool (MaxPooling2D)  (None, 112, 112, 64)      0         \n",
            "                                                                 \n",
            " block2_conv1 (Conv2D)       (None, 112, 112, 128)     73856     \n",
            "                                                                 \n",
            " block2_conv2 (Conv2D)       (None, 112, 112, 128)     147584    \n",
            "                                                                 \n",
            " block2_pool (MaxPooling2D)  (None, 56, 56, 128)       0         \n",
            "                                                                 \n",
            " block3_conv1 (Conv2D)       (None, 56, 56, 256)       295168    \n",
            "                                                                 \n",
            " block3_conv2 (Conv2D)       (None, 56, 56, 256)       590080    \n",
            "                                                                 \n",
            " block3_conv3 (Conv2D)       (None, 56, 56, 256)       590080    \n",
            "                                                                 \n",
            " block3_pool (MaxPooling2D)  (None, 28, 28, 256)       0         \n",
            "                                                                 \n",
            " block4_conv1 (Conv2D)       (None, 28, 28, 512)       1180160   \n",
            "                                                                 \n",
            " block4_conv2 (Conv2D)       (None, 28, 28, 512)       2359808   \n",
            "                                                                 \n",
            " block4_conv3 (Conv2D)       (None, 28, 28, 512)       2359808   \n",
            "                                                                 \n",
            " block4_pool (MaxPooling2D)  (None, 14, 14, 512)       0         \n",
            "                                                                 \n",
            " block5_conv1 (Conv2D)       (None, 14, 14, 512)       2359808   \n",
            "                                                                 \n",
            " block5_conv2 (Conv2D)       (None, 14, 14, 512)       2359808   \n",
            "                                                                 \n",
            " block5_conv3 (Conv2D)       (None, 14, 14, 512)       2359808   \n",
            "                                                                 \n",
            " block5_pool (MaxPooling2D)  (None, 7, 7, 512)         0         \n",
            "                                                                 \n",
            " flatten (Flatten)           (None, 25088)             0         \n",
            "                                                                 \n",
            " dense (Dense)               (None, 1024)              25691136  \n",
            "                                                                 \n",
            " dense_1 (Dense)             (None, 512)               524800    \n",
            "                                                                 \n",
            " dense_2 (Dense)             (None, 1)                 513       \n",
            "                                                                 \n",
            "=================================================================\n",
            "Total params: 40,931,137\n",
            "Trainable params: 26,216,449\n",
            "Non-trainable params: 14,714,688\n",
            "_________________________________________________________________\n"
          ]
        }
      ],
      "source": [
        "model.summary()"
      ]
    },
    {
      "cell_type": "code",
      "execution_count": 11,
      "metadata": {},
      "outputs": [
        {
          "name": "stdout",
          "output_type": "stream",
          "text": [
            "Saved Model Image\n"
          ]
        }
      ],
      "source": [
        "tf.keras.utils.plot_model(\n",
        "    model,\n",
        "    to_file=f\"{run_prefix}model.png\",\n",
        "    show_shapes=True,\n",
        "    show_dtype=False,\n",
        "    show_layer_names=True,\n",
        "    rankdir=\"TB\",\n",
        "    expand_nested=True,\n",
        "    dpi=96,\n",
        "    layer_range=None,\n",
        "    show_layer_activations=True,\n",
        ")\n",
        "print(\"Saved Model Image\")"
      ]
    },
    {
      "cell_type": "code",
      "execution_count": 12,
      "metadata": {
        "colab": {
          "base_uri": "https://localhost:8080/"
        },
        "id": "mRJn0TwfHCGr",
        "outputId": "5e1c64ab-847d-4dae-94c3-96726d624c0c"
      },
      "outputs": [
        {
          "name": "stdout",
          "output_type": "stream",
          "text": [
            "Epoch 1/20\n",
            "500/500 [==============================] - 174s 336ms/step - loss: 0.5684 - accuracy: 0.0072 - precision: 0.8610 - recall: 0.8637 - val_loss: 0.0826 - val_accuracy: 0.0060 - val_precision: 0.9845 - val_recall: 0.9550\n",
            "Epoch 2/20\n",
            "500/500 [==============================] - 168s 336ms/step - loss: 0.1364 - accuracy: 0.0878 - precision: 0.9537 - recall: 0.9572 - val_loss: 0.1966 - val_accuracy: 0.1700 - val_precision: 0.9120 - val_recall: 0.9950\n",
            "Epoch 3/20\n",
            "500/500 [==============================] - 167s 334ms/step - loss: 0.1181 - accuracy: 0.1631 - precision: 0.9657 - recall: 0.9712 - val_loss: 0.1039 - val_accuracy: 0.2025 - val_precision: 0.9433 - val_recall: 0.9990\n",
            "Epoch 4/20\n",
            "500/500 [==============================] - 167s 334ms/step - loss: 0.0852 - accuracy: 0.2386 - precision: 0.9750 - recall: 0.9770 - val_loss: 0.0607 - val_accuracy: 0.1925 - val_precision: 0.9809 - val_recall: 0.9740\n",
            "Epoch 5/20\n",
            "500/500 [==============================] - 164s 329ms/step - loss: 0.0650 - accuracy: 0.3047 - precision: 0.9816 - recall: 0.9862 - val_loss: 0.0414 - val_accuracy: 0.2870 - val_precision: 0.9880 - val_recall: 0.9880\n",
            "Epoch 6/20\n",
            "500/500 [==============================] - 172s 343ms/step - loss: 0.0625 - accuracy: 0.3850 - precision: 0.9865 - recall: 0.9862 - val_loss: 0.0325 - val_accuracy: 0.3295 - val_precision: 0.9910 - val_recall: 0.9920\n",
            "Epoch 7/20\n",
            "500/500 [==============================] - 167s 333ms/step - loss: 0.0641 - accuracy: 0.4636 - precision: 0.9875 - recall: 0.9900 - val_loss: 0.0445 - val_accuracy: 0.5170 - val_precision: 0.9960 - val_recall: 0.9900\n",
            "Epoch 8/20\n",
            "413/500 [=======================>......] - ETA: 22s - loss: 0.0427 - accuracy: 0.5256 - precision: 0.9921 - recall: 0.9927"
          ]
        }
      ],
      "source": [
        "import datetime\n",
        "\n",
        "tensorboard_callback = tf.keras.callbacks.TensorBoard(log_dir=log_dir, histogram_freq=1)\n",
        "history = model.fit(\n",
        "    train_generator,\n",
        "    validation_data = test_generator,\n",
        "    steps_per_epoch = train_size/batch_size,\n",
        "    epochs = epochs,\n",
        "    validation_steps = test_size/batch_size,\n",
        "    callbacks=[tensorboard_callback]\n",
        ")"
      ]
    },
    {
      "cell_type": "code",
      "execution_count": null,
      "metadata": {
        "id": "YRX7r_azHO4N"
      },
      "outputs": [],
      "source": [
        "import matplotlib.pyplot as plt\n",
        "acc = history.history['accuracy']\n",
        "val_acc = history.history['val_accuracy']\n",
        "loss = history.history['loss']\n",
        "val_loss = history.history['val_loss']\n",
        "precision = history.history['precision']\n",
        "recall = history.history['recall']\n",
        "\n",
        "epochs = range(len(acc))\n",
        "\n",
        "plt.plot(epochs, acc, 'bo', label='Training accuracy')\n",
        "plt.plot(epochs, val_acc, 'b', label='Validation accuracy')\n",
        "plt.title('Training and validation accuracy')\n",
        "plt.savefig(f\"{run_prefix}acc.svg\")\n",
        "plt.figure()\n",
        "\n",
        "\n",
        "plt.plot(epochs, loss, 'bo', label='Training Loss')\n",
        "plt.plot(epochs, val_loss, 'b', label='Validation Loss')\n",
        "plt.title('Training and validation loss')\n",
        "plt.legend()\n",
        "plt.savefig(f\"{run_prefix}loss.svg\")\n",
        "\n",
        "plt.show()"
      ]
    },
    {
      "cell_type": "code",
      "execution_count": null,
      "metadata": {
        "id": "IDCPxBt6HKOf"
      },
      "outputs": [],
      "source": [
        "#model.save(f\"{run_prefix}{model_current}.h5\")"
      ]
    },
    {
      "cell_type": "code",
      "execution_count": null,
      "metadata": {},
      "outputs": [],
      "source": [
        "import csv\n",
        "\n",
        "header = [\"train_acc\", \"val_acc\", \"train_loss\", \"val_loss\", \"precision\", \"recall\"]\n",
        "\n",
        "with open(f'{run_prefix}{epochs}-{dropout}-{batch_size}-{learning_rate}-{input_size}-RMS-metrics.csv', 'w', encoding='UTF8', newline='') as f:\n",
        "    writer = csv.writer(f)\n",
        "\n",
        "    # write the header\n",
        "    writer.writerow(header)\n",
        "    for idx in range(len(acc)):\n",
        "        line = [acc[idx],val_acc[idx],loss[idx],val_loss[idx], precision[idx], recall[idx]]        \n",
        "        writer.writerow(line)\n"
      ]
    },
    {
      "cell_type": "markdown",
      "metadata": {},
      "source": [
        "Probar la prediccion"
      ]
    },
    {
      "cell_type": "code",
      "execution_count": null,
      "metadata": {},
      "outputs": [],
      "source": [
        "'''\n",
        "paths = [\"./fresh1.jpg\", \"./fresh2.jpg\", \"./fresh3.jpg\", \"./fresh4.png\", \"./rotten1.jpg\", \"./rotten2.png\", \"./rotten3.png\", \"./rotten4.png\"]\n",
        "\n",
        "model = keras.models.load_model('16_20_0.0_inceptionv3.h5')\n",
        "\n",
        "for path in paths:\n",
        "    img = image.load_img(path, target_size=(250, 250))\n",
        "\n",
        "    img_array = keras.preprocessing.image.img_to_array(img)\n",
        "    img_array = tensorflow.expand_dims(img_array, 0)\n",
        "\n",
        "    #predict\n",
        "    preds = model.predict(img_array)\n",
        "    print(preds)\n",
        "'''"
      ]
    }
  ],
  "metadata": {
    "colab": {
      "name": "apple-rotten-vgg16.ipynb",
      "provenance": []
    },
    "kernelspec": {
      "display_name": "Python 3.9.12 ('tf')",
      "language": "python",
      "name": "python3"
    },
    "language_info": {
      "codemirror_mode": {
        "name": "ipython",
        "version": 3
      },
      "file_extension": ".py",
      "mimetype": "text/x-python",
      "name": "python",
      "nbconvert_exporter": "python",
      "pygments_lexer": "ipython3",
      "version": "3.9.12"
    },
    "vscode": {
      "interpreter": {
        "hash": "f1dd91301593ed57a3aa6ced3c8686829355a16df367190aff0744e5984c2469"
      }
    }
  },
  "nbformat": 4,
  "nbformat_minor": 0
}
