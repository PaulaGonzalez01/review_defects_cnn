{
  "cells": [
    {
      "cell_type": "markdown",
      "metadata": {
        "id": "1GHJkeI7ikNV"
      },
      "source": [
        "**Import dependecies**"
      ]
    },
    {
      "cell_type": "code",
      "execution_count": 1,
      "metadata": {},
      "outputs": [
        {
          "name": "stdout",
          "output_type": "stream",
          "text": [
            "Collecting package metadata (current_repodata.json): done\n",
            "Solving environment: done\n",
            "\n",
            "\n",
            "==> WARNING: A newer version of conda exists. <==\n",
            "  current version: 4.12.0\n",
            "  latest version: 4.13.0\n",
            "\n",
            "Please update conda by running\n",
            "\n",
            "    $ conda update -n base conda\n",
            "\n",
            "\n",
            "\n",
            "# All requested packages already installed.\n",
            "\n",
            "\n",
            "Note: you may need to restart the kernel to use updated packages.\n",
            "Requirement already satisfied: tensorflow-macos in /opt/homebrew/Caskroom/miniforge/base/envs/vgg/lib/python3.10/site-packages (2.9.2)\n",
            "Requirement already satisfied: tensorflow-metal in /opt/homebrew/Caskroom/miniforge/base/envs/vgg/lib/python3.10/site-packages (0.5.0)\n",
            "Requirement already satisfied: packaging in /opt/homebrew/Caskroom/miniforge/base/envs/vgg/lib/python3.10/site-packages (from tensorflow-macos) (21.3)\n",
            "Requirement already satisfied: astunparse>=1.6.0 in /opt/homebrew/Caskroom/miniforge/base/envs/vgg/lib/python3.10/site-packages (from tensorflow-macos) (1.6.3)\n",
            "Requirement already satisfied: opt-einsum>=2.3.2 in /opt/homebrew/Caskroom/miniforge/base/envs/vgg/lib/python3.10/site-packages (from tensorflow-macos) (3.3.0)\n",
            "Requirement already satisfied: termcolor>=1.1.0 in /opt/homebrew/Caskroom/miniforge/base/envs/vgg/lib/python3.10/site-packages (from tensorflow-macos) (1.1.0)\n",
            "Requirement already satisfied: protobuf<3.20,>=3.9.2 in /opt/homebrew/Caskroom/miniforge/base/envs/vgg/lib/python3.10/site-packages (from tensorflow-macos) (3.19.4)\n",
            "Requirement already satisfied: keras-preprocessing>=1.1.1 in /opt/homebrew/Caskroom/miniforge/base/envs/vgg/lib/python3.10/site-packages (from tensorflow-macos) (1.1.2)\n",
            "Requirement already satisfied: gast<=0.4.0,>=0.2.1 in /opt/homebrew/Caskroom/miniforge/base/envs/vgg/lib/python3.10/site-packages (from tensorflow-macos) (0.4.0)\n",
            "Requirement already satisfied: libclang>=13.0.0 in /opt/homebrew/Caskroom/miniforge/base/envs/vgg/lib/python3.10/site-packages (from tensorflow-macos) (14.0.1)\n",
            "Requirement already satisfied: absl-py>=1.0.0 in /opt/homebrew/Caskroom/miniforge/base/envs/vgg/lib/python3.10/site-packages (from tensorflow-macos) (1.1.0)\n",
            "Requirement already satisfied: wrapt>=1.11.0 in /opt/homebrew/Caskroom/miniforge/base/envs/vgg/lib/python3.10/site-packages (from tensorflow-macos) (1.14.1)\n",
            "Requirement already satisfied: six>=1.12.0 in /opt/homebrew/Caskroom/miniforge/base/envs/vgg/lib/python3.10/site-packages (from tensorflow-macos) (1.15.0)\n",
            "Requirement already satisfied: setuptools in /opt/homebrew/Caskroom/miniforge/base/envs/vgg/lib/python3.10/site-packages (from tensorflow-macos) (62.6.0)\n",
            "Requirement already satisfied: google-pasta>=0.1.1 in /opt/homebrew/Caskroom/miniforge/base/envs/vgg/lib/python3.10/site-packages (from tensorflow-macos) (0.2.0)\n",
            "Requirement already satisfied: tensorflow-estimator<2.10.0,>=2.9.0rc0 in /opt/homebrew/Caskroom/miniforge/base/envs/vgg/lib/python3.10/site-packages (from tensorflow-macos) (2.9.0)\n",
            "Requirement already satisfied: h5py>=2.9.0 in /opt/homebrew/Caskroom/miniforge/base/envs/vgg/lib/python3.10/site-packages (from tensorflow-macos) (3.6.0)\n",
            "Requirement already satisfied: keras<2.10.0,>=2.9.0rc0 in /opt/homebrew/Caskroom/miniforge/base/envs/vgg/lib/python3.10/site-packages (from tensorflow-macos) (2.9.0)\n",
            "Requirement already satisfied: numpy>=1.20 in /opt/homebrew/Caskroom/miniforge/base/envs/vgg/lib/python3.10/site-packages (from tensorflow-macos) (1.22.4)\n",
            "Requirement already satisfied: grpcio<2.0,>=1.24.3 in /opt/homebrew/Caskroom/miniforge/base/envs/vgg/lib/python3.10/site-packages (from tensorflow-macos) (1.47.0)\n",
            "Requirement already satisfied: flatbuffers<2,>=1.12 in /opt/homebrew/Caskroom/miniforge/base/envs/vgg/lib/python3.10/site-packages (from tensorflow-macos) (1.12)\n",
            "Requirement already satisfied: tensorboard<2.10,>=2.9 in /opt/homebrew/Caskroom/miniforge/base/envs/vgg/lib/python3.10/site-packages (from tensorflow-macos) (2.9.1)\n",
            "Requirement already satisfied: typing-extensions>=3.6.6 in /opt/homebrew/Caskroom/miniforge/base/envs/vgg/lib/python3.10/site-packages (from tensorflow-macos) (4.2.0)\n",
            "Requirement already satisfied: wheel~=0.35 in /opt/homebrew/Caskroom/miniforge/base/envs/vgg/lib/python3.10/site-packages (from tensorflow-metal) (0.37.1)\n",
            "Requirement already satisfied: google-auth-oauthlib<0.5,>=0.4.1 in /opt/homebrew/Caskroom/miniforge/base/envs/vgg/lib/python3.10/site-packages (from tensorboard<2.10,>=2.9->tensorflow-macos) (0.4.6)\n",
            "Requirement already satisfied: requests<3,>=2.21.0 in /opt/homebrew/Caskroom/miniforge/base/envs/vgg/lib/python3.10/site-packages (from tensorboard<2.10,>=2.9->tensorflow-macos) (2.28.1)\n",
            "Requirement already satisfied: tensorboard-data-server<0.7.0,>=0.6.0 in /opt/homebrew/Caskroom/miniforge/base/envs/vgg/lib/python3.10/site-packages (from tensorboard<2.10,>=2.9->tensorflow-macos) (0.6.1)\n",
            "Requirement already satisfied: tensorboard-plugin-wit>=1.6.0 in /opt/homebrew/Caskroom/miniforge/base/envs/vgg/lib/python3.10/site-packages (from tensorboard<2.10,>=2.9->tensorflow-macos) (1.8.1)\n",
            "Requirement already satisfied: markdown>=2.6.8 in /opt/homebrew/Caskroom/miniforge/base/envs/vgg/lib/python3.10/site-packages (from tensorboard<2.10,>=2.9->tensorflow-macos) (3.3.7)\n",
            "Requirement already satisfied: werkzeug>=1.0.1 in /opt/homebrew/Caskroom/miniforge/base/envs/vgg/lib/python3.10/site-packages (from tensorboard<2.10,>=2.9->tensorflow-macos) (2.1.2)\n",
            "Requirement already satisfied: google-auth<3,>=1.6.3 in /opt/homebrew/Caskroom/miniforge/base/envs/vgg/lib/python3.10/site-packages (from tensorboard<2.10,>=2.9->tensorflow-macos) (2.9.0)\n",
            "Requirement already satisfied: pyparsing!=3.0.5,>=2.0.2 in /opt/homebrew/Caskroom/miniforge/base/envs/vgg/lib/python3.10/site-packages (from packaging->tensorflow-macos) (3.0.9)\n",
            "Requirement already satisfied: pyasn1-modules>=0.2.1 in /opt/homebrew/Caskroom/miniforge/base/envs/vgg/lib/python3.10/site-packages (from google-auth<3,>=1.6.3->tensorboard<2.10,>=2.9->tensorflow-macos) (0.2.8)\n",
            "Requirement already satisfied: cachetools<6.0,>=2.0.0 in /opt/homebrew/Caskroom/miniforge/base/envs/vgg/lib/python3.10/site-packages (from google-auth<3,>=1.6.3->tensorboard<2.10,>=2.9->tensorflow-macos) (5.2.0)\n",
            "Requirement already satisfied: rsa<5,>=3.1.4 in /opt/homebrew/Caskroom/miniforge/base/envs/vgg/lib/python3.10/site-packages (from google-auth<3,>=1.6.3->tensorboard<2.10,>=2.9->tensorflow-macos) (4.8)\n",
            "Requirement already satisfied: requests-oauthlib>=0.7.0 in /opt/homebrew/Caskroom/miniforge/base/envs/vgg/lib/python3.10/site-packages (from google-auth-oauthlib<0.5,>=0.4.1->tensorboard<2.10,>=2.9->tensorflow-macos) (1.3.1)\n",
            "Requirement already satisfied: urllib3<1.27,>=1.21.1 in /opt/homebrew/Caskroom/miniforge/base/envs/vgg/lib/python3.10/site-packages (from requests<3,>=2.21.0->tensorboard<2.10,>=2.9->tensorflow-macos) (1.26.9)\n",
            "Requirement already satisfied: charset-normalizer<3,>=2 in /opt/homebrew/Caskroom/miniforge/base/envs/vgg/lib/python3.10/site-packages (from requests<3,>=2.21.0->tensorboard<2.10,>=2.9->tensorflow-macos) (2.1.0)\n",
            "Requirement already satisfied: certifi>=2017.4.17 in /opt/homebrew/Caskroom/miniforge/base/envs/vgg/lib/python3.10/site-packages (from requests<3,>=2.21.0->tensorboard<2.10,>=2.9->tensorflow-macos) (2022.6.15)\n",
            "Requirement already satisfied: idna<4,>=2.5 in /opt/homebrew/Caskroom/miniforge/base/envs/vgg/lib/python3.10/site-packages (from requests<3,>=2.21.0->tensorboard<2.10,>=2.9->tensorflow-macos) (3.3)\n",
            "Requirement already satisfied: pyasn1<0.5.0,>=0.4.6 in /opt/homebrew/Caskroom/miniforge/base/envs/vgg/lib/python3.10/site-packages (from pyasn1-modules>=0.2.1->google-auth<3,>=1.6.3->tensorboard<2.10,>=2.9->tensorflow-macos) (0.4.8)\n",
            "Requirement already satisfied: oauthlib>=3.0.0 in /opt/homebrew/Caskroom/miniforge/base/envs/vgg/lib/python3.10/site-packages (from requests-oauthlib>=0.7.0->google-auth-oauthlib<0.5,>=0.4.1->tensorboard<2.10,>=2.9->tensorflow-macos) (3.2.0)\n",
            "Note: you may need to restart the kernel to use updated packages.\n",
            "Requirement already satisfied: pandas in /opt/homebrew/Caskroom/miniforge/base/envs/vgg/lib/python3.10/site-packages (1.4.3)\n",
            "Requirement already satisfied: numpy in /opt/homebrew/Caskroom/miniforge/base/envs/vgg/lib/python3.10/site-packages (1.22.4)\n",
            "Requirement already satisfied: pillow in /opt/homebrew/Caskroom/miniforge/base/envs/vgg/lib/python3.10/site-packages (9.1.1)\n",
            "Requirement already satisfied: matplotlib in /opt/homebrew/Caskroom/miniforge/base/envs/vgg/lib/python3.10/site-packages (3.5.2)\n",
            "Requirement already satisfied: scipy in /opt/homebrew/Caskroom/miniforge/base/envs/vgg/lib/python3.10/site-packages (1.8.1)\n",
            "Requirement already satisfied: autopep8 in /opt/homebrew/Caskroom/miniforge/base/envs/vgg/lib/python3.10/site-packages (1.6.0)\n",
            "Requirement already satisfied: pydot in /opt/homebrew/Caskroom/miniforge/base/envs/vgg/lib/python3.10/site-packages (1.4.2)\n",
            "Requirement already satisfied: pytz>=2020.1 in /opt/homebrew/Caskroom/miniforge/base/envs/vgg/lib/python3.10/site-packages (from pandas) (2022.1)\n",
            "Requirement already satisfied: python-dateutil>=2.8.1 in /opt/homebrew/Caskroom/miniforge/base/envs/vgg/lib/python3.10/site-packages (from pandas) (2.8.2)\n",
            "Requirement already satisfied: packaging>=20.0 in /opt/homebrew/Caskroom/miniforge/base/envs/vgg/lib/python3.10/site-packages (from matplotlib) (21.3)\n",
            "Requirement already satisfied: pyparsing>=2.2.1 in /opt/homebrew/Caskroom/miniforge/base/envs/vgg/lib/python3.10/site-packages (from matplotlib) (3.0.9)\n",
            "Requirement already satisfied: cycler>=0.10 in /opt/homebrew/Caskroom/miniforge/base/envs/vgg/lib/python3.10/site-packages (from matplotlib) (0.11.0)\n",
            "Requirement already satisfied: fonttools>=4.22.0 in /opt/homebrew/Caskroom/miniforge/base/envs/vgg/lib/python3.10/site-packages (from matplotlib) (4.33.3)\n",
            "Requirement already satisfied: kiwisolver>=1.0.1 in /opt/homebrew/Caskroom/miniforge/base/envs/vgg/lib/python3.10/site-packages (from matplotlib) (1.4.3)\n",
            "Requirement already satisfied: toml in /opt/homebrew/Caskroom/miniforge/base/envs/vgg/lib/python3.10/site-packages (from autopep8) (0.10.2)\n",
            "Requirement already satisfied: pycodestyle>=2.8.0 in /opt/homebrew/Caskroom/miniforge/base/envs/vgg/lib/python3.10/site-packages (from autopep8) (2.8.0)\n",
            "Requirement already satisfied: six>=1.5 in /opt/homebrew/Caskroom/miniforge/base/envs/vgg/lib/python3.10/site-packages (from python-dateutil>=2.8.1->pandas) (1.15.0)\n",
            "Note: you may need to restart the kernel to use updated packages.\n"
          ]
        }
      ],
      "source": [
        "\n",
        "%conda install -c apple tensorflow-deps scipy #macos\n",
        "%pip install tensorflow-macos tensorflow-metal #macos\n",
        "'''\n",
        "%pip install --upgrade tensorflow \n",
        "%pip install pydot graphviz\n",
        "'''\n",
        "%pip install pandas numpy pillow matplotlib scipy autopep8 pydot\n"
      ]
    },
    {
      "cell_type": "code",
      "execution_count": 2,
      "metadata": {},
      "outputs": [],
      "source": [
        "%load_ext tensorboard"
      ]
    },
    {
      "cell_type": "code",
      "execution_count": 3,
      "metadata": {},
      "outputs": [
        {
          "name": "stdout",
          "output_type": "stream",
          "text": [
            "Num GPUs Available:  1\n"
          ]
        }
      ],
      "source": [
        "import tensorflow as tf\n",
        "print(\"Num GPUs Available: \", len(tf.config.list_physical_devices('GPU')))"
      ]
    },
    {
      "cell_type": "code",
      "execution_count": 4,
      "metadata": {},
      "outputs": [
        {
          "data": {
            "text/plain": [
              "[PhysicalDevice(name='/physical_device:CPU:0', device_type='CPU'),\n",
              " PhysicalDevice(name='/physical_device:GPU:0', device_type='GPU')]"
            ]
          },
          "execution_count": 4,
          "metadata": {},
          "output_type": "execute_result"
        }
      ],
      "source": [
        "tf.config.list_physical_devices()"
      ]
    },
    {
      "cell_type": "code",
      "execution_count": 5,
      "metadata": {
        "id": "eJiLL0VGe_wI"
      },
      "outputs": [
        {
          "data": {
            "text/plain": [
              "'./runs/apple/vgg16/20220728-130744/'"
            ]
          },
          "execution_count": 5,
          "metadata": {},
          "output_type": "execute_result"
        }
      ],
      "source": [
        "import os\n",
        "from tensorflow import keras\n",
        "from keras.applications.vgg16 import VGG16\n",
        "from keras.optimizers import Adam\n",
        "from keras.preprocessing.image import ImageDataGenerator\n",
        "from keras import layers\n",
        "from keras import Model\n",
        "import datetime\n",
        "\n",
        "fruit = \"apple\"\n",
        "model_current = \"vgg16\"\n",
        "curr_datetime = datetime.datetime.now().strftime(\"%Y%m%d-%H%M%S\")\n",
        "run_prefix = f'./runs/{fruit}/{model_current}/{curr_datetime}/'\n",
        "results_prefix = f'./results/{fruit}/{model_current}/{curr_datetime}/'\n",
        "log_dir = f'logs/fit/{fruit}/{model_current}/{curr_datetime}'\n",
        "os.makedirs(run_prefix, exist_ok=True)\n",
        "os.makedirs(results_prefix, exist_ok=True)\n",
        "run_prefix\n"
      ]
    },
    {
      "cell_type": "markdown",
      "metadata": {
        "id": "7XFtXmuTisRa"
      },
      "source": [
        "**Create an imagedatagenerator object to label data**"
      ]
    },
    {
      "cell_type": "code",
      "execution_count": 6,
      "metadata": {
        "colab": {
          "base_uri": "https://localhost:8080/"
        },
        "id": "7nhMVi8sc-iA",
        "outputId": "d3b3b177-4001-4d64-8e4a-e1efd77dbb9b"
      },
      "outputs": [
        {
          "name": "stdout",
          "output_type": "stream",
          "text": [
            "Found 8000 images belonging to 2 classes.\n",
            "Found 2000 images belonging to 2 classes.\n"
          ]
        }
      ],
      "source": [
        "input_size = 128\n",
        "batch_size = 16\n",
        "train_size = 8000\n",
        "test_size = 2000\n",
        "learning_rate = 0.0001\n",
        "epochs = 100\n",
        "dropout = 0.0\n",
        "dense_size = 1024\n",
        "\n",
        "train_datagen = ImageDataGenerator(rescale = 1./255)\n",
        "test_datagen = ImageDataGenerator(rescale = 1./255)\n",
        "train_dir = f\"./dataset_frutas_colab/{fruit}/train\"\n",
        "test_dir = f\"./dataset_frutas_colab/{fruit}/test\"\n",
        "train_generator = train_datagen.flow_from_directory(train_dir,batch_size=batch_size,class_mode = 'binary', shuffle= True, target_size=(input_size,input_size))\n",
        "test_generator = test_datagen.flow_from_directory(test_dir,batch_size=batch_size,class_mode = 'binary',shuffle= True, target_size=(input_size,input_size))"
      ]
    },
    {
      "cell_type": "markdown",
      "metadata": {},
      "source": [
        "VGG16 model"
      ]
    },
    {
      "cell_type": "code",
      "execution_count": 7,
      "metadata": {
        "id": "ge7tchaKGh9C"
      },
      "outputs": [
        {
          "name": "stdout",
          "output_type": "stream",
          "text": [
            "Metal device set to: Apple M1 Pro\n",
            "\n",
            "systemMemory: 16.00 GB\n",
            "maxCacheSize: 5.33 GB\n",
            "\n"
          ]
        },
        {
          "name": "stderr",
          "output_type": "stream",
          "text": [
            "2022-07-27 17:53:21.537805: I tensorflow/core/common_runtime/pluggable_device/pluggable_device_factory.cc:305] Could not identify NUMA node of platform GPU ID 0, defaulting to 0. Your kernel may not have been built with NUMA support.\n",
            "2022-07-27 17:53:21.538156: I tensorflow/core/common_runtime/pluggable_device/pluggable_device_factory.cc:271] Created TensorFlow device (/job:localhost/replica:0/task:0/device:GPU:0 with 0 MB memory) -> physical PluggableDevice (device: 0, name: METAL, pci bus id: <undefined>)\n"
          ]
        }
      ],
      "source": [
        "pre_trained_model = VGG16(\n",
        "    input_shape = (input_size,input_size,3),\n",
        "    include_top = False,\n",
        "    weights='imagenet'\n",
        ")\n"
      ]
    },
    {
      "cell_type": "markdown",
      "metadata": {
        "id": "efoR8KpwGa-i"
      },
      "source": [
        "Start transfer learning process"
      ]
    },
    {
      "cell_type": "code",
      "execution_count": 8,
      "metadata": {},
      "outputs": [],
      "source": [
        "for layer in pre_trained_model.layers:\n",
        "  layer.trainable = False"
      ]
    },
    {
      "cell_type": "code",
      "execution_count": 9,
      "metadata": {
        "id": "ucb7feWOGt3h"
      },
      "outputs": [],
      "source": [
        "import tensorflow as tf\n",
        "#Flatten\n",
        "x = layers.Flatten()(pre_trained_model.output)\n",
        "#Fully connected layer con 1,024 hidden units y ReLU\n",
        "x = layers.Dense(dense_size, activation='relu')(x)\n",
        "x = layers.Dense(dense_size/2, activation='relu')(x)\n",
        "#Dropout rate\n",
        "if (dropout>0):\n",
        "    x = layers.Dropout(dropout)(x)\n",
        "#Binary classification and sigmoid func\n",
        "x = layers.Dense(1,activation='sigmoid')(x)\n",
        "\n",
        "model = Model(pre_trained_model.input,x)\n",
        "\n",
        "model.compile(optimizer = Adam(learning_rate=learning_rate),\n",
        "              loss='binary_crossentropy',\n",
        "              metrics = [tf.keras.metrics.Accuracy(),\n",
        "                         tf.keras.metrics.Precision(), \n",
        "                         tf.keras.metrics.Recall()])"
      ]
    },
    {
      "cell_type": "code",
      "execution_count": 10,
      "metadata": {},
      "outputs": [
        {
          "name": "stdout",
          "output_type": "stream",
          "text": [
            "Model: \"model\"\n",
            "_________________________________________________________________\n",
            " Layer (type)                Output Shape              Param #   \n",
            "=================================================================\n",
            " input_1 (InputLayer)        [(None, 128, 128, 3)]     0         \n",
            "                                                                 \n",
            " block1_conv1 (Conv2D)       (None, 128, 128, 64)      1792      \n",
            "                                                                 \n",
            " block1_conv2 (Conv2D)       (None, 128, 128, 64)      36928     \n",
            "                                                                 \n",
            " block1_pool (MaxPooling2D)  (None, 64, 64, 64)        0         \n",
            "                                                                 \n",
            " block2_conv1 (Conv2D)       (None, 64, 64, 128)       73856     \n",
            "                                                                 \n",
            " block2_conv2 (Conv2D)       (None, 64, 64, 128)       147584    \n",
            "                                                                 \n",
            " block2_pool (MaxPooling2D)  (None, 32, 32, 128)       0         \n",
            "                                                                 \n",
            " block3_conv1 (Conv2D)       (None, 32, 32, 256)       295168    \n",
            "                                                                 \n",
            " block3_conv2 (Conv2D)       (None, 32, 32, 256)       590080    \n",
            "                                                                 \n",
            " block3_conv3 (Conv2D)       (None, 32, 32, 256)       590080    \n",
            "                                                                 \n",
            " block3_pool (MaxPooling2D)  (None, 16, 16, 256)       0         \n",
            "                                                                 \n",
            " block4_conv1 (Conv2D)       (None, 16, 16, 512)       1180160   \n",
            "                                                                 \n",
            " block4_conv2 (Conv2D)       (None, 16, 16, 512)       2359808   \n",
            "                                                                 \n",
            " block4_conv3 (Conv2D)       (None, 16, 16, 512)       2359808   \n",
            "                                                                 \n",
            " block4_pool (MaxPooling2D)  (None, 8, 8, 512)         0         \n",
            "                                                                 \n",
            " block5_conv1 (Conv2D)       (None, 8, 8, 512)         2359808   \n",
            "                                                                 \n",
            " block5_conv2 (Conv2D)       (None, 8, 8, 512)         2359808   \n",
            "                                                                 \n",
            " block5_conv3 (Conv2D)       (None, 8, 8, 512)         2359808   \n",
            "                                                                 \n",
            " block5_pool (MaxPooling2D)  (None, 4, 4, 512)         0         \n",
            "                                                                 \n",
            " flatten (Flatten)           (None, 8192)              0         \n",
            "                                                                 \n",
            " dense (Dense)               (None, 1024)              8389632   \n",
            "                                                                 \n",
            " dropout (Dropout)           (None, 1024)              0         \n",
            "                                                                 \n",
            " dense_1 (Dense)             (None, 1)                 1025      \n",
            "                                                                 \n",
            "=================================================================\n",
            "Total params: 23,105,345\n",
            "Trainable params: 8,390,657\n",
            "Non-trainable params: 14,714,688\n",
            "_________________________________________________________________\n"
          ]
        }
      ],
      "source": [
        "model.summary()"
      ]
    },
    {
      "cell_type": "code",
      "execution_count": 10,
      "metadata": {},
      "outputs": [
        {
          "name": "stdout",
          "output_type": "stream",
          "text": [
            "Saved Model Image\n"
          ]
        }
      ],
      "source": [
        "tf.keras.utils.plot_model(\n",
        "    model,\n",
        "    to_file=f\"{run_prefix}model.png\",\n",
        "    show_shapes=True,\n",
        "    show_dtype=False,\n",
        "    show_layer_names=True,\n",
        "    rankdir=\"TB\",\n",
        "    expand_nested=True,\n",
        "    dpi=96,\n",
        "    layer_range=None,\n",
        "    show_layer_activations=True,\n",
        ")\n",
        "print(\"Saved Model Image\")"
      ]
    },
    {
      "cell_type": "code",
      "execution_count": 11,
      "metadata": {
        "colab": {
          "base_uri": "https://localhost:8080/"
        },
        "id": "mRJn0TwfHCGr",
        "outputId": "5e1c64ab-847d-4dae-94c3-96726d624c0c"
      },
      "outputs": [
        {
          "name": "stdout",
          "output_type": "stream",
          "text": [
            "Epoch 1/100\n",
            "250/250 [==============================] - 62s 213ms/step - loss: 0.2486 - accuracy: 0.0000e+00 - precision: 0.8875 - recall: 0.9093 - val_loss: 0.1450 - val_accuracy: 0.0000e+00 - val_precision: 0.9891 - val_recall: 0.9080\n",
            "Epoch 2/100\n",
            "250/250 [==============================] - 52s 207ms/step - loss: 0.1176 - accuracy: 0.0000e+00 - precision: 0.9516 - recall: 0.9630 - val_loss: 0.0801 - val_accuracy: 0.0000e+00 - val_precision: 0.9846 - val_recall: 0.9620\n",
            "Epoch 3/100\n",
            "250/250 [==============================] - 52s 207ms/step - loss: 0.0854 - accuracy: 0.0000e+00 - precision: 0.9668 - recall: 0.9745 - val_loss: 0.0897 - val_accuracy: 0.0000e+00 - val_precision: 0.9328 - val_recall: 0.9990\n",
            "Epoch 4/100\n",
            "250/250 [==============================] - 52s 207ms/step - loss: 0.0714 - accuracy: 0.0000e+00 - precision: 0.9732 - recall: 0.9805 - val_loss: 0.0620 - val_accuracy: 0.0000e+00 - val_precision: 0.9918 - val_recall: 0.9650\n",
            "Epoch 5/100\n",
            "250/250 [==============================] - 52s 207ms/step - loss: 0.0601 - accuracy: 0.0000e+00 - precision: 0.9758 - recall: 0.9795 - val_loss: 0.0465 - val_accuracy: 0.0000e+00 - val_precision: 0.9821 - val_recall: 0.9850\n",
            "Epoch 6/100\n",
            "250/250 [==============================] - 52s 207ms/step - loss: 0.0506 - accuracy: 0.0000e+00 - precision: 0.9808 - recall: 0.9847 - val_loss: 0.0411 - val_accuracy: 0.0000e+00 - val_precision: 0.9860 - val_recall: 0.9870\n",
            "Epoch 7/100\n",
            "250/250 [==============================] - 52s 207ms/step - loss: 0.0429 - accuracy: 7.5000e-04 - precision: 0.9850 - recall: 0.9870 - val_loss: 0.0420 - val_accuracy: 0.0000e+00 - val_precision: 0.9812 - val_recall: 0.9900\n",
            "Epoch 8/100\n",
            "250/250 [==============================] - 52s 207ms/step - loss: 0.0386 - accuracy: 0.0015 - precision: 0.9872 - recall: 0.9872 - val_loss: 0.0400 - val_accuracy: 0.0000e+00 - val_precision: 0.9929 - val_recall: 0.9810\n",
            "Epoch 9/100\n",
            "250/250 [==============================] - 52s 207ms/step - loss: 0.0369 - accuracy: 0.0012 - precision: 0.9851 - recall: 0.9902 - val_loss: 0.0404 - val_accuracy: 0.0015 - val_precision: 0.9773 - val_recall: 0.9910\n",
            "Epoch 10/100\n",
            "250/250 [==============================] - 52s 207ms/step - loss: 0.0278 - accuracy: 0.0035 - precision: 0.9898 - recall: 0.9925 - val_loss: 0.0360 - val_accuracy: 0.0000e+00 - val_precision: 0.9939 - val_recall: 0.9790\n",
            "Epoch 11/100\n",
            "250/250 [==============================] - 52s 208ms/step - loss: 0.0314 - accuracy: 0.0049 - precision: 0.9873 - recall: 0.9927 - val_loss: 0.0376 - val_accuracy: 0.0050 - val_precision: 0.9784 - val_recall: 0.9960\n",
            "Epoch 12/100\n",
            "250/250 [==============================] - 54s 213ms/step - loss: 0.0219 - accuracy: 0.0085 - precision: 0.9923 - recall: 0.9940 - val_loss: 0.0319 - val_accuracy: 0.0020 - val_precision: 0.9919 - val_recall: 0.9830\n",
            "Epoch 13/100\n",
            "250/250 [==============================] - 53s 210ms/step - loss: 0.0209 - accuracy: 0.0086 - precision: 0.9928 - recall: 0.9940 - val_loss: 0.0336 - val_accuracy: 0.0045 - val_precision: 0.9842 - val_recall: 0.9960\n",
            "Epoch 14/100\n",
            "250/250 [==============================] - 53s 211ms/step - loss: 0.0233 - accuracy: 0.0088 - precision: 0.9920 - recall: 0.9948 - val_loss: 0.0345 - val_accuracy: 0.0035 - val_precision: 0.9899 - val_recall: 0.9850\n",
            "Epoch 15/100\n",
            "250/250 [==============================] - 52s 207ms/step - loss: 0.0178 - accuracy: 0.0162 - precision: 0.9940 - recall: 0.9958 - val_loss: 0.0397 - val_accuracy: 0.0290 - val_precision: 0.9698 - val_recall: 0.9970\n",
            "Epoch 16/100\n",
            "250/250 [==============================] - 52s 206ms/step - loss: 0.0201 - accuracy: 0.0189 - precision: 0.9920 - recall: 0.9950 - val_loss: 0.0462 - val_accuracy: 0.0330 - val_precision: 0.9698 - val_recall: 0.9970\n",
            "Epoch 17/100\n",
            "250/250 [==============================] - 52s 208ms/step - loss: 0.0150 - accuracy: 0.0226 - precision: 0.9958 - recall: 0.9970 - val_loss: 0.0275 - val_accuracy: 0.0165 - val_precision: 0.9890 - val_recall: 0.9930\n",
            "Epoch 18/100\n",
            "250/250 [==============================] - 52s 207ms/step - loss: 0.0146 - accuracy: 0.0358 - precision: 0.9950 - recall: 0.9952 - val_loss: 0.0383 - val_accuracy: 0.0080 - val_precision: 0.9969 - val_recall: 0.9750\n",
            "Epoch 19/100\n",
            "250/250 [==============================] - 53s 212ms/step - loss: 0.0176 - accuracy: 0.0379 - precision: 0.9933 - recall: 0.9945 - val_loss: 0.0312 - val_accuracy: 0.0465 - val_precision: 0.9803 - val_recall: 0.9960\n",
            "Epoch 20/100\n",
            "250/250 [==============================] - 52s 207ms/step - loss: 0.0139 - accuracy: 0.0498 - precision: 0.9955 - recall: 0.9952 - val_loss: 0.0580 - val_accuracy: 0.1015 - val_precision: 0.9551 - val_recall: 0.9990\n",
            "Epoch 21/100\n",
            "250/250 [==============================] - 52s 209ms/step - loss: 0.0141 - accuracy: 0.0527 - precision: 0.9943 - recall: 0.9950 - val_loss: 0.0282 - val_accuracy: 0.0540 - val_precision: 0.9891 - val_recall: 0.9950\n",
            "Epoch 22/100\n",
            "250/250 [==============================] - 54s 214ms/step - loss: 0.0110 - accuracy: 0.0595 - precision: 0.9965 - recall: 0.9973 - val_loss: 0.0280 - val_accuracy: 0.0690 - val_precision: 0.9871 - val_recall: 0.9960\n",
            "Epoch 23/100\n",
            "250/250 [==============================] - 53s 213ms/step - loss: 0.0097 - accuracy: 0.0648 - precision: 0.9968 - recall: 0.9970 - val_loss: 0.0412 - val_accuracy: 0.0140 - val_precision: 0.9979 - val_recall: 0.9700\n",
            "Epoch 24/100\n",
            "250/250 [==============================] - 52s 208ms/step - loss: 0.0119 - accuracy: 0.0671 - precision: 0.9965 - recall: 0.9985 - val_loss: 0.0258 - val_accuracy: 0.0490 - val_precision: 0.9920 - val_recall: 0.9910\n",
            "Epoch 25/100\n",
            "250/250 [==============================] - 53s 210ms/step - loss: 0.0094 - accuracy: 0.0752 - precision: 0.9968 - recall: 0.9980 - val_loss: 0.0260 - val_accuracy: 0.0870 - val_precision: 0.9862 - val_recall: 0.9970\n",
            "Epoch 26/100\n",
            "250/250 [==============================] - 52s 208ms/step - loss: 0.0133 - accuracy: 0.0766 - precision: 0.9953 - recall: 0.9960 - val_loss: 0.0347 - val_accuracy: 0.0425 - val_precision: 0.9980 - val_recall: 0.9780\n",
            "Epoch 27/100\n",
            "250/250 [==============================] - 53s 213ms/step - loss: 0.0111 - accuracy: 0.1007 - precision: 0.9955 - recall: 0.9970 - val_loss: 0.0356 - val_accuracy: 0.1030 - val_precision: 0.9765 - val_recall: 0.9980\n",
            "Epoch 28/100\n",
            "250/250 [==============================] - 53s 210ms/step - loss: 0.0127 - accuracy: 0.0890 - precision: 0.9953 - recall: 0.9960 - val_loss: 0.0324 - val_accuracy: 0.0590 - val_precision: 0.9940 - val_recall: 0.9870\n",
            "Epoch 29/100\n",
            "250/250 [==============================] - 52s 207ms/step - loss: 0.0075 - accuracy: 0.0957 - precision: 0.9970 - recall: 0.9975 - val_loss: 0.0298 - val_accuracy: 0.0665 - val_precision: 0.9950 - val_recall: 0.9890\n",
            "Epoch 30/100\n",
            "250/250 [==============================] - 53s 212ms/step - loss: 0.0080 - accuracy: 0.1168 - precision: 0.9977 - recall: 0.9973 - val_loss: 0.0261 - val_accuracy: 0.0805 - val_precision: 0.9930 - val_recall: 0.9900\n",
            "Epoch 31/100\n",
            "250/250 [==============================] - 53s 212ms/step - loss: 0.0066 - accuracy: 0.1248 - precision: 0.9978 - recall: 0.9980 - val_loss: 0.0287 - val_accuracy: 0.0660 - val_precision: 0.9980 - val_recall: 0.9850\n",
            "Epoch 32/100\n",
            "250/250 [==============================] - 53s 212ms/step - loss: 0.0041 - accuracy: 0.1319 - precision: 0.9990 - recall: 0.9992 - val_loss: 0.0207 - val_accuracy: 0.1220 - val_precision: 0.9930 - val_recall: 0.9960\n",
            "Epoch 33/100\n",
            "250/250 [==============================] - 54s 214ms/step - loss: 0.0032 - accuracy: 0.1357 - precision: 0.9993 - recall: 0.9998 - val_loss: 0.0236 - val_accuracy: 0.0890 - val_precision: 0.9950 - val_recall: 0.9900\n",
            "Epoch 34/100\n",
            "250/250 [==============================] - 52s 208ms/step - loss: 0.0106 - accuracy: 0.1316 - precision: 0.9965 - recall: 0.9973 - val_loss: 0.0251 - val_accuracy: 0.0695 - val_precision: 0.9950 - val_recall: 0.9880\n",
            "Epoch 35/100\n",
            "250/250 [==============================] - 52s 209ms/step - loss: 0.0060 - accuracy: 0.1235 - precision: 0.9983 - recall: 0.9983 - val_loss: 0.0377 - val_accuracy: 0.1815 - val_precision: 0.9765 - val_recall: 0.9980\n",
            "Epoch 36/100\n",
            "250/250 [==============================] - 52s 208ms/step - loss: 0.0060 - accuracy: 0.1315 - precision: 0.9978 - recall: 0.9985 - val_loss: 0.0258 - val_accuracy: 0.0955 - val_precision: 0.9930 - val_recall: 0.9890\n",
            "Epoch 37/100\n",
            "250/250 [==============================] - 53s 213ms/step - loss: 0.0060 - accuracy: 0.1389 - precision: 0.9980 - recall: 0.9983 - val_loss: 0.0227 - val_accuracy: 0.1285 - val_precision: 0.9920 - val_recall: 0.9960\n",
            "Epoch 38/100\n",
            "250/250 [==============================] - 54s 215ms/step - loss: 0.0062 - accuracy: 0.1542 - precision: 0.9982 - recall: 0.9975 - val_loss: 0.0342 - val_accuracy: 0.1895 - val_precision: 0.9813 - val_recall: 0.9960\n",
            "Epoch 39/100\n",
            "250/250 [==============================] - 52s 207ms/step - loss: 0.0065 - accuracy: 0.1567 - precision: 0.9982 - recall: 0.9977 - val_loss: 0.0322 - val_accuracy: 0.1905 - val_precision: 0.9832 - val_recall: 0.9940\n",
            "Epoch 40/100\n",
            "250/250 [==============================] - 54s 214ms/step - loss: 0.0078 - accuracy: 0.1782 - precision: 0.9968 - recall: 0.9980 - val_loss: 0.0504 - val_accuracy: 0.2285 - val_precision: 0.9708 - val_recall: 0.9990\n",
            "Epoch 41/100\n",
            "250/250 [==============================] - 52s 208ms/step - loss: 0.0113 - accuracy: 0.1715 - precision: 0.9948 - recall: 0.9955 - val_loss: 0.0225 - val_accuracy: 0.1655 - val_precision: 0.9960 - val_recall: 0.9930\n",
            "Epoch 42/100\n",
            "250/250 [==============================] - 52s 207ms/step - loss: 0.0067 - accuracy: 0.1846 - precision: 0.9978 - recall: 0.9983 - val_loss: 0.0243 - val_accuracy: 0.1820 - val_precision: 0.9900 - val_recall: 0.9940\n",
            "Epoch 43/100\n",
            "250/250 [==============================] - 52s 207ms/step - loss: 0.0030 - accuracy: 0.1826 - precision: 0.9985 - recall: 0.9995 - val_loss: 0.0217 - val_accuracy: 0.1735 - val_precision: 0.9960 - val_recall: 0.9920\n",
            "Epoch 44/100\n",
            "250/250 [==============================] - 52s 208ms/step - loss: 0.0025 - accuracy: 0.1999 - precision: 0.9995 - recall: 0.9995 - val_loss: 0.0246 - val_accuracy: 0.2065 - val_precision: 0.9920 - val_recall: 0.9940\n",
            "Epoch 45/100\n",
            "250/250 [==============================] - 53s 210ms/step - loss: 0.0015 - accuracy: 0.2189 - precision: 1.0000 - recall: 1.0000 - val_loss: 0.0208 - val_accuracy: 0.2290 - val_precision: 0.9950 - val_recall: 0.9950\n",
            "Epoch 46/100\n",
            "250/250 [==============================] - 54s 214ms/step - loss: 0.0016 - accuracy: 0.2163 - precision: 0.9995 - recall: 0.9998 - val_loss: 0.0224 - val_accuracy: 0.1930 - val_precision: 0.9930 - val_recall: 0.9930\n",
            "Epoch 47/100\n",
            "250/250 [==============================] - 53s 210ms/step - loss: 0.0038 - accuracy: 0.1949 - precision: 0.9985 - recall: 0.9987 - val_loss: 0.0240 - val_accuracy: 0.1395 - val_precision: 0.9980 - val_recall: 0.9880\n",
            "Epoch 48/100\n",
            "250/250 [==============================] - 52s 208ms/step - loss: 0.0048 - accuracy: 0.1929 - precision: 0.9990 - recall: 0.9980 - val_loss: 0.0264 - val_accuracy: 0.1520 - val_precision: 0.9970 - val_recall: 0.9890\n",
            "Epoch 49/100\n",
            "250/250 [==============================] - 52s 208ms/step - loss: 0.0061 - accuracy: 0.2035 - precision: 0.9985 - recall: 0.9983 - val_loss: 0.0254 - val_accuracy: 0.1895 - val_precision: 0.9950 - val_recall: 0.9910\n",
            "Epoch 50/100\n",
            "250/250 [==============================] - 53s 212ms/step - loss: 0.0035 - accuracy: 0.2156 - precision: 0.9990 - recall: 0.9990 - val_loss: 0.0255 - val_accuracy: 0.2335 - val_precision: 0.9930 - val_recall: 0.9950\n",
            "Epoch 51/100\n",
            "250/250 [==============================] - 53s 212ms/step - loss: 0.0125 - accuracy: 0.2254 - precision: 0.9953 - recall: 0.9958 - val_loss: 0.0312 - val_accuracy: 0.2100 - val_precision: 0.9842 - val_recall: 0.9940\n",
            "Epoch 52/100\n",
            "250/250 [==============================] - 54s 215ms/step - loss: 0.0196 - accuracy: 0.2141 - precision: 0.9918 - recall: 0.9927 - val_loss: 0.0208 - val_accuracy: 0.2010 - val_precision: 0.9960 - val_recall: 0.9940\n",
            "Epoch 53/100\n",
            "250/250 [==============================] - 53s 210ms/step - loss: 0.0048 - accuracy: 0.2383 - precision: 0.9983 - recall: 0.9987 - val_loss: 0.0251 - val_accuracy: 0.2225 - val_precision: 0.9940 - val_recall: 0.9940\n",
            "Epoch 54/100\n",
            "250/250 [==============================] - 54s 215ms/step - loss: 0.0030 - accuracy: 0.2524 - precision: 0.9990 - recall: 0.9990 - val_loss: 0.0245 - val_accuracy: 0.2135 - val_precision: 0.9940 - val_recall: 0.9940\n",
            "Epoch 55/100\n",
            "250/250 [==============================] - 54s 213ms/step - loss: 0.0022 - accuracy: 0.2531 - precision: 0.9993 - recall: 0.9995 - val_loss: 0.0232 - val_accuracy: 0.2320 - val_precision: 0.9950 - val_recall: 0.9950\n",
            "Epoch 56/100\n",
            "250/250 [==============================] - 53s 212ms/step - loss: 0.0018 - accuracy: 0.2503 - precision: 0.9997 - recall: 0.9992 - val_loss: 0.0272 - val_accuracy: 0.3005 - val_precision: 0.9901 - val_recall: 0.9960\n",
            "Epoch 57/100\n",
            "250/250 [==============================] - 53s 209ms/step - loss: 0.0026 - accuracy: 0.2501 - precision: 0.9993 - recall: 0.9995 - val_loss: 0.0279 - val_accuracy: 0.1885 - val_precision: 0.9970 - val_recall: 0.9880\n",
            "Epoch 58/100\n",
            "250/250 [==============================] - 54s 214ms/step - loss: 0.0016 - accuracy: 0.2644 - precision: 0.9995 - recall: 0.9998 - val_loss: 0.0241 - val_accuracy: 0.2085 - val_precision: 0.9970 - val_recall: 0.9920\n",
            "Epoch 59/100\n",
            "250/250 [==============================] - 54s 214ms/step - loss: 0.0020 - accuracy: 0.2554 - precision: 0.9995 - recall: 0.9992 - val_loss: 0.0220 - val_accuracy: 0.2305 - val_precision: 0.9960 - val_recall: 0.9950\n",
            "Epoch 60/100\n",
            "250/250 [==============================] - 54s 213ms/step - loss: 0.0039 - accuracy: 0.2425 - precision: 0.9985 - recall: 0.9987 - val_loss: 0.0322 - val_accuracy: 0.2800 - val_precision: 0.9891 - val_recall: 0.9960\n",
            "Epoch 61/100\n",
            "250/250 [==============================] - 53s 212ms/step - loss: 0.0034 - accuracy: 0.2544 - precision: 0.9990 - recall: 0.9985 - val_loss: 0.0275 - val_accuracy: 0.2435 - val_precision: 0.9950 - val_recall: 0.9930\n",
            "Epoch 62/100\n",
            "250/250 [==============================] - 54s 216ms/step - loss: 0.0042 - accuracy: 0.2601 - precision: 0.9988 - recall: 0.9990 - val_loss: 0.0292 - val_accuracy: 0.2915 - val_precision: 0.9891 - val_recall: 0.9970\n",
            "Epoch 63/100\n",
            "250/250 [==============================] - 54s 215ms/step - loss: 0.0033 - accuracy: 0.2824 - precision: 0.9995 - recall: 0.9985 - val_loss: 0.0337 - val_accuracy: 0.3205 - val_precision: 0.9813 - val_recall: 0.9970\n",
            "Epoch 64/100\n",
            "250/250 [==============================] - 54s 215ms/step - loss: 0.0038 - accuracy: 0.2680 - precision: 0.9988 - recall: 0.9995 - val_loss: 0.0263 - val_accuracy: 0.2665 - val_precision: 0.9930 - val_recall: 0.9940\n",
            "Epoch 65/100\n",
            "250/250 [==============================] - 54s 214ms/step - loss: 0.0048 - accuracy: 0.2696 - precision: 0.9990 - recall: 0.9992 - val_loss: 0.0256 - val_accuracy: 0.2675 - val_precision: 0.9950 - val_recall: 0.9930\n",
            "Epoch 66/100\n",
            "250/250 [==============================] - 53s 212ms/step - loss: 0.0066 - accuracy: 0.2688 - precision: 0.9977 - recall: 0.9977 - val_loss: 0.0276 - val_accuracy: 0.3040 - val_precision: 0.9900 - val_recall: 0.9940\n",
            "Epoch 67/100\n",
            "250/250 [==============================] - 54s 214ms/step - loss: 0.0100 - accuracy: 0.2764 - precision: 0.9967 - recall: 0.9962 - val_loss: 0.0331 - val_accuracy: 0.3095 - val_precision: 0.9871 - val_recall: 0.9950\n",
            "Epoch 68/100\n",
            "250/250 [==============================] - 54s 215ms/step - loss: 0.0025 - accuracy: 0.2855 - precision: 0.9992 - recall: 0.9990 - val_loss: 0.0261 - val_accuracy: 0.2885 - val_precision: 0.9891 - val_recall: 0.9950\n",
            "Epoch 69/100\n",
            "250/250 [==============================] - 54s 215ms/step - loss: 0.0027 - accuracy: 0.2921 - precision: 0.9990 - recall: 0.9992 - val_loss: 0.0266 - val_accuracy: 0.3080 - val_precision: 0.9910 - val_recall: 0.9960\n",
            "Epoch 70/100\n",
            "250/250 [==============================] - 54s 215ms/step - loss: 0.0047 - accuracy: 0.2756 - precision: 0.9985 - recall: 0.9987 - val_loss: 0.0404 - val_accuracy: 0.3480 - val_precision: 0.9823 - val_recall: 0.9970\n",
            "Epoch 71/100\n",
            "250/250 [==============================] - 54s 215ms/step - loss: 0.0035 - accuracy: 0.2812 - precision: 0.9985 - recall: 0.9987 - val_loss: 0.0279 - val_accuracy: 0.2985 - val_precision: 0.9930 - val_recall: 0.9930\n",
            "Epoch 72/100\n",
            "250/250 [==============================] - 54s 215ms/step - loss: 0.0032 - accuracy: 0.2815 - precision: 0.9985 - recall: 0.9985 - val_loss: 0.0313 - val_accuracy: 0.2640 - val_precision: 0.9970 - val_recall: 0.9910\n",
            "Epoch 73/100\n",
            "250/250 [==============================] - 54s 217ms/step - loss: 0.0027 - accuracy: 0.3106 - precision: 0.9990 - recall: 0.9992 - val_loss: 0.0279 - val_accuracy: 0.2965 - val_precision: 0.9891 - val_recall: 0.9950\n",
            "Epoch 74/100\n",
            "250/250 [==============================] - 56s 224ms/step - loss: 0.0055 - accuracy: 0.2805 - precision: 0.9975 - recall: 0.9985 - val_loss: 0.0328 - val_accuracy: 0.2675 - val_precision: 0.9940 - val_recall: 0.9920\n",
            "Epoch 75/100\n",
            "250/250 [==============================] - 53s 210ms/step - loss: 0.0021 - accuracy: 0.2931 - precision: 0.9995 - recall: 0.9992 - val_loss: 0.0285 - val_accuracy: 0.3065 - val_precision: 0.9910 - val_recall: 0.9940\n",
            "Epoch 76/100\n",
            "250/250 [==============================] - 55s 218ms/step - loss: 7.2362e-04 - accuracy: 0.3113 - precision: 1.0000 - recall: 1.0000 - val_loss: 0.0332 - val_accuracy: 0.3470 - val_precision: 0.9871 - val_recall: 0.9950\n",
            "Epoch 77/100\n",
            "250/250 [==============================] - 54s 216ms/step - loss: 0.0010 - accuracy: 0.3164 - precision: 1.0000 - recall: 0.9998 - val_loss: 0.0339 - val_accuracy: 0.2705 - val_precision: 0.9970 - val_recall: 0.9900\n",
            "Epoch 78/100\n",
            "250/250 [==============================] - 55s 221ms/step - loss: 0.0039 - accuracy: 0.3058 - precision: 0.9995 - recall: 0.9987 - val_loss: 0.0357 - val_accuracy: 0.3345 - val_precision: 0.9881 - val_recall: 0.9950\n",
            "Epoch 79/100\n",
            "250/250 [==============================] - 55s 218ms/step - loss: 0.0033 - accuracy: 0.3084 - precision: 0.9990 - recall: 0.9987 - val_loss: 0.0417 - val_accuracy: 0.2290 - val_precision: 0.9980 - val_recall: 0.9810\n",
            "Epoch 80/100\n",
            "250/250 [==============================] - 54s 216ms/step - loss: 0.0083 - accuracy: 0.3010 - precision: 0.9973 - recall: 0.9977 - val_loss: 0.0409 - val_accuracy: 0.2915 - val_precision: 0.9940 - val_recall: 0.9860\n",
            "Epoch 81/100\n",
            "250/250 [==============================] - 55s 217ms/step - loss: 0.0083 - accuracy: 0.3079 - precision: 0.9968 - recall: 0.9970 - val_loss: 0.0517 - val_accuracy: 0.1965 - val_precision: 0.9969 - val_recall: 0.9730\n",
            "Epoch 82/100\n",
            "250/250 [==============================] - 55s 219ms/step - loss: 0.0042 - accuracy: 0.3136 - precision: 0.9980 - recall: 0.9985 - val_loss: 0.0431 - val_accuracy: 0.2405 - val_precision: 0.9969 - val_recall: 0.9790\n",
            "Epoch 83/100\n",
            "250/250 [==============================] - 55s 218ms/step - loss: 0.0021 - accuracy: 0.3194 - precision: 0.9990 - recall: 0.9990 - val_loss: 0.0372 - val_accuracy: 0.3805 - val_precision: 0.9832 - val_recall: 0.9970\n",
            "Epoch 84/100\n",
            "250/250 [==============================] - 55s 217ms/step - loss: 0.0012 - accuracy: 0.3304 - precision: 0.9995 - recall: 0.9998 - val_loss: 0.0244 - val_accuracy: 0.3200 - val_precision: 0.9930 - val_recall: 0.9940\n",
            "Epoch 85/100\n",
            "250/250 [==============================] - 55s 218ms/step - loss: 8.1060e-04 - accuracy: 0.3369 - precision: 0.9998 - recall: 0.9998 - val_loss: 0.0525 - val_accuracy: 0.4195 - val_precision: 0.9746 - val_recall: 0.9990\n",
            "Epoch 86/100\n",
            "250/250 [==============================] - 55s 219ms/step - loss: 0.0015 - accuracy: 0.3354 - precision: 0.9995 - recall: 0.9998 - val_loss: 0.0497 - val_accuracy: 0.4150 - val_precision: 0.9756 - val_recall: 0.9990\n",
            "Epoch 87/100\n",
            "250/250 [==============================] - 55s 219ms/step - loss: 0.0023 - accuracy: 0.3198 - precision: 0.9993 - recall: 0.9995 - val_loss: 0.0243 - val_accuracy: 0.3335 - val_precision: 0.9910 - val_recall: 0.9950\n",
            "Epoch 88/100\n",
            "250/250 [==============================] - 55s 219ms/step - loss: 4.8853e-04 - accuracy: 0.3421 - precision: 1.0000 - recall: 1.0000 - val_loss: 0.0253 - val_accuracy: 0.3490 - val_precision: 0.9940 - val_recall: 0.9950\n",
            "Epoch 89/100\n",
            "250/250 [==============================] - 54s 216ms/step - loss: 0.0040 - accuracy: 0.3394 - precision: 0.9987 - recall: 0.9985 - val_loss: 0.0976 - val_accuracy: 0.4180 - val_precision: 0.9597 - val_recall: 0.9990\n",
            "Epoch 90/100\n",
            "250/250 [==============================] - 55s 217ms/step - loss: 0.0057 - accuracy: 0.3100 - precision: 0.9980 - recall: 0.9980 - val_loss: 0.0307 - val_accuracy: 0.3245 - val_precision: 0.9900 - val_recall: 0.9950\n",
            "Epoch 91/100\n",
            "250/250 [==============================] - 56s 222ms/step - loss: 0.0068 - accuracy: 0.3309 - precision: 0.9975 - recall: 0.9975 - val_loss: 0.0801 - val_accuracy: 0.3970 - val_precision: 0.9660 - val_recall: 0.9950\n",
            "Epoch 92/100\n",
            "250/250 [==============================] - 55s 217ms/step - loss: 0.0075 - accuracy: 0.3299 - precision: 0.9975 - recall: 0.9975 - val_loss: 0.0295 - val_accuracy: 0.3395 - val_precision: 0.9900 - val_recall: 0.9950\n",
            "Epoch 93/100\n",
            "250/250 [==============================] - 54s 214ms/step - loss: 0.0020 - accuracy: 0.3461 - precision: 0.9993 - recall: 0.9995 - val_loss: 0.0306 - val_accuracy: 0.3570 - val_precision: 0.9920 - val_recall: 0.9940\n",
            "Epoch 94/100\n",
            "250/250 [==============================] - 55s 218ms/step - loss: 6.7429e-04 - accuracy: 0.3435 - precision: 1.0000 - recall: 1.0000 - val_loss: 0.0274 - val_accuracy: 0.3445 - val_precision: 0.9940 - val_recall: 0.9950\n",
            "Epoch 95/100\n",
            "250/250 [==============================] - 55s 218ms/step - loss: 9.3510e-04 - accuracy: 0.3606 - precision: 1.0000 - recall: 1.0000 - val_loss: 0.0377 - val_accuracy: 0.4015 - val_precision: 0.9861 - val_recall: 0.9960\n",
            "Epoch 96/100\n",
            "250/250 [==============================] - 54s 214ms/step - loss: 0.0019 - accuracy: 0.3615 - precision: 0.9995 - recall: 0.9992 - val_loss: 0.0271 - val_accuracy: 0.2990 - val_precision: 0.9950 - val_recall: 0.9900\n",
            "Epoch 97/100\n",
            "250/250 [==============================] - 55s 219ms/step - loss: 0.0076 - accuracy: 0.3344 - precision: 0.9968 - recall: 0.9973 - val_loss: 0.0302 - val_accuracy: 0.2830 - val_precision: 0.9940 - val_recall: 0.9940\n",
            "Epoch 98/100\n",
            "250/250 [==============================] - 54s 216ms/step - loss: 0.0042 - accuracy: 0.3331 - precision: 0.9978 - recall: 0.9987 - val_loss: 0.0308 - val_accuracy: 0.3610 - val_precision: 0.9920 - val_recall: 0.9960\n",
            "Epoch 99/100\n",
            "250/250 [==============================] - 53s 211ms/step - loss: 0.0013 - accuracy: 0.3573 - precision: 1.0000 - recall: 0.9998 - val_loss: 0.0311 - val_accuracy: 0.3935 - val_precision: 0.9910 - val_recall: 0.9960\n",
            "Epoch 100/100\n",
            "250/250 [==============================] - 54s 213ms/step - loss: 0.0078 - accuracy: 0.3499 - precision: 0.9967 - recall: 0.9965 - val_loss: 0.0279 - val_accuracy: 0.3160 - val_precision: 0.9960 - val_recall: 0.9900\n"
          ]
        }
      ],
      "source": [
        "import datetime\n",
        "\n",
        "tensorboard_callback = tf.keras.callbacks.TensorBoard(log_dir=log_dir, histogram_freq=1)\n",
        "history = model.fit(\n",
        "    train_generator,\n",
        "    validation_data = test_generator,\n",
        "    steps_per_epoch = train_size/batch_size,\n",
        "    epochs = epochs,\n",
        "    validation_steps = test_size/batch_size,\n",
        "    callbacks=[tensorboard_callback]\n",
        ")"
      ]
    },
    {
      "cell_type": "code",
      "execution_count": 12,
      "metadata": {
        "id": "YRX7r_azHO4N"
      },
      "outputs": [
        {
          "data": {
            "image/png": "[encoded data removed]",
            "text/plain": [
              "<Figure size 432x288 with 1 Axes>"
            ]
          },
          "metadata": {
            "needs_background": "light"
          },
          "output_type": "display_data"
        },
        {
          "data": {
            "image/png": "[encoded data removed]",
            "text/plain": [
              "<Figure size 432x288 with 1 Axes>"
            ]
          },
          "metadata": {
            "needs_background": "light"
          },
          "output_type": "display_data"
        }
      ],
      "source": [
        "import matplotlib.pyplot as plt\n",
        "acc = history.history['accuracy']\n",
        "val_acc = history.history['val_accuracy']\n",
        "loss = history.history['loss']\n",
        "val_loss = history.history['val_loss']\n",
        "precision = history.history['precision']\n",
        "recall = history.history['recall']\n",
        "\n",
        "epochs = range(len(acc))\n",
        "\n",
        "plt.plot(epochs, acc, 'bo', label='Training accuracy')\n",
        "plt.plot(epochs, val_acc, 'b', label='Validation accuracy')\n",
        "plt.title('Training and validation accuracy')\n",
        "plt.savefig(f\"{run_prefix}acc.svg\")\n",
        "plt.figure()\n",
        "\n",
        "\n",
        "plt.plot(epochs, loss, 'bo', label='Training Loss')\n",
        "plt.plot(epochs, val_loss, 'b', label='Validation Loss')\n",
        "plt.title('Training and validation loss')\n",
        "plt.legend()\n",
        "plt.savefig(f\"{run_prefix}loss.svg\")\n",
        "\n",
        "plt.show()"
      ]
    },
    {
      "cell_type": "code",
      "execution_count": 13,
      "metadata": {
        "id": "IDCPxBt6HKOf"
      },
      "outputs": [],
      "source": [
        "#model.save(f\"{run_prefix}{model_current}.h5\")"
      ]
    },
    {
      "cell_type": "code",
      "execution_count": 14,
      "metadata": {},
      "outputs": [],
      "source": [
        "import csv\n",
        "\n",
        "header = [\"train_acc\", \"val_acc\", \"train_loss\", \"val_loss\", \"precision\", \"recall\"]\n",
        "\n",
        "with open(f'{results_prefix}metrics.csv', 'w', encoding='UTF8', newline='') as f:\n",
        "    writer = csv.writer(f)\n",
        "\n",
        "    # write the header\n",
        "    writer.writerow(header)\n",
        "    for idx in range(len(acc)):\n",
        "        line = [acc[idx],val_acc[idx],loss[idx],val_loss[idx], precision[idx], recall[idx]]        \n",
        "        writer.writerow(line)\n"
      ]
    }
  ],
  "metadata": {
    "colab": {
      "name": "apple-rotten-vgg16.ipynb",
      "provenance": []
    },
    "kernelspec": {
      "display_name": "Python 3.10.5 ('vgg')",
      "language": "python",
      "name": "python3"
    },
    "language_info": {
      "codemirror_mode": {
        "name": "ipython",
        "version": 3
      },
      "file_extension": ".py",
      "mimetype": "text/x-python",
      "name": "python",
      "nbconvert_exporter": "python",
      "pygments_lexer": "ipython3",
      "version": "3.10.5"
    },
    "vscode": {
      "interpreter": {
        "hash": "ff58de072d64611dbae8c4170fcafe8ac36933b60b8ebb2ab3f373fa4c0cda03"
      }
    }
  },
  "nbformat": 4,
  "nbformat_minor": 0
}
